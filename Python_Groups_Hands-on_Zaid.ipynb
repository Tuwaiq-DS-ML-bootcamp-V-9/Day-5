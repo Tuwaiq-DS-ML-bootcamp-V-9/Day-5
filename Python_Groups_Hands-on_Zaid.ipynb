{
 "cells": [
  {
   "cell_type": "markdown",
   "metadata": {
    "id": "kZXiW0-J0-2x"
   },
   "source": [
    "# Python_Groups_Hands-on\n"
   ]
  },
  {
   "cell_type": "markdown",
   "metadata": {
    "id": "I05A6_S80-2y"
   },
   "source": [
    "## Project: Library Management System\n",
    "### Description:\n",
    "- Develop a basic Library Management System (LMS) that allows users to manage book records, including adding, updating, deleting, and displaying book information. The system should also provide basic statistical analysis.\n",
    "\n",
    "### System requirements:\n",
    "\n",
    "#### Data Structure Design:\n",
    "\n",
    "  - Define data structures using lists, tuples, dictionaries, and sets to store book information (e.g., book ID, title, author, year, genres).\n",
    "\n",
    "#### Basic Operations:\n",
    "\n",
    "- Implement functions to add, update, delete, and display book records.\n",
    "- Ensure proper type conversion and validation of inputs.\n",
    "\n",
    "#### Statistical Analysis:\n",
    "\n",
    "- Write functions to calculate and display the total number of books, the average publication year, and the most common genre.\n",
    "- Use list comprehensions and built-in functions (sort, len, zip, range) for calculations.\n",
    "\n",
    "#### Advanced Features:\n",
    "\n",
    "- Implement search functionality to find books by title or author using lambda functions.\n",
    "- Provide sorting options for book records based on different criteria (e.g., title, year).\n",
    "\n",
    "\n",
    "#### Exception Handling:\n",
    "\n",
    "- Handle potential errors (e.g., invalid input) using try-except blocks."
   ]
  },
  {
   "cell_type": "markdown",
   "metadata": {
    "id": "rXuH9y0_D76o"
   },
   "source": [
    "#### Q1: Using the following table, create a function to add these books to your library:\n",
    "\n",
    "\n",
    "\n",
    "| Book ID | Title                            | Author               | Year | Genres                              |\n",
    "|---------|----------------------------------|----------------------|------|-------------------------------------|\n",
    "| 1       | Harry Potter and the Sorcerer's Stone | J.K. Rowling         | 1997 | Fantasy, Young Adult                |\n",
    "| 2       | To Kill a Mockingbird             | Harper Lee           | 1960 | Fiction, Classics                   |\n",
    "| 3       | The Great Gatsby                  | F. Scott Fitzgerald  | 1925 | Fiction, Classics                   |\n",
    "| 4       | 1984                              | George Orwell        | 1949 | Fiction, Dystopian                  |\n",
    "| 5       | The Catcher in the Rye            | J.D. Salinger        | 1951 | Fiction, Classics                   |\n",
    "| 6       | Pride and Prejudice               | Jane Austen          | 1813 | Fiction, Romance, Classics          |\n",
    "| 7       | The Hobbit                        | J.R.R. Tolkien       | 1937 | Fantasy, Adventure                  |\n",
    "| 8       | The Hunger Games                  | Suzanne Collins      | 2008 | Science Fiction, Dystopian, Young Adult |\n",
    "| 9       | The Da Vinci Code                 | Dan Brown            | 2003 | Mystery, Thriller                   |\n",
    "| 10      | The Chronicles of Narnia          | C.S. Lewis           | 1950 | Fantasy, Children's Literature      |\n",
    "| 11      | Gone with the Wind                | Margaret Mitchell    | 1936 | Historical Fiction, Romance         |\n",
    "| 12      | Sapiens: A Brief History of Humankind | Yuval Noah Harari   | 2011 | Nonfiction, History, Science        |\n",
    "| 13      | The Road                          | Cormac McCarthy      | 2006 | Fiction, Post-Apocalyptic           |\n",
    "| 14      | The Girl with the Dragon Tattoo   | Stieg Larsson        | 2005 | Mystery, Thriller                   |\n",
    "| 15      | The Alchemist                     | Paulo Coelho         | 1988 | Fiction, Inspirational              |\n"
   ]
  },
  {
   "cell_type": "markdown",
   "metadata": {},
   "source": [
    "### Expected output:\n",
    "~~~~~~~~~~~~~~~~~~~~~~~~~\n",
    "{1: {'title': 'title',\n",
    "  'author': 'author',\n",
    "  'year': 2025,\n",
    "  'genres': ['genre 1', 'genre 2', 'genre 3']}}\n",
    "  ~~~~~~~~~~~~~~~~~~~~~~~~~"
   ]
  },
  {
   "cell_type": "code",
   "execution_count": 2,
   "metadata": {
    "id": "BzV_B_g20-2z"
   },
   "outputs": [
    {
     "data": {
      "text/plain": [
       "{1: {'title': \"Harry Potter and the Sorcerer's Stone\",\n",
       "  'author': 'Harper Lee',\n",
       "  'year': 1997,\n",
       "  'genres': ['Fantasy', 'Young Adult']},\n",
       " 2: {'title': 'To Kill a Mockingbird',\n",
       "  'author': 'Harper Lee',\n",
       "  'year': 1960,\n",
       "  'genres': ['Fiction', 'Classics']},\n",
       " 3: {'title': 'The Great Gatsby',\n",
       "  'author': 'F. Scott Fitzgerald',\n",
       "  'year': 1925,\n",
       "  'genres': ['Fiction', 'Classics']},\n",
       " 4: {'title': '1984',\n",
       "  'author': 'George Orwell',\n",
       "  'year': 1949,\n",
       "  'genres': ['Fiction', 'Dystopian']},\n",
       " 5: {'title': 'The Catcher in the Rye',\n",
       "  'author': 'J.D. Salinger',\n",
       "  'year': 1951,\n",
       "  'genres': ['Fiction', 'Classics']},\n",
       " 6: {'title': 'Pride and Prejudice',\n",
       "  'author': 'Jane Austen',\n",
       "  'year': 1813,\n",
       "  'genres': ['Fiction', 'Romance', 'Classics']},\n",
       " 7: {'title': 'The Hobbit',\n",
       "  'author': 'J.R.R. Tolkien',\n",
       "  'year': 1937,\n",
       "  'genres': ['Fantasy', 'Adventure']},\n",
       " 8: {'title': 'The Hunger Games',\n",
       "  'author': 'Suzanne Collins',\n",
       "  'year': 2008,\n",
       "  'genres': ['Science Fiction', 'Dystopian', 'Young Adult']},\n",
       " 9: {'title': 'The Da Vinci Code',\n",
       "  'author': 'Dan Brown',\n",
       "  'year': 2003,\n",
       "  'genres': ['Mystery', 'Thriller']},\n",
       " 10: {'title': 'The Chronicles of Narnia',\n",
       "  'author': 'C.S. Lewis',\n",
       "  'year': 1950,\n",
       "  'genres': ['Fantasy', \"Children's Literature\"]},\n",
       " 11: {'title': 'Gone with the Wind',\n",
       "  'author': 'Margaret Mitchell',\n",
       "  'year': 1936,\n",
       "  'genres': ['Historical', 'Fiction', 'Romance']},\n",
       " 12: {'title': 'Sapiens: A Brief History of Humankind',\n",
       "  'author': 'Yuval Noah Harari',\n",
       "  'year': 2011,\n",
       "  'genres': ['Nonfiction', 'History', 'Science']},\n",
       " 13: {'title': 'The Road',\n",
       "  'author': 'Cormac McCarthy',\n",
       "  'year': 2006,\n",
       "  'genres': ['Fiction', 'Post-Apocalyptic']},\n",
       " 14: {'title': 'The Girl with the Dragon Tattoo',\n",
       "  'author': 'Stieg Larsson',\n",
       "  'year': 2005,\n",
       "  'genres': ['Mystery', 'Thriller']},\n",
       " 15: {'title': 'The Alchemist',\n",
       "  'author': 'Paulo Coelho',\n",
       "  'year': 1988,\n",
       "  'genres': ['Fiction', 'Inspirational']}}"
      ]
     },
     "execution_count": 2,
     "metadata": {},
     "output_type": "execute_result"
    }
   ],
   "source": [
    "# write your code here ^_^\n",
    "table={}\n",
    "def add (id,title ,author,year,genres):\n",
    "    if id not in table:\n",
    "        table[id]={\"title\":title,\"author\":author,\"year\":year,\"genres\":genres}\n",
    "    else:\n",
    "        print(f\"Book with ID {id} already exists.\")\n",
    "    \n",
    "add(1,\"Harry Potter and the Sorcerer's Stone\",\"Harper Lee\",1997,[\"Fantasy\", \"Young Adult\"])\n",
    "add(2, \"To Kill a Mockingbird\", \"Harper Lee\", 1960, [\"Fiction\", \"Classics\"]),\n",
    "add(3, \"The Great Gatsby\", \"F. Scott Fitzgerald\", 1925, [\"Fiction\", \"Classics\"]),\n",
    "add(4, \"1984\", \"George Orwell\", 1949, [\"Fiction\", \"Dystopian\"]),\n",
    "add(5, \"The Catcher in the Rye\", \"J.D. Salinger\", 1951, [\"Fiction\",\"Classics\"]),\n",
    "add(6, \"Pride and Prejudice\", \"Jane Austen\", 1813, [\"Fiction\", \"Romance\", \"Classics\"]),\n",
    "add(7, \"The Hobbit\", \"J.R.R. Tolkien\", 1937, [\"Fantasy\", \"Adventure\"]),\n",
    "add(8, \"The Hunger Games\", \"Suzanne Collins\", 2008, [\"Science Fiction\", \"Dystopian\", \"Young Adult\"]),\n",
    "add(9, \"The Da Vinci Code\", \"Dan Brown\", 2003, [\"Mystery\", \"Thriller\"]),\n",
    "add(10, \"The Chronicles of Narnia\", \"C.S. Lewis\", 1950, [\"Fantasy\", \"Children's Literature\"]),\n",
    "add(11, \"Gone with the Wind\", \"Margaret Mitchell\", 1936, [\"Historical\" ,\"Fiction\", \"Romance\"]),\n",
    "add(12, \"Sapiens: A Brief History of Humankind\", \"Yuval Noah Harari\", 2011, [\"Nonfiction\", \"History\", \"Science\"]),\n",
    "add(13, \"The Road\", \"Cormac McCarthy\", 2006, [\"Fiction\", \"Post-Apocalyptic\"]),\n",
    "add(14, \"The Girl with the Dragon Tattoo\", \"Stieg Larsson\", 2005, [\"Mystery\",\"Thriller\"]),\n",
    "add(15, \"The Alchemist\", \"Paulo Coelho\", 1988, [\"Fiction\", \"Inspirational\"])\n",
    "\n",
    "\n",
    "table\n"
   ]
  },
  {
   "cell_type": "markdown",
   "metadata": {
    "id": "kR5bvgOsF3oJ"
   },
   "source": [
    "#### Q2: Create a function that updates books exsisted in your library and test it.\n",
    "- **Note**: If the user entered wrong book ID it should print \"Book with ID 'num' does not exist."
   ]
  },
  {
   "cell_type": "markdown",
   "metadata": {},
   "source": [
    "### Expected output:\n",
    "~~~~~~~~~~~~~~~~~~~~~~~~~\n",
    "Book with ID 16 does not exist.\n",
    "\n",
    "Book with ID 1 info updated.\n",
    "~~~~~~~~~~~~~~~~~~~~~~~~~"
   ]
  },
  {
   "cell_type": "code",
   "execution_count": 3,
   "metadata": {
    "id": "U60cFkbUUYmj"
   },
   "outputs": [
    {
     "name": "stdout",
     "output_type": "stream",
     "text": [
      "Book with ID 1 info updated.\n",
      "Book with ID 16 does not exist.\n"
     ]
    },
    {
     "data": {
      "text/plain": [
       "{1: {'title': \"Harry Potter and the Philosopher's Stone\",\n",
       "  'author': 'J.K. Rowling',\n",
       "  'year': 1997,\n",
       "  'genres': 'Fantasy, Young Adult'},\n",
       " 2: {'title': 'To Kill a Mockingbird',\n",
       "  'author': 'Harper Lee',\n",
       "  'year': 1960,\n",
       "  'genres': ['Fiction', 'Classics']},\n",
       " 3: {'title': 'The Great Gatsby',\n",
       "  'author': 'F. Scott Fitzgerald',\n",
       "  'year': 1925,\n",
       "  'genres': ['Fiction', 'Classics']},\n",
       " 4: {'title': '1984',\n",
       "  'author': 'George Orwell',\n",
       "  'year': 1949,\n",
       "  'genres': ['Fiction', 'Dystopian']},\n",
       " 5: {'title': 'The Catcher in the Rye',\n",
       "  'author': 'J.D. Salinger',\n",
       "  'year': 1951,\n",
       "  'genres': ['Fiction', 'Classics']},\n",
       " 6: {'title': 'Pride and Prejudice',\n",
       "  'author': 'Jane Austen',\n",
       "  'year': 1813,\n",
       "  'genres': ['Fiction', 'Romance', 'Classics']},\n",
       " 7: {'title': 'The Hobbit',\n",
       "  'author': 'J.R.R. Tolkien',\n",
       "  'year': 1937,\n",
       "  'genres': ['Fantasy', 'Adventure']},\n",
       " 8: {'title': 'The Hunger Games',\n",
       "  'author': 'Suzanne Collins',\n",
       "  'year': 2008,\n",
       "  'genres': ['Science Fiction', 'Dystopian', 'Young Adult']},\n",
       " 9: {'title': 'The Da Vinci Code',\n",
       "  'author': 'Dan Brown',\n",
       "  'year': 2003,\n",
       "  'genres': ['Mystery', 'Thriller']},\n",
       " 10: {'title': 'The Chronicles of Narnia',\n",
       "  'author': 'C.S. Lewis',\n",
       "  'year': 1950,\n",
       "  'genres': ['Fantasy', \"Children's Literature\"]},\n",
       " 11: {'title': 'Gone with the Wind',\n",
       "  'author': 'Margaret Mitchell',\n",
       "  'year': 1936,\n",
       "  'genres': ['Historical', 'Fiction', 'Romance']},\n",
       " 12: {'title': 'Sapiens: A Brief History of Humankind',\n",
       "  'author': 'Yuval Noah Harari',\n",
       "  'year': 2011,\n",
       "  'genres': ['Nonfiction', 'History', 'Science']},\n",
       " 13: {'title': 'The Road',\n",
       "  'author': 'Cormac McCarthy',\n",
       "  'year': 2006,\n",
       "  'genres': ['Fiction', 'Post-Apocalyptic']},\n",
       " 14: {'title': 'The Girl with the Dragon Tattoo',\n",
       "  'author': 'Stieg Larsson',\n",
       "  'year': 2005,\n",
       "  'genres': ['Mystery', 'Thriller']},\n",
       " 15: {'title': 'The Alchemist',\n",
       "  'author': 'Paulo Coelho',\n",
       "  'year': 1988,\n",
       "  'genres': ['Fiction', 'Inspirational']}}"
      ]
     },
     "execution_count": 3,
     "metadata": {},
     "output_type": "execute_result"
    }
   ],
   "source": [
    "# write your code here ^_^\n",
    "def update (id,title ,author,year,genres):\n",
    "    if id in table:\n",
    "        table[id]={\"title\":title,\"author\":author,\"year\":year,\"genres\":genres}\n",
    "        print(\"Book with ID\", id, \"info updated.\")\n",
    "    else:\n",
    "        print(f\"Book with ID {id} does not exist.\")\n",
    "\n",
    "\n",
    "update(1, \"Harry Potter and the Philosopher's Stone\", \"J.K. Rowling\", 1997, \"Fantasy, Young Adult\")\n",
    "\n",
    "update(16, \"Harry Potter and the Philosopher's Stone\", \"J.K. Rowling\", 1997, \"Fantasy, Young Adult\")\n",
    "table\n",
    "\n",
    "\n",
    "    "
   ]
  },
  {
   "cell_type": "markdown",
   "metadata": {
    "id": "ME3j_m-eLhyH"
   },
   "source": [
    "#### Q3: Create a function to delete books from your library and test it."
   ]
  },
  {
   "cell_type": "markdown",
   "metadata": {},
   "source": [
    "### Expected output:\n",
    "~~~~~~~~~~~~~~~~~~~~~~~~~\n",
    "Book with ID 16 does not exist.\n",
    "\n",
    "Book with ID 1 Deleted.\n",
    "~~~~~~~~~~~~~~~~~~~~~~~~~\n"
   ]
  },
  {
   "cell_type": "code",
   "execution_count": 4,
   "metadata": {
    "id": "JlGIx-gJUadK"
   },
   "outputs": [
    {
     "name": "stdout",
     "output_type": "stream",
     "text": [
      "Book with ID 1 info delted.\n",
      "Book with ID 16 does not exist.\n"
     ]
    },
    {
     "data": {
      "text/plain": [
       "{2: {'title': 'To Kill a Mockingbird',\n",
       "  'author': 'Harper Lee',\n",
       "  'year': 1960,\n",
       "  'genres': ['Fiction', 'Classics']},\n",
       " 3: {'title': 'The Great Gatsby',\n",
       "  'author': 'F. Scott Fitzgerald',\n",
       "  'year': 1925,\n",
       "  'genres': ['Fiction', 'Classics']},\n",
       " 4: {'title': '1984',\n",
       "  'author': 'George Orwell',\n",
       "  'year': 1949,\n",
       "  'genres': ['Fiction', 'Dystopian']},\n",
       " 5: {'title': 'The Catcher in the Rye',\n",
       "  'author': 'J.D. Salinger',\n",
       "  'year': 1951,\n",
       "  'genres': ['Fiction', 'Classics']},\n",
       " 6: {'title': 'Pride and Prejudice',\n",
       "  'author': 'Jane Austen',\n",
       "  'year': 1813,\n",
       "  'genres': ['Fiction', 'Romance', 'Classics']},\n",
       " 7: {'title': 'The Hobbit',\n",
       "  'author': 'J.R.R. Tolkien',\n",
       "  'year': 1937,\n",
       "  'genres': ['Fantasy', 'Adventure']},\n",
       " 8: {'title': 'The Hunger Games',\n",
       "  'author': 'Suzanne Collins',\n",
       "  'year': 2008,\n",
       "  'genres': ['Science Fiction', 'Dystopian', 'Young Adult']},\n",
       " 9: {'title': 'The Da Vinci Code',\n",
       "  'author': 'Dan Brown',\n",
       "  'year': 2003,\n",
       "  'genres': ['Mystery', 'Thriller']},\n",
       " 10: {'title': 'The Chronicles of Narnia',\n",
       "  'author': 'C.S. Lewis',\n",
       "  'year': 1950,\n",
       "  'genres': ['Fantasy', \"Children's Literature\"]},\n",
       " 11: {'title': 'Gone with the Wind',\n",
       "  'author': 'Margaret Mitchell',\n",
       "  'year': 1936,\n",
       "  'genres': ['Historical', 'Fiction', 'Romance']},\n",
       " 12: {'title': 'Sapiens: A Brief History of Humankind',\n",
       "  'author': 'Yuval Noah Harari',\n",
       "  'year': 2011,\n",
       "  'genres': ['Nonfiction', 'History', 'Science']},\n",
       " 13: {'title': 'The Road',\n",
       "  'author': 'Cormac McCarthy',\n",
       "  'year': 2006,\n",
       "  'genres': ['Fiction', 'Post-Apocalyptic']},\n",
       " 14: {'title': 'The Girl with the Dragon Tattoo',\n",
       "  'author': 'Stieg Larsson',\n",
       "  'year': 2005,\n",
       "  'genres': ['Mystery', 'Thriller']},\n",
       " 15: {'title': 'The Alchemist',\n",
       "  'author': 'Paulo Coelho',\n",
       "  'year': 1988,\n",
       "  'genres': ['Fiction', 'Inspirational']}}"
      ]
     },
     "execution_count": 4,
     "metadata": {},
     "output_type": "execute_result"
    }
   ],
   "source": [
    "# write your code here ^_^\n",
    "def delete (id):\n",
    "    if id in table:\n",
    "        del table[id]\n",
    "        print(\"Book with ID\", id, \"info delted.\")\n",
    "    else:\n",
    "        print(f\"Book with ID {id} does not exist.\")\n",
    "\n",
    "delete(1)\n",
    "delete(16)\n",
    "table\n",
    "\n"
   ]
  },
  {
   "cell_type": "markdown",
   "metadata": {
    "id": "MIamnChwNgFr"
   },
   "source": [
    "#### Q4: Create a function that displays books information from your library and test it."
   ]
  },
  {
   "cell_type": "markdown",
   "metadata": {},
   "source": [
    "### Expected output:\n",
    "~~~~~~~~~~~~~~~~~~~~~~~~~\n",
    "ID: 1, Title: title, Author: author, Year: 2025, Genres: ['genre 1', 'genre 2', 'genre 3']\n",
    "\n",
    "ID: 2, Title: title2, Author: author2, Year: 2010, Genres: ['genre 12', 'genre 22', 'genre 32']\n",
    "~~~~~~~~~~~~~~~~~~~~~~~~~"
   ]
  },
  {
   "cell_type": "code",
   "execution_count": 5,
   "metadata": {
    "id": "xFNIK3YvUbz5"
   },
   "outputs": [
    {
     "name": "stdout",
     "output_type": "stream",
     "text": [
      "ID: 15, Title: The Alchemist, Author: Paulo Coelho, Year: 1988, Genres: ['Fiction', 'Inspirational']\n",
      "Book with ID 16 does not exist.\n"
     ]
    }
   ],
   "source": [
    "# write your code here ^_^\n",
    "\n",
    "def display(id):\n",
    "    if id in table:\n",
    "        print(f\"ID: {id}, Title: {table[id]['title']}, Author: {table[id]['author']}, Year: {table[id]['year']}, Genres: {table[id]['genres']}\")\n",
    "    else:\n",
    "        print(f\"Book with ID {id} does not exist.\")\n",
    "display(15)\n",
    "display(16) "
   ]
  },
  {
   "cell_type": "markdown",
   "metadata": {
    "id": "OvfdKdBqNt22"
   },
   "source": [
    "#### Q5: Create functions to do the following: calculates and display the total number of books, the average publication year, and the most common genre. and test it."
   ]
  },
  {
   "cell_type": "markdown",
   "metadata": {},
   "source": [
    "### Expected output:\n",
    "~~~~~~~~~~~~~~~~~~~~~~~~~\n",
    "2\n",
    "\n",
    "2017.5\n",
    "\n",
    "'genre 2'\n",
    "~~~~~~~~~~~~~~~~~~~~~~~~~"
   ]
  },
  {
   "cell_type": "code",
   "execution_count": 6,
   "metadata": {
    "id": "mWg5eHIWUcsU"
   },
   "outputs": [
    {
     "name": "stdout",
     "output_type": "stream",
     "text": [
      "14 books in the library.\n",
      "[('Fiction', 8)]\n",
      "Average publication year:  1960.142857142857\n"
     ]
    }
   ],
   "source": [
    "# write your code here ^_^\n",
    "from collections import Counter\n",
    "\n",
    "def info(table):\n",
    "    x=0\n",
    "    test=[]\n",
    "    print(len(table), \"books in the library.\")\n",
    "    \n",
    "    for i in table:\n",
    "        x+=table[i]['year']/len(table)\n",
    "        test.extend(table[i]['genres'])\n",
    "\n",
    "    genre_counts = Counter(test)\n",
    "    print( genre_counts.most_common(1))\n",
    "    print(\"Average publication year: \", x)   \n",
    "\n",
    "info(table)\n",
    "\n"
   ]
  },
  {
   "cell_type": "markdown",
   "metadata": {
    "id": "IuVLtf7dQaUW"
   },
   "source": [
    "#### Q6: Create 2 functions to search for books by the title and the author from your library and test it."
   ]
  },
  {
   "cell_type": "markdown",
   "metadata": {},
   "source": [
    "### Expected output:\n",
    "\n",
    "searched for title2 and author2:\n",
    "\n",
    "~~~~~~~~~~~~~~~~~~~~~~~~~\n",
    "{2: {'title': 'title2', 'author': 'author2', 'year': 2010, 'genres': ['genre 12', 'genre 22', 'genre 32']},\n",
    "\n",
    "\n",
    "{2: {'title': 'title2', 'author': 'author2', 'year': 2010, 'genres': ['genre 12', 'genre 22', 'genre 32']},\n",
    "~~~~~~~~~~~~~~~~~~~~~~~~~\n"
   ]
  },
  {
   "cell_type": "code",
   "execution_count": 7,
   "metadata": {
    "id": "7LnwRJLCUe3p"
   },
   "outputs": [
    {
     "name": "stdout",
     "output_type": "stream",
     "text": [
      "15 {'title': 'The Alchemist', 'author': 'Paulo Coelho', 'year': 1988, 'genres': ['Fiction', 'Inspirational']}\n",
      "2 {'title': 'To Kill a Mockingbird', 'author': 'Harper Lee', 'year': 1960, 'genres': ['Fiction', 'Classics']}\n"
     ]
    }
   ],
   "source": [
    "# write your code here ^_^\n",
    "\n",
    "def search(title):\n",
    "    for k,v in table.items():\n",
    "        if v['title']==title:\n",
    "            print(k,table[k])\n",
    "\n",
    "search(\"The Alchemist\")\n",
    "\n",
    "\n",
    "def search(Auothr):\n",
    "    for k,v in table.items():\n",
    "        if v['author']==Auothr:\n",
    "            print(k,table[k])\n",
    "\n",
    "search(\"Harper Lee\")"
   ]
  },
  {
   "cell_type": "markdown",
   "metadata": {
    "id": "fAu2ozKBQzJu"
   },
   "source": [
    "#### Q7: Create 2 functions to sort the books by the title and the year from your library and test it."
   ]
  },
  {
   "cell_type": "markdown",
   "metadata": {},
   "source": [
    "**Hint**: Use lambda function\n",
    "\n",
    "\n"
   ]
  },
  {
   "cell_type": "code",
   "execution_count": 13,
   "metadata": {
    "id": "X4PyuHTMUgHl"
   },
   "outputs": [
    {
     "name": "stdout",
     "output_type": "stream",
     "text": [
      "by title [(4, {'title': '1984', 'author': 'George Orwell', 'year': 1949, 'genres': ['Fiction', 'Dystopian']}), (11, {'title': 'Gone with the Wind', 'author': 'Margaret Mitchell', 'year': 1936, 'genres': ['Historical', 'Fiction', 'Romance']}), (6, {'title': 'Pride and Prejudice', 'author': 'Jane Austen', 'year': 1813, 'genres': ['Fiction', 'Romance', 'Classics']}), (12, {'title': 'Sapiens: A Brief History of Humankind', 'author': 'Yuval Noah Harari', 'year': 2011, 'genres': ['Nonfiction', 'History', 'Science']}), (15, {'title': 'The Alchemist', 'author': 'Paulo Coelho', 'year': 1988, 'genres': ['Fiction', 'Inspirational']}), (5, {'title': 'The Catcher in the Rye', 'author': 'J.D. Salinger', 'year': 1951, 'genres': ['Fiction', 'Classics']}), (10, {'title': 'The Chronicles of Narnia', 'author': 'C.S. Lewis', 'year': 1950, 'genres': ['Fantasy', \"Children's Literature\"]}), (9, {'title': 'The Da Vinci Code', 'author': 'Dan Brown', 'year': 2003, 'genres': ['Mystery', 'Thriller']}), (14, {'title': 'The Girl with the Dragon Tattoo', 'author': 'Stieg Larsson', 'year': 2005, 'genres': ['Mystery', 'Thriller']}), (3, {'title': 'The Great Gatsby', 'author': 'F. Scott Fitzgerald', 'year': 1925, 'genres': ['Fiction', 'Classics']}), (7, {'title': 'The Hobbit', 'author': 'J.R.R. Tolkien', 'year': 1937, 'genres': ['Fantasy', 'Adventure']}), (8, {'title': 'The Hunger Games', 'author': 'Suzanne Collins', 'year': 2008, 'genres': ['Science Fiction', 'Dystopian', 'Young Adult']}), (13, {'title': 'The Road', 'author': 'Cormac McCarthy', 'year': 2006, 'genres': ['Fiction', 'Post-Apocalyptic']}), (2, {'title': 'To Kill a Mockingbird', 'author': 'Harper Lee', 'year': 1960, 'genres': ['Fiction', 'Classics']})]\n",
      "by year [(6, {'title': 'Pride and Prejudice', 'author': 'Jane Austen', 'year': 1813, 'genres': ['Fiction', 'Romance', 'Classics']}), (3, {'title': 'The Great Gatsby', 'author': 'F. Scott Fitzgerald', 'year': 1925, 'genres': ['Fiction', 'Classics']}), (11, {'title': 'Gone with the Wind', 'author': 'Margaret Mitchell', 'year': 1936, 'genres': ['Historical', 'Fiction', 'Romance']}), (7, {'title': 'The Hobbit', 'author': 'J.R.R. Tolkien', 'year': 1937, 'genres': ['Fantasy', 'Adventure']}), (4, {'title': '1984', 'author': 'George Orwell', 'year': 1949, 'genres': ['Fiction', 'Dystopian']}), (10, {'title': 'The Chronicles of Narnia', 'author': 'C.S. Lewis', 'year': 1950, 'genres': ['Fantasy', \"Children's Literature\"]}), (5, {'title': 'The Catcher in the Rye', 'author': 'J.D. Salinger', 'year': 1951, 'genres': ['Fiction', 'Classics']}), (2, {'title': 'To Kill a Mockingbird', 'author': 'Harper Lee', 'year': 1960, 'genres': ['Fiction', 'Classics']}), (15, {'title': 'The Alchemist', 'author': 'Paulo Coelho', 'year': 1988, 'genres': ['Fiction', 'Inspirational']}), (9, {'title': 'The Da Vinci Code', 'author': 'Dan Brown', 'year': 2003, 'genres': ['Mystery', 'Thriller']}), (14, {'title': 'The Girl with the Dragon Tattoo', 'author': 'Stieg Larsson', 'year': 2005, 'genres': ['Mystery', 'Thriller']}), (13, {'title': 'The Road', 'author': 'Cormac McCarthy', 'year': 2006, 'genres': ['Fiction', 'Post-Apocalyptic']}), (8, {'title': 'The Hunger Games', 'author': 'Suzanne Collins', 'year': 2008, 'genres': ['Science Fiction', 'Dystopian', 'Young Adult']}), (12, {'title': 'Sapiens: A Brief History of Humankind', 'author': 'Yuval Noah Harari', 'year': 2011, 'genres': ['Nonfiction', 'History', 'Science']})]\n"
     ]
    }
   ],
   "source": [
    "# write your code here ^_^\n",
    " \n",
    "sortT= lambda table : sorted(table.items(), key=lambda x: x[1]['title'])\n",
    "\n",
    "\n",
    "print(\"by title\",sortT(table))\n",
    "\n",
    "sortY= lambda table : sorted(table.items(), key=lambda x: x[1]['year'])\n",
    "\n",
    "print(\"by year\",sortY(table))\n",
    "\n",
    "\n",
    "\n"
   ]
  },
  {
   "cell_type": "markdown",
   "metadata": {
    "id": "KiaFO8rdiv4u"
   },
   "source": [
    "#### Q8: Create a function to bulk update genres(Replace a specific genre with a new genre) of books using list comprehension. and test it."
   ]
  },
  {
   "cell_type": "markdown",
   "metadata": {},
   "source": [
    "### Expected output:\n",
    "\n",
    "```python\n",
    "bulk_update_genres(\"genre 22\", \"Drama\")\n",
    "```\n",
    "~~~~~~~~~~~\n",
    "- Before:\n",
    "{2: {'title': 'title2', 'author': 'author2', 'year': 2010, 'genres': ['genre 12', 'genre 22', 'genre 32']},\n",
    "- After:\n",
    "{2: {'title': 'title2', 'author': 'author2', 'year': 2010, 'genres': ['genre 12', 'Drama', 'genre 32']},\n",
    "\n",
    "\n"
   ]
  },
  {
   "cell_type": "code",
   "execution_count": 127,
   "metadata": {
    "id": "AbvXyE96UhVt"
   },
   "outputs": [
    {
     "data": {
      "text/plain": [
       "{2: {'title': 'To Kill a Mockingbird',\n",
       "  'author': 'Harper Lee',\n",
       "  'year': 1960,\n",
       "  'genres': ['Fiction', 'Drama']},\n",
       " 3: {'title': 'The Great Gatsby',\n",
       "  'author': 'F. Scott Fitzgerald',\n",
       "  'year': 1925,\n",
       "  'genres': ['Fiction', 'Drama']},\n",
       " 4: {'title': '1984',\n",
       "  'author': 'George Orwell',\n",
       "  'year': 1949,\n",
       "  'genres': ['Fiction', 'Dystopian']},\n",
       " 5: {'title': 'The Catcher in the Rye',\n",
       "  'author': 'J.D. Salinger',\n",
       "  'year': 1951,\n",
       "  'genres': ['Fiction', 'Drama']},\n",
       " 6: {'title': 'Pride and Prejudice',\n",
       "  'author': 'Jane Austen',\n",
       "  'year': 1813,\n",
       "  'genres': ['Fiction', 'Romance', 'Drama']},\n",
       " 7: {'title': 'The Hobbit',\n",
       "  'author': 'J.R.R. Tolkien',\n",
       "  'year': 1937,\n",
       "  'genres': ['Fantasy', 'Adventure']},\n",
       " 8: {'title': 'The Hunger Games',\n",
       "  'author': 'Suzanne Collins',\n",
       "  'year': 2008,\n",
       "  'genres': ['Science Fiction', 'Dystopian', 'Young Adult']},\n",
       " 9: {'title': 'The Da Vinci Code',\n",
       "  'author': 'Dan Brown',\n",
       "  'year': 2003,\n",
       "  'genres': ['Mystery', 'Thriller']},\n",
       " 10: {'title': 'The Chronicles of Narnia',\n",
       "  'author': 'C.S. Lewis',\n",
       "  'year': 1950,\n",
       "  'genres': ['Fantasy', \"Children's Literature\"]},\n",
       " 11: {'title': 'Gone with the Wind',\n",
       "  'author': 'Margaret Mitchell',\n",
       "  'year': 1936,\n",
       "  'genres': ['Historical', 'Fiction', 'Romance']},\n",
       " 12: {'title': 'Sapiens: A Brief History of Humankind',\n",
       "  'author': 'Yuval Noah Harari',\n",
       "  'year': 2011,\n",
       "  'genres': ['Nonfiction', 'History', 'Science']},\n",
       " 13: {'title': 'The Road',\n",
       "  'author': 'Cormac McCarthy',\n",
       "  'year': 2006,\n",
       "  'genres': ['Fiction', 'Post-Apocalyptic']},\n",
       " 14: {'title': 'The Girl with the Dragon Tattoo',\n",
       "  'author': 'Stieg Larsson',\n",
       "  'year': 2005,\n",
       "  'genres': ['Mystery', 'Thriller']},\n",
       " 15: {'title': 'The Alchemist',\n",
       "  'author': 'Paulo Coelho',\n",
       "  'year': 1988,\n",
       "  'genres': ['Fiction', 'Inspirational']}}"
      ]
     },
     "execution_count": 127,
     "metadata": {},
     "output_type": "execute_result"
    }
   ],
   "source": [
    "# write your code here ^_^\n",
    "\n",
    "def bulk_update_genres(S1, S2):\n",
    "    for k,v in table.items():\n",
    "        if S1 in v[\"genres\"]:\n",
    "            v[\"genres\"].remove(S1)\n",
    "            v[\"genres\"].append(S2)\n",
    "    \n",
    "bulk_update_genres(\"Classics\", \"Drama\")\n",
    "\n",
    "table\n",
    "\n"
   ]
  },
  {
   "cell_type": "markdown",
   "metadata": {
    "id": "ZWkmOUNgi6V_"
   },
   "source": [
    "#### Q9: Implement a function to generate a report summarizing the library's statistics, including the total number of books, the number of books by each author, the number of books in each genre, and the oldest and newest books. and test it."
   ]
  },
  {
   "cell_type": "code",
   "execution_count": 195,
   "metadata": {
    "id": "Okjlb9pTUloe"
   },
   "outputs": [
    {
     "name": "stdout",
     "output_type": "stream",
     "text": [
      "number of books in the library: 15\n",
      "Harper Lee have 2 books.\n",
      "F. Scott Fitzgerald have 1 books.\n",
      "George Orwell have 1 books.\n",
      "J.D. Salinger have 1 books.\n",
      "Jane Austen have 1 books.\n",
      "J.R.R. Tolkien have 1 books.\n",
      "Suzanne Collins have 1 books.\n",
      "Dan Brown have 1 books.\n",
      "C.S. Lewis have 1 books.\n",
      "Margaret Mitchell have 1 books.\n",
      "Yuval Noah Harari have 1 books.\n",
      "Cormac McCarthy have 1 books.\n",
      "Stieg Larsson have 1 books.\n",
      "Paulo Coelho have 1 books.\n",
      "{'Harper Lee': 2, 'F. Scott Fitzgerald': 1, 'George Orwell': 1, 'J.D. Salinger': 1, 'Jane Austen': 1, 'J.R.R. Tolkien': 1, 'Suzanne Collins': 1, 'Dan Brown': 1, 'C.S. Lewis': 1, 'Margaret Mitchell': 1, 'Yuval Noah Harari': 1, 'Cormac McCarthy': 1, 'Stieg Larsson': 1, 'Paulo Coelho': 1}\n",
      "3 books in the library are Fantasy.\n",
      "2 books in the library are Young Adult.\n",
      "8 books in the library are Fiction.\n",
      "4 books in the library are Classics.\n",
      "2 books in the library are Dystopian.\n",
      "2 books in the library are Romance.\n",
      "1 books in the library are Adventure.\n",
      "1 books in the library are Science Fiction.\n",
      "2 books in the library are Mystery.\n",
      "2 books in the library are Thriller.\n",
      "1 books in the library are Children's Literature.\n",
      "1 books in the library are Historical.\n",
      "1 books in the library are Nonfiction.\n",
      "1 books in the library are History.\n",
      "1 books in the library are Science.\n",
      "1 books in the library are Post-Apocalyptic.\n",
      "1 books in the library are Inspirational.\n",
      "the oldest 1813\n",
      "the newest 2011\n"
     ]
    }
   ],
   "source": [
    "# write your code here ^_^\n",
    "def report(table):\n",
    "    print(\"number of books in the library:\", len(table))\n",
    "    years=[]\n",
    "    genres=[]\n",
    "    gc={}\n",
    "    ac={}\n",
    "    for k,v in table.items():\n",
    "        t=v['author']\n",
    "        if t in ac:\n",
    "            ac[t] += 1\n",
    "        else:\n",
    "            ac[t]=1\n",
    "\n",
    "    for a,c in ac.items():\n",
    "         print(f\"{a} have {c} books.\")\n",
    "\n",
    "    print(ac)\n",
    "        \n",
    "    for k,v in table.items():\n",
    "        genres.extend(v['genres'])\n",
    "        years.append(v['year'])\n",
    "\n",
    "        \n",
    "\n",
    "    for i in range(0, len(genres)):\n",
    "        t=genres[i]\n",
    "        if t in gc:\n",
    "            gc[t] += 1\n",
    "        else:\n",
    "            gc[t]=1\n",
    "        \n",
    "    for g,c in gc.items():\n",
    "        print(f\"{c} books in the library are {g}.\")\n",
    "\n",
    "    sortyears=sorted(years)\n",
    "\n",
    "    print(f\"the oldest {sortyears[0]}\")\n",
    "    print(f\"the newest {sortyears[-1]}\")\n",
    "report(table)"
   ]
  }
 ],
 "metadata": {
  "colab": {
   "provenance": []
  },
  "kernelspec": {
   "display_name": "base",
   "language": "python",
   "name": "python3"
  },
  "language_info": {
   "codemirror_mode": {
    "name": "ipython",
    "version": 3
   },
   "file_extension": ".py",
   "mimetype": "text/x-python",
   "name": "python",
   "nbconvert_exporter": "python",
   "pygments_lexer": "ipython3",
   "version": "3.12.7"
  }
 },
 "nbformat": 4,
 "nbformat_minor": 0
}
