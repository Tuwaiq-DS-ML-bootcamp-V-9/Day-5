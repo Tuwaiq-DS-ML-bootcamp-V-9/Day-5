{
 "cells": [
  {
   "cell_type": "markdown",
   "metadata": {
    "id": "kZXiW0-J0-2x"
   },
   "source": [
    "# Python_Groups_Hands-on\n"
   ]
  },
  {
   "cell_type": "markdown",
   "metadata": {
    "id": "I05A6_S80-2y"
   },
   "source": [
    "## Project: Library Management System\n",
    "### Description:\n",
    "- Develop a basic Library Management System (LMS) that allows users to manage book records, including adding, updating, deleting, and displaying book information. The system should also provide basic statistical analysis.\n",
    "\n",
    "### System requirements:\n",
    "\n",
    "#### Data Structure Design:\n",
    "\n",
    "  - Define data structures using lists, tuples, dictionaries, and sets to store book information (e.g., book ID, title, author, year, genres).\n",
    "\n",
    "#### Basic Operations:\n",
    "\n",
    "- Implement functions to add, update, delete, and display book records.\n",
    "- Ensure proper type conversion and validation of inputs.\n",
    "\n",
    "#### Statistical Analysis:\n",
    "\n",
    "- Write functions to calculate and display the total number of books, the average publication year, and the most common genre.\n",
    "- Use list comprehensions and built-in functions (sort, len, zip, range) for calculations.\n",
    "\n",
    "#### Advanced Features:\n",
    "\n",
    "- Implement search functionality to find books by title or author using lambda functions.\n",
    "- Provide sorting options for book records based on different criteria (e.g., title, year).\n",
    "\n",
    "\n",
    "#### Exception Handling:\n",
    "\n",
    "- Handle potential errors (e.g., invalid input) using try-except blocks."
   ]
  },
  {
   "cell_type": "markdown",
   "metadata": {
    "id": "rXuH9y0_D76o"
   },
   "source": [
    "#### Q1: Using the following table, create a function to add these books to your library:\n",
    "\n",
    "\n",
    "\n",
    "| Book ID | Title                            | Author               | Year | Genres                              |\n",
    "|---------|----------------------------------|----------------------|------|-------------------------------------|\n",
    "| 1       | Harry Potter and the Sorcerer's Stone | J.K. Rowling         | 1997 | Fantasy, Young Adult                |\n",
    "| 2       | To Kill a Mockingbird             | Harper Lee           | 1960 | Fiction, Classics                   |\n",
    "| 3       | The Great Gatsby                  | F. Scott Fitzgerald  | 1925 | Fiction, Classics                   |\n",
    "| 4       | 1984                              | George Orwell        | 1949 | Fiction, Dystopian                  |\n",
    "| 5       | The Catcher in the Rye            | J.D. Salinger        | 1951 | Fiction, Classics                   |\n",
    "| 6       | Pride and Prejudice               | Jane Austen          | 1813 | Fiction, Romance, Classics          |\n",
    "| 7       | The Hobbit                        | J.R.R. Tolkien       | 1937 | Fantasy, Adventure                  |\n",
    "| 8       | The Hunger Games                  | Suzanne Collins      | 2008 | Science Fiction, Dystopian, Young Adult |\n",
    "| 9       | The Da Vinci Code                 | Dan Brown            | 2003 | Mystery, Thriller                   |\n",
    "| 10      | The Chronicles of Narnia          | C.S. Lewis           | 1950 | Fantasy, Children's Literature      |\n",
    "| 11      | Gone with the Wind                | Margaret Mitchell    | 1936 | Historical Fiction, Romance         |\n",
    "| 12      | Sapiens: A Brief History of Humankind | Yuval Noah Harari   | 2011 | Nonfiction, History, Science        |\n",
    "| 13      | The Road                          | Cormac McCarthy      | 2006 | Fiction, Post-Apocalyptic           |\n",
    "| 14      | The Girl with the Dragon Tattoo   | Stieg Larsson        | 2005 | Mystery, Thriller                   |\n",
    "| 15      | The Alchemist                     | Paulo Coelho         | 1988 | Fiction, Inspirational              |\n"
   ]
  },
  {
   "cell_type": "markdown",
   "metadata": {},
   "source": [
    "### Expected output:\n",
    "~~~~~~~~~~~~~~~~~~~~~~~~~\n",
    "{1: {'title': 'title',\n",
    "  'author': 'author',\n",
    "  'year': 2025,\n",
    "  'genres': ['genre 1', 'genre 2', 'genre 3']}}\n",
    "  ~~~~~~~~~~~~~~~~~~~~~~~~~"
   ]
  },
  {
   "cell_type": "code",
   "execution_count": 1,
   "metadata": {
    "id": "BzV_B_g20-2z"
   },
   "outputs": [
    {
     "data": {
      "text/plain": [
       "{1: {'title': \"Harry Potter and the Sorcerer's Stone\",\n",
       "  'author': 'J.K. Rowling',\n",
       "  'year': 1997,\n",
       "  'genres': ['Fantasy', 'Young Adult']},\n",
       " 2: {'title': 'To Kill a Mockingbird',\n",
       "  'author': 'Harper Lee',\n",
       "  'year': 1960,\n",
       "  'genres': ['Fiction', 'Classics']},\n",
       " 3: {'title': 'The Great Gatsby',\n",
       "  'author': 'F. Scott Fitzgerald',\n",
       "  'year': 1925,\n",
       "  'genres': ['Fiction', 'Classics']},\n",
       " 4: {'title': '1984',\n",
       "  'author': 'George Orwell',\n",
       "  'year': 1949,\n",
       "  'genres': ['Fiction', 'Dystopian']},\n",
       " 5: {'title': 'The Catcher in the Rye',\n",
       "  'author': 'J.D. Salinger',\n",
       "  'year': 1951,\n",
       "  'genres': ['Fiction', 'Classics']},\n",
       " 6: {'title': 'Pride and Prejudice',\n",
       "  'author': 'Jane Austen',\n",
       "  'year': 1813,\n",
       "  'genres': ['Fiction', 'Romance', 'Classics']},\n",
       " 7: {'title': 'The Hobbit',\n",
       "  'author': 'J.R.R. Tolkien',\n",
       "  'year': 1937,\n",
       "  'genres': ['Fantasy', 'Adventure']},\n",
       " 8: {'title': 'The Hunger Games',\n",
       "  'author': 'Suzanne Collins',\n",
       "  'year': 2008,\n",
       "  'genres': ['Science Fiction', 'Dystopian', 'Young Adult']},\n",
       " 9: {'title': 'The Da Vinci Code',\n",
       "  'author': 'Dan Brown',\n",
       "  'year': 2003,\n",
       "  'genres': ['Mystery', 'Thriller']},\n",
       " 10: {'title': 'The Chronicles of Narnia',\n",
       "  'author': 'C.S. Lewis',\n",
       "  'year': 1950,\n",
       "  'genres': ['Fantasy', \"Children's Literature\"]},\n",
       " 11: {'title': 'Gone with the Wind',\n",
       "  'author': 'Margaret Mitchell',\n",
       "  'year': 1936,\n",
       "  'genres': ['Historical Fiction', 'Romance']},\n",
       " 12: {'title': 'Sapiens: A Brief History of Humankind',\n",
       "  'author': 'Yuval Noah Harari',\n",
       "  'year': 2011,\n",
       "  'genres': ['Nonfiction', 'History', 'Science']},\n",
       " 13: {'title': 'The Road',\n",
       "  'author': 'Cormac McCarthy',\n",
       "  'year': 2006,\n",
       "  'genres': ['Fiction', 'Post-Apocalyptic']},\n",
       " 14: {'title': 'The Girl with the Dragon Tattoo',\n",
       "  'author': 'Stieg Larsson',\n",
       "  'year': 2005,\n",
       "  'genres': ['Mystery', 'Thriller']},\n",
       " 15: {'title': 'The Alchemist',\n",
       "  'author': 'Paulo Coelho',\n",
       "  'year': 1988,\n",
       "  'genres': ['Fiction', 'Inspirational']}}"
      ]
     },
     "execution_count": 1,
     "metadata": {},
     "output_type": "execute_result"
    }
   ],
   "source": [
    "books = {}\n",
    "\n",
    "\n",
    "def add(title,author,year,genres):\n",
    "    id_num = len(books.keys())\n",
    "    id_num = id_num + 1\n",
    "    books[id_num] = {'title':title,'author':author,'year': year,'genres':genres}\n",
    "    \n",
    "    \n",
    "table = {}\n",
    "\n",
    "\n",
    "add(\"Harry Potter and the Sorcerer's Stone\", \"J.K. Rowling\", 1997, [\"Fantasy\", \"Young Adult\"])\n",
    "add(\"To Kill a Mockingbird\", \"Harper Lee\", 1960, [\"Fiction\", \"Classics\"])\n",
    "add(\"The Great Gatsby\", \"F. Scott Fitzgerald\", 1925, [\"Fiction\", \"Classics\"])\n",
    "add(\"1984\", \"George Orwell\", 1949, [\"Fiction\", \"Dystopian\"])\n",
    "add(\"The Catcher in the Rye\", \"J.D. Salinger\", 1951, [\"Fiction\", \"Classics\"])\n",
    "add(\"Pride and Prejudice\", \"Jane Austen\", 1813, [\"Fiction\", \"Romance\", \"Classics\"])\n",
    "add(\"The Hobbit\", \"J.R.R. Tolkien\", 1937, [\"Fantasy\", \"Adventure\"])\n",
    "add(\"The Hunger Games\", \"Suzanne Collins\", 2008, [\"Science Fiction\", \"Dystopian\", \"Young Adult\"])\n",
    "add(\"The Da Vinci Code\", \"Dan Brown\", 2003, [\"Mystery\", \"Thriller\"])\n",
    "add(\"The Chronicles of Narnia\", \"C.S. Lewis\", 1950, [\"Fantasy\", \"Children's Literature\"])\n",
    "add(\"Gone with the Wind\", \"Margaret Mitchell\", 1936, [\"Historical Fiction\", \"Romance\"])\n",
    "add(\"Sapiens: A Brief History of Humankind\", \"Yuval Noah Harari\", 2011, [\"Nonfiction\", \"History\", \"Science\"])\n",
    "add(\"The Road\", \"Cormac McCarthy\", 2006, [\"Fiction\", \"Post-Apocalyptic\"])\n",
    "add(\"The Girl with the Dragon Tattoo\", \"Stieg Larsson\", 2005, [\"Mystery\", \"Thriller\"])\n",
    "add(\"The Alchemist\", \"Paulo Coelho\", 1988, [\"Fiction\", \"Inspirational\"])\n",
    "\n",
    "books  \n",
    "\n",
    "\n"
   ]
  },
  {
   "cell_type": "markdown",
   "metadata": {
    "id": "kR5bvgOsF3oJ"
   },
   "source": [
    "#### Q2: Create a function that updates books exsisted in your library and test it.\n",
    "- **Note**: If the user entered wrong book ID it should print \"Book with ID 'num' does not exist."
   ]
  },
  {
   "cell_type": "markdown",
   "metadata": {},
   "source": [
    "### Expected output:\n",
    "~~~~~~~~~~~~~~~~~~~~~~~~~\n",
    "Book with ID 16 does not exist.\n",
    "\n",
    "Book with ID 1 info updated.\n",
    "~~~~~~~~~~~~~~~~~~~~~~~~~"
   ]
  },
  {
   "cell_type": "code",
   "execution_count": 5,
   "metadata": {
    "id": "U60cFkbUUYmj"
   },
   "outputs": [
    {
     "name": "stdin",
     "output_type": "stream",
     "text": [
      "enter the number 1\n"
     ]
    },
    {
     "name": "stdout",
     "output_type": "stream",
     "text": [
      "Book with ID 1 info updated.\n"
     ]
    }
   ],
   "source": [
    "input_user = int(input(\"enter the number\"))\n",
    "\n",
    "def update_book(input_user, books, title=None, author=None, year=None, genres=None):\n",
    "    if input_user in books.keys():\n",
    "        if title:\n",
    "            books[input_user]['title'] = title\n",
    "        if author:\n",
    "            books[input_user]['author'] = author\n",
    "        if year:\n",
    "            books[input_user]['year'] = year\n",
    "        if genres:\n",
    "            books[input_user]['genres'] = genres\n",
    "        print(f\"Book with ID {input_user} info updated.\")\n",
    "    else:\n",
    "        print(f\"Book with ID {input_user} not found\")\n",
    "    return books\n",
    "\n",
    "books = update_book(input_user, books, title=\"The Silmarillion\", author=\"J.R.R. Tolkien\")\n",
    "        \n",
    "        \n"
   ]
  },
  {
   "cell_type": "markdown",
   "metadata": {
    "id": "ME3j_m-eLhyH"
   },
   "source": [
    "#### Q3: Create a function to delete books from your library and test it."
   ]
  },
  {
   "cell_type": "markdown",
   "metadata": {},
   "source": [
    "### Expected output:\n",
    "~~~~~~~~~~~~~~~~~~~~~~~~~\n",
    "Book with ID 16 does not exist.\n",
    "\n",
    "Book with ID 1 Deleted.\n",
    "~~~~~~~~~~~~~~~~~~~~~~~~~\n"
   ]
  },
  {
   "cell_type": "code",
   "execution_count": 9,
   "metadata": {
    "id": "JlGIx-gJUadK"
   },
   "outputs": [
    {
     "name": "stdin",
     "output_type": "stream",
     "text": [
      "enter the number 1\n"
     ]
    },
    {
     "name": "stdout",
     "output_type": "stream",
     "text": [
      "the book is deleted 1\n"
     ]
    }
   ],
   "source": [
    "input_user = int(input(\"enter the number\"))\n",
    "\n",
    "def delete_book(input_user):\n",
    "    if input_user in books.keys():\n",
    "        del books[input_user]\n",
    "        print(f\"the book is deleted {input_user}\")\n",
    "    else:\n",
    "        print(f\"Book with ID {input_user} not found\")\n",
    "\n",
    "delete_book(input_user)\n",
    "        \n",
    "                \n"
   ]
  },
  {
   "cell_type": "markdown",
   "metadata": {
    "id": "MIamnChwNgFr"
   },
   "source": [
    "#### Q4: Create a function that displays books information from your library and test it."
   ]
  },
  {
   "cell_type": "markdown",
   "metadata": {},
   "source": [
    "### Expected output:\n",
    "~~~~~~~~~~~~~~~~~~~~~~~~~\n",
    "ID: 1, Title: title, Author: author, Year: 2025, Genres: ['genre 1', 'genre 2', 'genre 3']\n",
    "\n",
    "ID: 2, Title: title2, Author: author2, Year: 2010, Genres: ['genre 12', 'genre 22', 'genre 32']\n",
    "~~~~~~~~~~~~~~~~~~~~~~~~~"
   ]
  },
  {
   "cell_type": "code",
   "execution_count": 11,
   "metadata": {
    "id": "xFNIK3YvUbz5"
   },
   "outputs": [
    {
     "name": "stdin",
     "output_type": "stream",
     "text": [
      "enter the number 2\n"
     ]
    },
    {
     "name": "stdout",
     "output_type": "stream",
     "text": [
      "{'title': 'To Kill a Mockingbird', 'author': 'Harper Lee', 'year': 1960, 'genres': ['Fiction', 'Classics']}\n"
     ]
    }
   ],
   "source": [
    "input_user = int(input(\"enter the number\"))\n",
    "\n",
    "def print_books(input_user):\n",
    "    if input_user in books.keys():\n",
    "         print(books[input_user])\n",
    "    else:\n",
    "        print(f\"Book with ID {input_user} not found\")\n",
    "\n",
    "print_books(input_user)\n",
    "        \n",
    "            "
   ]
  },
  {
   "cell_type": "markdown",
   "metadata": {
    "id": "OvfdKdBqNt22"
   },
   "source": [
    "#### Q5: Create functions to do the following: calculates and display the total number of books, the average publication year, and the most common genre. and test it."
   ]
  },
  {
   "cell_type": "markdown",
   "metadata": {},
   "source": [
    "### Expected output:\n",
    "~~~~~~~~~~~~~~~~~~~~~~~~~\n",
    "2\n",
    "\n",
    "2017.5\n",
    "\n",
    "'genre 2'\n",
    "~~~~~~~~~~~~~~~~~~~~~~~~~"
   ]
  },
  {
   "cell_type": "code",
   "execution_count": null,
   "metadata": {
    "id": "mWg5eHIWUcsU"
   },
   "outputs": [],
   "source": [
    "def calculates_num():\n",
    "    print(f\"the number of books is {len(books.keys())}\")\n",
    "    \n",
    "calculates_num()\n",
    "\n",
    "sum_of_number = 0\n",
    "\n",
    "    \n",
    "for k,v in books.items():\n",
    "    sum_of_number += v[\"year\"]\n",
    "    \n",
    "def avg_number():\n",
    "    length = len(books.keys())\n",
    "    avg_number = sum_of_number / length\n",
    "    print(avg_number)\n",
    "    \n",
    "avg_number()\n",
    "\n",
    "genres_x = []\n",
    "for k, v in books.items():\n",
    "    genres_x.extend(v[\"genres\"])\n",
    "\n",
    "def most_genre():\n",
    "    TheMost = max(set(genres_x), key=genres_x.count)  \n",
    "    print(TheMost)\n",
    "\n",
    "most_genre()"
   ]
  },
  {
   "cell_type": "markdown",
   "metadata": {
    "id": "IuVLtf7dQaUW"
   },
   "source": [
    "#### Q6: Create 2 functions to search for books by the title and the author from your library and test it."
   ]
  },
  {
   "cell_type": "markdown",
   "metadata": {},
   "source": [
    "### Expected output:\n",
    "\n",
    "searched for title2 and author2:\n",
    "\n",
    "~~~~~~~~~~~~~~~~~~~~~~~~~\n",
    "{2: {'title': 'title2', 'author': 'author2', 'year': 2010, 'genres': ['genre 12', 'genre 22', 'genre 32']},\n",
    "\n",
    "\n",
    "{2: {'title': 'title2', 'author': 'author2', 'year': 2010, 'genres': ['genre 12', 'genre 22', 'genre 32']},\n",
    "~~~~~~~~~~~~~~~~~~~~~~~~~\n"
   ]
  },
  {
   "cell_type": "code",
   "execution_count": null,
   "metadata": {
    "id": "7LnwRJLCUe3p"
   },
   "outputs": [],
   "source": [
    "input_user = str(input(\"enter the name of Title\"))\n",
    "\n",
    "def search_title(input_user):\n",
    "    for k,v in books.items():\n",
    "        if v['title'] == input_user:\n",
    "            print(k,books[k])\n",
    "search_title(input_user)\n",
    "\n",
    "input_user = str(input(\"enter the name of author\"))\n",
    "def search_author(input_user):\n",
    "    for k,v in books.items():\n",
    "        if v['author'] == input_user:\n",
    "            print(k,books[k])\n",
    "search_author(input_user)"
   ]
  },
  {
   "cell_type": "markdown",
   "metadata": {
    "id": "fAu2ozKBQzJu"
   },
   "source": [
    "#### Q7: Create 2 functions to sort the books by the title and the year from your library and test it."
   ]
  },
  {
   "cell_type": "markdown",
   "metadata": {},
   "source": [
    "**Hint**: Use lambda function\n",
    "\n",
    "\n"
   ]
  },
  {
   "cell_type": "code",
   "execution_count": null,
   "metadata": {
    "id": "X4PyuHTMUgHl"
   },
   "outputs": [],
   "source": [
    "def sort_books_by_title(books):\n",
    "    sorted_books = sorted(books.items(), key=lambda item: item[1]['title'])\n",
    "    return dict(sorted_books)\n",
    "\n",
    "print(\"Books sorted by title: \\n\")\n",
    "by_title = sort_books_by_title(books)\n",
    "print(by_title)\n",
    "\n",
    "def sort_books_by_year(books):\n",
    "    sorted_books = sorted(books.items(), key=lambda item: item[1]['year'])\n",
    "    return dict(sorted_books)\n",
    "\n",
    "print(\"\\n\")\n",
    "print(\"Books sorted by year: \\n\")\n",
    "by_year = sort_books_by_year(books)\n",
    "print(by_year)\n",
    "\n"
   ]
  },
  {
   "cell_type": "markdown",
   "metadata": {
    "id": "KiaFO8rdiv4u"
   },
   "source": [
    "#### Q8: Create a function to bulk update genres(Replace a specific genre with a new genre) of books using list comprehension. and test it."
   ]
  },
  {
   "cell_type": "markdown",
   "metadata": {},
   "source": [
    "### Expected output:\n",
    "\n",
    "```python\n",
    "bulk_update_genres(\"genre 22\", \"Drama\")\n",
    "```\n",
    "~~~~~~~~~~~\n",
    "- Before:\n",
    "{2: {'title': 'title2', 'author': 'author2', 'year': 2010, 'genres': ['genre 12', 'genre 22', 'genre 32']},\n",
    "- After:\n",
    "{2: {'title': 'title2', 'author': 'author2', 'year': 2010, 'genres': ['genre 12', 'Drama', 'genre 32']},\n",
    "\n",
    "\n"
   ]
  },
  {
   "cell_type": "code",
   "execution_count": null,
   "metadata": {
    "id": "AbvXyE96UhVt"
   },
   "outputs": [],
   "source": [
    "def update_genres(old_genre, new_genre):\n",
    "    for k, v in books.items():\n",
    "        if old_genre in v['genres']:  \n",
    "            print(\"Before update:\", books[k]) \n",
    "            v['genres'] = [new_genre if genre == old_genre else genre for genre in v['genres']] \n",
    "            print(\"\\nAfter update:\", books[k])  \n",
    "            print(\"-------------------------------------------------------------------\")\n",
    "    \n",
    "\n",
    "update_genres(\"Fiction\", \"Drama\")\n",
    "\n"
   ]
  },
  {
   "cell_type": "markdown",
   "metadata": {
    "id": "ZWkmOUNgi6V_"
   },
   "source": [
    "#### Q9: Implement a function to generate a report summarizing the library's statistics, including the total number of books, the number of books by each author, the number of books in each genre, and the oldest and newest books. and test it."
   ]
  },
  {
   "cell_type": "code",
   "execution_count": 13,
   "metadata": {
    "id": "Okjlb9pTUloe"
   },
   "outputs": [
    {
     "name": "stdout",
     "output_type": "stream",
     "text": [
      "total number of books is :14\n",
      "-----------------------------------\n",
      "-----------------------------------\n",
      "{'Harper Lee': 1, 'F. Scott Fitzgerald': 1, 'George Orwell': 1, 'J.D. Salinger': 1, 'Jane Austen': 1, 'J.R.R. Tolkien': 1, 'Suzanne Collins': 1, 'Dan Brown': 1, 'C.S. Lewis': 1, 'Margaret Mitchell': 1, 'Yuval Noah Harari': 1, 'Cormac McCarthy': 1, 'Stieg Larsson': 1, 'Paulo Coelho': 1}\n",
      "-----------------------------------\n",
      "-----------------------------------\n",
      "{'Fiction': 7, 'Classics': 4, 'Dystopian': 2, 'Romance': 2, 'Fantasy': 2, 'Adventure': 1, 'Science Fiction': 1, 'Young Adult': 1, 'Mystery': 2, 'Thriller': 2, \"Children's Literature\": 1, 'Historical Fiction': 1, 'Nonfiction': 1, 'History': 1, 'Science': 1, 'Post-Apocalyptic': 1, 'Inspirational': 1}\n",
      "-----------------------------------\n",
      "-----------------------------------\n",
      "(6, {'title': 'Pride and Prejudice', 'author': 'Jane Austen', 'year': 1813, 'genres': ['Fiction', 'Romance', 'Classics']})\n",
      "-----------------------------------\n",
      "-----------------------------------\n",
      "(12, {'title': 'Sapiens: A Brief History of Humankind', 'author': 'Yuval Noah Harari', 'year': 2011, 'genres': ['Nonfiction', 'History', 'Science']})\n"
     ]
    }
   ],
   "source": [
    "def report_summ(books):\n",
    "    global books_by_author,number_of_each_genre,oldest_book,newest_book\n",
    "    \n",
    "    numberBooks = len(books.keys())\n",
    "    print(f\"total number of books is :{numberBooks}\")\n",
    "    \n",
    "    oldest_book = min(books.items(), key=lambda item: item[1]['year'])\n",
    "    newest_book = max(books.items(), key=lambda item: item[1]['year'])\n",
    "\n",
    "   \n",
    "    books_by_author = {}\n",
    "    for x in books.values():\n",
    "        author = x[\"author\"]\n",
    "        books_by_author[author] = books_by_author.get(author,0) + 1 \n",
    "        \"\"\"\n",
    "        will take the first name \"J.K. Rowling\" and start to check if she in the books_by_author dict, if yes will ( 1 + 1) and so on, if no ( 0 + 1)\n",
    "        \"\"\"\n",
    "    number_of_each_genre = {}\n",
    "    for x in books.values():\n",
    "        for genre in x[\"genres\"]:\n",
    "            number_of_each_genre[genre] = number_of_each_genre.get(genre,0) + 1\n",
    "\"\"\"\n",
    "Checks if genre exists in the dictionary.\n",
    "If yes, it returns the current count of books in that genre.\n",
    "If no, it returns 0 (default value), preventing errors.\n",
    "\"\"\"\n",
    "\n",
    "\n",
    "report_summ(books)\n",
    "print(\"-----------------------------------\")\n",
    "print(\"-----------------------------------\")\n",
    "\n",
    "print(books_by_author)\n",
    "print(\"-----------------------------------\")\n",
    "print(\"-----------------------------------\")\n",
    "\n",
    "print(number_of_each_genre)\n",
    "print(\"-----------------------------------\")\n",
    "print(\"-----------------------------------\")\n",
    "\n",
    "print(oldest_book)\n",
    "print(\"-----------------------------------\")\n",
    "print(\"-----------------------------------\")\n",
    "\n",
    "print(newest_book)\n",
    "\n",
    "        \n",
    "    "
   ]
  },
  {
   "cell_type": "code",
   "execution_count": null,
   "metadata": {},
   "outputs": [],
   "source": []
  }
 ],
 "metadata": {
  "colab": {
   "provenance": []
  },
  "kernelspec": {
   "display_name": "Python [conda env:base] *",
   "language": "python",
   "name": "conda-base-py"
  },
  "language_info": {
   "codemirror_mode": {
    "name": "ipython",
    "version": 3
   },
   "file_extension": ".py",
   "mimetype": "text/x-python",
   "name": "python",
   "nbconvert_exporter": "python",
   "pygments_lexer": "ipython3",
   "version": "3.12.7"
  }
 },
 "nbformat": 4,
 "nbformat_minor": 4
}
