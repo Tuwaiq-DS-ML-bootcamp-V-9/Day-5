{
 "cells": [
  {
   "cell_type": "markdown",
   "metadata": {
    "id": "kZXiW0-J0-2x"
   },
   "source": [
    "# Python_Groups_Hands-on\n"
   ]
  },
  {
   "cell_type": "markdown",
   "metadata": {
    "id": "I05A6_S80-2y"
   },
   "source": [
    "## Project: Library Management System\n",
    "### Description:\n",
    "- Develop a basic Library Management System (LMS) that allows users to manage book records, including adding, updating, deleting, and displaying book information. The system should also provide basic statistical analysis.\n",
    "\n",
    "### System requirements:\n",
    "\n",
    "#### Data Structure Design:\n",
    "\n",
    "  - Define data structures using lists, tuples, dictionaries, and sets to store book information (e.g., book ID, title, author, year, genres).\n",
    "\n",
    "#### Basic Operations:\n",
    "\n",
    "- Implement functions to add, update, delete, and display book records.\n",
    "- Ensure proper type conversion and validation of inputs.\n",
    "\n",
    "#### Statistical Analysis:\n",
    "\n",
    "- Write functions to calculate and display the total number of books, the average publication year, and the most common genre.\n",
    "- Use list comprehensions and built-in functions (sort, len, zip, range) for calculations.\n",
    "\n",
    "#### Advanced Features:\n",
    "\n",
    "- Implement search functionality to find books by title or author using lambda functions.\n",
    "- Provide sorting options for book records based on different criteria (e.g., title, year).\n",
    "\n",
    "\n",
    "#### Exception Handling:\n",
    "\n",
    "- Handle potential errors (e.g., invalid input) using try-except blocks."
   ]
  },
  {
   "cell_type": "markdown",
   "metadata": {
    "id": "rXuH9y0_D76o"
   },
   "source": [
    "#### Q1: Using the following table, create a function to add these books to your library:\n",
    "\n",
    "\n",
    "\n",
    "| Book ID | Title                            | Author               | Year | Genres                              |\n",
    "|---------|----------------------------------|----------------------|------|-------------------------------------|\n",
    "| 1       | Harry Potter and the Sorcerer's Stone | J.K. Rowling         | 1997 | Fantasy, Young Adult                |\n",
    "| 2       | To Kill a Mockingbird             | Harper Lee           | 1960 | Fiction, Classics                   |\n",
    "| 3       | The Great Gatsby                  | F. Scott Fitzgerald  | 1925 | Fiction, Classics                   |\n",
    "| 4       | 1984                              | George Orwell        | 1949 | Fiction, Dystopian                  |\n",
    "| 5       | The Catcher in the Rye            | J.D. Salinger        | 1951 | Fiction, Classics                   |\n",
    "| 6       | Pride and Prejudice               | Jane Austen          | 1813 | Fiction, Romance, Classics          |\n",
    "| 7       | The Hobbit                        | J.R.R. Tolkien       | 1937 | Fantasy, Adventure                  |\n",
    "| 8       | The Hunger Games                  | Suzanne Collins      | 2008 | Science Fiction, Dystopian, Young Adult |\n",
    "| 9       | The Da Vinci Code                 | Dan Brown            | 2003 | Mystery, Thriller                   |\n",
    "| 10      | The Chronicles of Narnia          | C.S. Lewis           | 1950 | Fantasy, Children's Literature      |\n",
    "| 11      | Gone with the Wind                | Margaret Mitchell    | 1936 | Historical Fiction, Romance         |\n",
    "| 12      | Sapiens: A Brief History of Humankind | Yuval Noah Harari   | 2011 | Nonfiction, History, Science        |\n",
    "| 13      | The Road                          | Cormac McCarthy      | 2006 | Fiction, Post-Apocalyptic           |\n",
    "| 14      | The Girl with the Dragon Tattoo   | Stieg Larsson        | 2005 | Mystery, Thriller                   |\n",
    "| 15      | The Alchemist                     | Paulo Coelho         | 1988 | Fiction, Inspirational              |\n"
   ]
  },
  {
   "cell_type": "markdown",
   "metadata": {},
   "source": [
    "### Expected output:\n",
    "~~~~~~~~~~~~~~~~~~~~~~~~~\n",
    "{1: {'title': 'title',\n",
    "  'author': 'author',\n",
    "  'year': 2025,\n",
    "  'genres': ['genre 1', 'genre 2', 'genre 3']}}\n",
    "  ~~~~~~~~~~~~~~~~~~~~~~~~~"
   ]
  },
  {
   "cell_type": "code",
   "execution_count": 1,
   "metadata": {
    "id": "BzV_B_g20-2z"
   },
   "outputs": [
    {
     "name": "stdout",
     "output_type": "stream",
     "text": [
      "Original Library:\n",
      "ID: 1, Title: Harry Potter and the Sorcerer's Stone\n",
      "ID: 2, Title: To Kill a Mockingbird\n",
      "ID: 3, Title: The Great Gatsby\n",
      "ID: 4, Title: 1984\n",
      "ID: 5, Title: The Catcher in the Rye\n",
      "ID: 6, Title: Pride and Prejudice\n",
      "ID: 7, Title: The Hobbit\n",
      "ID: 8, Title: The Hunger Games\n",
      "ID: 9, Title: The Da Vinci Code\n",
      "ID: 10, Title: The Chronicles of Narnia\n",
      "ID: 11, Title: Gone with the Wind\n",
      "ID: 12, Title: Sapiens: A Brief History of Humankind\n",
      "ID: 13, Title: The Road\n",
      "ID: 14, Title: The Girl with the Dragon Tattoo\n",
      "ID: 15, Title: The Alchemist\n",
      "\n",
      "Updated Library:\n",
      "ID: 1, Title: Harry Potter and the Sorcerer's Stone\n",
      "ID: 2, Title: To Kill a Mockingbird\n",
      "ID: 3, Title: The Great Gatsby\n",
      "ID: 4, Title: 1984\n",
      "ID: 5, Title: The Catcher in the Rye\n",
      "ID: 6, Title: Pride and Prejudice\n",
      "ID: 7, Title: The Hobbit\n",
      "ID: 8, Title: The Hunger Games\n",
      "ID: 9, Title: The Da Vinci Code\n",
      "ID: 10, Title: The Chronicles of Narnia\n",
      "ID: 11, Title: Gone with the Wind\n",
      "ID: 12, Title: Sapiens: A Brief History of Humankind\n",
      "ID: 13, Title: The Road\n",
      "ID: 14, Title: The Girl with the Dragon Tattoo\n",
      "ID: 15, Title: The Alchemist\n",
      "ID: 16, Title: The Lord of the Rings\n"
     ]
    }
   ],
   "source": [
    "# write your code here ^_^\n",
    "def add_books():\n",
    "    books = {\n",
    "        1: {'title': 'Harry Potter and the Sorcerer\\'s Stone', 'author': 'J.K. Rowling', 'year': 1997, 'genres': ['Fantasy', 'Young Adult']},\n",
    "        2: {'title': 'To Kill a Mockingbird', 'author': 'Harper Lee', 'year': 1960, 'genres': ['Fiction', 'Classics']},\n",
    "        3: {'title': 'The Great Gatsby', 'author': 'F. Scott Fitzgerald', 'year': 1925, 'genres': ['Fiction', 'Classics']},\n",
    "        4: {'title': '1984', 'author': 'George Orwell', 'year': 1949, 'genres': ['Fiction', 'Dystopian']},\n",
    "        5: {'title': 'The Catcher in the Rye', 'author': 'J.D. Salinger', 'year': 1951, 'genres': ['Fiction', 'Classics']},\n",
    "        6: {'title': 'Pride and Prejudice', 'author': 'Jane Austen', 'year': 1813, 'genres': ['Fiction', 'Romance', 'Classics']},\n",
    "        7: {'title': 'The Hobbit', 'author': 'J.R.R. Tolkien', 'year': 1937, 'genres': ['Fantasy', 'Adventure']},\n",
    "        8: {'title': 'The Hunger Games', 'author': 'Suzanne Collins', 'year': 2008, 'genres': ['Science Fiction', 'Dystopian', 'Young Adult']},\n",
    "        9: {'title': 'The Da Vinci Code', 'author': 'Dan Brown', 'year': 2003, 'genres': ['Mystery', 'Thriller']},\n",
    "        10: {'title': 'The Chronicles of Narnia', 'author': 'C.S. Lewis', 'year': 1950, 'genres': ['Fantasy', 'Children\\'s Literature']},\n",
    "        11: {'title': 'Gone with the Wind', 'author': 'Margaret Mitchell', 'year': 1936, 'genres': ['Historical Fiction', 'Romance']},\n",
    "        12: {'title': 'Sapiens: A Brief History of Humankind', 'author': 'Yuval Noah Harari', 'year': 2011, 'genres': ['Nonfiction', 'History', 'Science']},\n",
    "        13: {'title': 'The Road', 'author': 'Cormac McCarthy', 'year': 2006, 'genres': ['Fiction', 'Post-Apocalyptic']},\n",
    "        14: {'title': 'The Girl with the Dragon Tattoo', 'author': 'Stieg Larsson', 'year': 2005, 'genres': ['Mystery', 'Thriller']},\n",
    "        15: {'title': 'The Alchemist', 'author': 'Paulo Coelho', 'year': 1988, 'genres': ['Fiction', 'Inspirational']}\n",
    "    }\n",
    "    return books\n",
    "\n",
    "def add_new_book(id, books, title, author, year, genres):\n",
    "    \n",
    "    if id in books:\n",
    "        print(f\"Book ID {id} already exists. Please use a unique ID.\")\n",
    "    else:\n",
    "        books[id] = {'title': title, 'author': author, 'year': year, 'genres': genres}\n",
    "    return books\n",
    "\n",
    "\n",
    "library = add_books()\n",
    "print(\"Original Library:\")\n",
    "for book_id, details in library.items():\n",
    "    print(f\"ID: {book_id}, Title: {details['title']}\")\n",
    "\n",
    "\n",
    "library = add_new_book(16, library, 'The Lord of the Rings', 'J.R.R. Tolkien', 1954, ['Fantasy', 'Adventure'])\n",
    "print(\"\\nUpdated Library:\")\n",
    "for book_id, details in library.items():\n",
    "    print(f\"ID: {book_id}, Title: {details['title']}\")"
   ]
  },
  {
   "cell_type": "markdown",
   "metadata": {
    "id": "kR5bvgOsF3oJ"
   },
   "source": [
    "#### Q2: Create a function that updates books exsisted in your library and test it.\n",
    "- **Note**: If the user entered wrong book ID it should print \"Book with ID 'num' does not exist."
   ]
  },
  {
   "cell_type": "markdown",
   "metadata": {},
   "source": [
    "### Expected output:\n",
    "~~~~~~~~~~~~~~~~~~~~~~~~~\n",
    "Book with ID 16 does not exist.\n",
    "\n",
    "Book with ID 1 info updated.\n",
    "~~~~~~~~~~~~~~~~~~~~~~~~~"
   ]
  },
  {
   "cell_type": "code",
   "execution_count": 3,
   "metadata": {
    "id": "U60cFkbUUYmj"
   },
   "outputs": [
    {
     "name": "stdout",
     "output_type": "stream",
     "text": [
      "Book with ID 16 info updated.\n",
      "Book with ID 17 does not exist.\n",
      "\n",
      "Updated Library:\n",
      "ID: 1, Title: Harry Potter and the Sorcerer's Stone, Year: 1997\n",
      "ID: 2, Title: To Kill a Mockingbird, Year: 1960\n",
      "ID: 3, Title: The Great Gatsby, Year: 1925\n",
      "ID: 4, Title: 1984, Year: 1949\n",
      "ID: 5, Title: The Catcher in the Rye, Year: 1951\n",
      "ID: 6, Title: Pride and Prejudice, Year: 1813\n",
      "ID: 7, Title: The Hobbit, Year: 1937\n",
      "ID: 8, Title: The Hunger Games, Year: 2008\n",
      "ID: 9, Title: The Da Vinci Code, Year: 2003\n",
      "ID: 10, Title: The Chronicles of Narnia, Year: 1950\n",
      "ID: 11, Title: Gone with the Wind, Year: 1936\n",
      "ID: 12, Title: Sapiens: A Brief History of Humankind, Year: 2011\n",
      "ID: 13, Title: The Road, Year: 2006\n",
      "ID: 14, Title: The Girl with the Dragon Tattoo, Year: 2005\n",
      "ID: 15, Title: The Alchemist, Year: 1988\n",
      "ID: 16, Title: The Silmarillion, Year: 1954\n"
     ]
    }
   ],
   "source": [
    "# write your code here ^_^\n",
    "def update_book(id, books, title=None, author=None, year=None, genres=None):\n",
    "    \n",
    "    \n",
    "    if id in books:\n",
    "        if title:\n",
    "            books[id]['title'] = title\n",
    "        if author:\n",
    "            books[id]['author'] = author\n",
    "        if year:\n",
    "            books[id]['year'] = year\n",
    "        if genres:\n",
    "            books[id]['genres'] = genres\n",
    "        print(f\"Book with ID {id} info updated.\")\n",
    "    else:\n",
    "        print(f\"Book with ID {id} does not exist.\")\n",
    "    return books\n",
    "\n",
    "\n",
    "library = update_book(16, library, title=\"The Silmarillion\", author=\"J.R.R. Tolkien\")\n",
    "\n",
    "\n",
    "library = update_book(17, library, title=\"Harry Potter and the Philosopher's Stone\", year=1998)\n",
    "\n",
    "\n",
    "print(\"\\nUpdated Library:\")\n",
    "for book_id, details in library.items():\n",
    "    print(f\"ID: {book_id}, Title: {details['title']}, Year: {details['year']}\")"
   ]
  },
  {
   "cell_type": "markdown",
   "metadata": {
    "id": "ME3j_m-eLhyH"
   },
   "source": [
    "#### Q3: Create a function to delete books from your library and test it."
   ]
  },
  {
   "cell_type": "markdown",
   "metadata": {},
   "source": [
    "### Expected output:\n",
    "~~~~~~~~~~~~~~~~~~~~~~~~~\n",
    "Book with ID 16 does not exist.\n",
    "\n",
    "Book with ID 1 Deleted.\n",
    "~~~~~~~~~~~~~~~~~~~~~~~~~\n"
   ]
  },
  {
   "cell_type": "code",
   "execution_count": 5,
   "metadata": {
    "id": "JlGIx-gJUadK"
   },
   "outputs": [
    {
     "name": "stdout",
     "output_type": "stream",
     "text": [
      "Book with ID 17 does not exist.\n",
      "Book with ID 1 info deleted.\n",
      "\n",
      "Updated Library:\n",
      "ID: 2, Title: To Kill a Mockingbird, Year: 1960\n",
      "ID: 3, Title: The Great Gatsby, Year: 1925\n",
      "ID: 4, Title: 1984, Year: 1949\n",
      "ID: 5, Title: The Catcher in the Rye, Year: 1951\n",
      "ID: 6, Title: Pride and Prejudice, Year: 1813\n",
      "ID: 7, Title: The Hobbit, Year: 1937\n",
      "ID: 8, Title: The Hunger Games, Year: 2008\n",
      "ID: 9, Title: The Da Vinci Code, Year: 2003\n",
      "ID: 10, Title: The Chronicles of Narnia, Year: 1950\n",
      "ID: 11, Title: Gone with the Wind, Year: 1936\n",
      "ID: 12, Title: Sapiens: A Brief History of Humankind, Year: 2011\n",
      "ID: 13, Title: The Road, Year: 2006\n",
      "ID: 14, Title: The Girl with the Dragon Tattoo, Year: 2005\n",
      "ID: 15, Title: The Alchemist, Year: 1988\n",
      "ID: 16, Title: The Silmarillion, Year: 1954\n"
     ]
    }
   ],
   "source": [
    "# write your code here ^_^\n",
    "def delete_book(id, books):\n",
    "  \n",
    "    if id in books:\n",
    "        del books[id]  # Delete the book with the given ID\n",
    "        print(f\"Book with ID {id} info deleted.\")\n",
    "    else:\n",
    "        print(f\"Book with ID {id} does not exist.\")\n",
    "    return books\n",
    "\n",
    "\n",
    "library = delete_book(17, library)  \n",
    "\n",
    "\n",
    "library = delete_book(1, library)  \n",
    "\n",
    "# Printing the updated library\n",
    "print(\"\\nUpdated Library:\")\n",
    "for book_id, details in library.items():\n",
    "    print(f\"ID: {book_id}, Title: {details['title']}, Year: {details['year']}\")"
   ]
  },
  {
   "cell_type": "markdown",
   "metadata": {
    "id": "MIamnChwNgFr"
   },
   "source": [
    "#### Q4: Create a function that displays books information from your library and test it."
   ]
  },
  {
   "cell_type": "markdown",
   "metadata": {},
   "source": [
    "### Expected output:\n",
    "~~~~~~~~~~~~~~~~~~~~~~~~~\n",
    "ID: 1, Title: title, Author: author, Year: 2025, Genres: ['genre 1', 'genre 2', 'genre 3']\n",
    "\n",
    "ID: 2, Title: title2, Author: author2, Year: 2010, Genres: ['genre 12', 'genre 22', 'genre 32']\n",
    "~~~~~~~~~~~~~~~~~~~~~~~~~"
   ]
  },
  {
   "cell_type": "code",
   "execution_count": 7,
   "metadata": {
    "id": "xFNIK3YvUbz5"
   },
   "outputs": [
    {
     "name": "stdout",
     "output_type": "stream",
     "text": [
      "ID: 2, Title: To Kill a Mockingbird, Author: Harper Lee, Year: 1960, Genres: ['Fiction', 'Classics']\n",
      "ID: 3, Title: The Great Gatsby, Author: F. Scott Fitzgerald, Year: 1925, Genres: ['Fiction', 'Classics']\n",
      "ID: 4, Title: 1984, Author: George Orwell, Year: 1949, Genres: ['Fiction', 'Dystopian']\n",
      "ID: 5, Title: The Catcher in the Rye, Author: J.D. Salinger, Year: 1951, Genres: ['Fiction', 'Classics']\n",
      "ID: 6, Title: Pride and Prejudice, Author: Jane Austen, Year: 1813, Genres: ['Fiction', 'Romance', 'Classics']\n",
      "ID: 7, Title: The Hobbit, Author: J.R.R. Tolkien, Year: 1937, Genres: ['Fantasy', 'Adventure']\n",
      "ID: 8, Title: The Hunger Games, Author: Suzanne Collins, Year: 2008, Genres: ['Science Fiction', 'Dystopian', 'Young Adult']\n",
      "ID: 9, Title: The Da Vinci Code, Author: Dan Brown, Year: 2003, Genres: ['Mystery', 'Thriller']\n",
      "ID: 10, Title: The Chronicles of Narnia, Author: C.S. Lewis, Year: 1950, Genres: ['Fantasy', \"Children's Literature\"]\n",
      "ID: 11, Title: Gone with the Wind, Author: Margaret Mitchell, Year: 1936, Genres: ['Historical Fiction', 'Romance']\n",
      "ID: 12, Title: Sapiens: A Brief History of Humankind, Author: Yuval Noah Harari, Year: 2011, Genres: ['Nonfiction', 'History', 'Science']\n",
      "ID: 13, Title: The Road, Author: Cormac McCarthy, Year: 2006, Genres: ['Fiction', 'Post-Apocalyptic']\n",
      "ID: 14, Title: The Girl with the Dragon Tattoo, Author: Stieg Larsson, Year: 2005, Genres: ['Mystery', 'Thriller']\n",
      "ID: 15, Title: The Alchemist, Author: Paulo Coelho, Year: 1988, Genres: ['Fiction', 'Inspirational']\n",
      "ID: 16, Title: The Silmarillion, Author: J.R.R. Tolkien, Year: 1954, Genres: ['Fantasy', 'Adventure']\n"
     ]
    }
   ],
   "source": [
    "# write your code here ^_^\n",
    "def display_all():\n",
    "    for book_id, details in library.items():\n",
    "        print(f\"ID: {book_id}, Title: {details['title']}, Author: {details['author']}, Year: {details['year']}, Genres: {details['genres']}\")\n",
    "\n",
    "display_all()"
   ]
  },
  {
   "cell_type": "markdown",
   "metadata": {
    "id": "OvfdKdBqNt22"
   },
   "source": [
    "#### Q5: Create functions to do the following: calculates and display the total number of books, the average publication year, and the most common genre. and test it."
   ]
  },
  {
   "cell_type": "markdown",
   "metadata": {},
   "source": [
    "### Expected output:\n",
    "~~~~~~~~~~~~~~~~~~~~~~~~~\n",
    "2\n",
    "\n",
    "2017.5\n",
    "\n",
    "'genre 2'\n",
    "~~~~~~~~~~~~~~~~~~~~~~~~~"
   ]
  },
  {
   "cell_type": "code",
   "execution_count": 9,
   "metadata": {
    "id": "mWg5eHIWUcsU"
   },
   "outputs": [
    {
     "name": "stdout",
     "output_type": "stream",
     "text": [
      "The number of books in the library is: 15\n",
      "The average publication year is: 1959.7333333333333\n",
      "The most common genre is: Fiction\n"
     ]
    }
   ],
   "source": [
    "# write your code here ^_^\n",
    "def calc_books(library):\n",
    "    number = len(library)\n",
    "    print(\"The number of books in the library is:\", number)\n",
    "\n",
    "    \n",
    "    total_year = 0\n",
    "    for book_id, book_details in library.items():\n",
    "        total_year += book_details[\"year\"]\n",
    "\n",
    "    average_year = total_year / number \n",
    "    print(\"The average publication year is:\",average_year)\n",
    "\n",
    "   \n",
    "    genre_count = {}\n",
    "    for book_id, book_details in library.items():\n",
    "        for genre in book_details[\"genres\"]:\n",
    "            if genre in genre_count:\n",
    "                genre_count[genre] += 1\n",
    "            else:\n",
    "                genre_count[genre] = 1\n",
    "\n",
    "\n",
    "    if genre_count:\n",
    "        most_common_genre = max(genre_count, key=genre_count.get)\n",
    "        print(\"The most common genre is:\", most_common_genre)\n",
    "    else:\n",
    "        print(\"No genres found in the library.\")\n",
    "\n",
    "\n",
    "calc_books(library)"
   ]
  },
  {
   "cell_type": "markdown",
   "metadata": {
    "id": "IuVLtf7dQaUW"
   },
   "source": [
    "#### Q6: Create 2 functions to search for books by the title and the author from your library and test it."
   ]
  },
  {
   "cell_type": "markdown",
   "metadata": {},
   "source": [
    "### Expected output:\n",
    "\n",
    "searched for title2 and author2:\n",
    "\n",
    "~~~~~~~~~~~~~~~~~~~~~~~~~\n",
    "{2: {'title': 'title2', 'author': 'author2', 'year': 2010, 'genres': ['genre 12', 'genre 22', 'genre 32']},\n",
    "\n",
    "\n",
    "{2: {'title': 'title2', 'author': 'author2', 'year': 2010, 'genres': ['genre 12', 'genre 22', 'genre 32']},\n",
    "~~~~~~~~~~~~~~~~~~~~~~~~~\n"
   ]
  },
  {
   "cell_type": "code",
   "execution_count": 11,
   "metadata": {
    "id": "7LnwRJLCUe3p"
   },
   "outputs": [
    {
     "name": "stdout",
     "output_type": "stream",
     "text": [
      "Book not found.\n"
     ]
    }
   ],
   "source": [
    "# write your code here ^_^\n",
    "def search_title(title):\n",
    "  \n",
    "    for book_id, details in library.items():\n",
    "        if details[\"title\"].lower() == title.lower():\n",
    "            print(f\"ID: {book_id}, Title: {details['title']}, Author: {details['author']}, Year: {details['year']}\")\n",
    "            return\n",
    "    print(\"Book not found.\")\n",
    "search_title(\"Harry Potter and the Sorcerer's Stone\")"
   ]
  },
  {
   "cell_type": "code",
   "execution_count": 13,
   "metadata": {},
   "outputs": [
    {
     "name": "stdout",
     "output_type": "stream",
     "text": [
      "Author not found.\n"
     ]
    }
   ],
   "source": [
    "def search_author(author):\n",
    "  \n",
    "    for book_id, details in library.items():\n",
    "        if details[\"author\"].lower() == author.lower():\n",
    "            print(f\"ID: {book_id}, Title: {details['title']}, Author: {details['author']}, Year: {details['year']}\")\n",
    "            return\n",
    "    print(\"Author not found.\")\n",
    "search_author(\"J.K. Rowling\")"
   ]
  },
  {
   "cell_type": "markdown",
   "metadata": {
    "id": "fAu2ozKBQzJu"
   },
   "source": [
    "#### Q7: Create 2 functions to sort the books by the title and the year from your library and test it."
   ]
  },
  {
   "cell_type": "markdown",
   "metadata": {},
   "source": [
    "**Hint**: Use lambda function\n",
    "\n",
    "\n"
   ]
  },
  {
   "cell_type": "code",
   "execution_count": 15,
   "metadata": {
    "id": "X4PyuHTMUgHl"
   },
   "outputs": [
    {
     "name": "stdout",
     "output_type": "stream",
     "text": [
      "Books sorted by title:\n",
      "ID: 4, Title: 1984, Author: George Orwell, Year: 1949\n",
      "ID: 11, Title: Gone with the Wind, Author: Margaret Mitchell, Year: 1936\n",
      "ID: 6, Title: Pride and Prejudice, Author: Jane Austen, Year: 1813\n",
      "ID: 12, Title: Sapiens: A Brief History of Humankind, Author: Yuval Noah Harari, Year: 2011\n",
      "ID: 15, Title: The Alchemist, Author: Paulo Coelho, Year: 1988\n",
      "ID: 5, Title: The Catcher in the Rye, Author: J.D. Salinger, Year: 1951\n",
      "ID: 10, Title: The Chronicles of Narnia, Author: C.S. Lewis, Year: 1950\n",
      "ID: 9, Title: The Da Vinci Code, Author: Dan Brown, Year: 2003\n",
      "ID: 14, Title: The Girl with the Dragon Tattoo, Author: Stieg Larsson, Year: 2005\n",
      "ID: 3, Title: The Great Gatsby, Author: F. Scott Fitzgerald, Year: 1925\n",
      "ID: 7, Title: The Hobbit, Author: J.R.R. Tolkien, Year: 1937\n",
      "ID: 8, Title: The Hunger Games, Author: Suzanne Collins, Year: 2008\n",
      "ID: 13, Title: The Road, Author: Cormac McCarthy, Year: 2006\n",
      "ID: 16, Title: The Silmarillion, Author: J.R.R. Tolkien, Year: 1954\n",
      "ID: 2, Title: To Kill a Mockingbird, Author: Harper Lee, Year: 1960\n"
     ]
    }
   ],
   "source": [
    "# write your code here ^_^\n",
    "def sort_books_by_title():\n",
    "    \"\"\"Sorts books alphabetically by title.\"\"\"\n",
    "    sorted_books = sorted(library.items(), key=lambda x: x[1][\"title\"].lower())\n",
    "    for book_id, details in sorted_books:\n",
    "        print(f\"ID: {book_id}, Title: {details['title']}, Author: {details['author']}, Year: {details['year']}\")\n",
    "\n",
    "print(\"Books sorted by title:\")\n",
    "sort_books_by_title()"
   ]
  },
  {
   "cell_type": "code",
   "execution_count": 17,
   "metadata": {},
   "outputs": [
    {
     "name": "stdout",
     "output_type": "stream",
     "text": [
      "Books sorted by year:\n",
      "ID: 4, Title: 1984, Author: George Orwell, Year: 1949\n",
      "ID: 11, Title: Gone with the Wind, Author: Margaret Mitchell, Year: 1936\n",
      "ID: 6, Title: Pride and Prejudice, Author: Jane Austen, Year: 1813\n",
      "ID: 12, Title: Sapiens: A Brief History of Humankind, Author: Yuval Noah Harari, Year: 2011\n",
      "ID: 15, Title: The Alchemist, Author: Paulo Coelho, Year: 1988\n",
      "ID: 5, Title: The Catcher in the Rye, Author: J.D. Salinger, Year: 1951\n",
      "ID: 10, Title: The Chronicles of Narnia, Author: C.S. Lewis, Year: 1950\n",
      "ID: 9, Title: The Da Vinci Code, Author: Dan Brown, Year: 2003\n",
      "ID: 14, Title: The Girl with the Dragon Tattoo, Author: Stieg Larsson, Year: 2005\n",
      "ID: 3, Title: The Great Gatsby, Author: F. Scott Fitzgerald, Year: 1925\n",
      "ID: 7, Title: The Hobbit, Author: J.R.R. Tolkien, Year: 1937\n",
      "ID: 8, Title: The Hunger Games, Author: Suzanne Collins, Year: 2008\n",
      "ID: 13, Title: The Road, Author: Cormac McCarthy, Year: 2006\n",
      "ID: 16, Title: The Silmarillion, Author: J.R.R. Tolkien, Year: 1954\n",
      "ID: 2, Title: To Kill a Mockingbird, Author: Harper Lee, Year: 1960\n"
     ]
    }
   ],
   "source": [
    "def sort_books_year():\n",
    "    \n",
    "    sorted_year = sorted(library.items(), key=lambda x: x[1][\"year\"])\n",
    "    for book_id, details in sorted_year:\n",
    "        print(f\"ID: {book_id}, Title: {details['title']}, Author: {details['author']}, Year: {details['year']}\")\n",
    "\n",
    "print(\"Books sorted by year:\")\n",
    "sort_books_by_title()"
   ]
  },
  {
   "cell_type": "markdown",
   "metadata": {
    "id": "KiaFO8rdiv4u"
   },
   "source": [
    "#### Q8: Create a function to bulk update genres(Replace a specific genre with a new genre) of books using list comprehension. and test it."
   ]
  },
  {
   "cell_type": "markdown",
   "metadata": {},
   "source": [
    "### Expected output:\n",
    "\n",
    "```python\n",
    "bulk_update_genres(\"genre 22\", \"Drama\")\n",
    "```\n",
    "~~~~~~~~~~~\n",
    "- Before:\n",
    "{2: {'title': 'title2', 'author': 'author2', 'year': 2010, 'genres': ['genre 12', 'genre 22', 'genre 32']},\n",
    "- After:\n",
    "{2: {'title': 'title2', 'author': 'author2', 'year': 2010, 'genres': ['genre 12', 'Drama', 'genre 32']},\n",
    "\n",
    "\n"
   ]
  },
  {
   "cell_type": "code",
   "execution_count": 19,
   "metadata": {
    "id": "AbvXyE96UhVt"
   },
   "outputs": [
    {
     "name": "stdout",
     "output_type": "stream",
     "text": [
      "\n",
      "After bulk update:\n",
      "ID: 2, Title: To Kill a Mockingbird, Author: Harper Lee, Year: 1960, Genres: ['Drama', 'Classics']\n",
      "ID: 3, Title: The Great Gatsby, Author: F. Scott Fitzgerald, Year: 1925, Genres: ['Drama', 'Classics']\n",
      "ID: 4, Title: 1984, Author: George Orwell, Year: 1949, Genres: ['Drama', 'Dystopian']\n",
      "ID: 5, Title: The Catcher in the Rye, Author: J.D. Salinger, Year: 1951, Genres: ['Drama', 'Classics']\n",
      "ID: 6, Title: Pride and Prejudice, Author: Jane Austen, Year: 1813, Genres: ['Drama', 'Romance', 'Classics']\n",
      "ID: 7, Title: The Hobbit, Author: J.R.R. Tolkien, Year: 1937, Genres: ['Fantasy', 'Adventure']\n",
      "ID: 8, Title: The Hunger Games, Author: Suzanne Collins, Year: 2008, Genres: ['Science Fiction', 'Dystopian', 'Young Adult']\n",
      "ID: 9, Title: The Da Vinci Code, Author: Dan Brown, Year: 2003, Genres: ['Mystery', 'Thriller']\n",
      "ID: 10, Title: The Chronicles of Narnia, Author: C.S. Lewis, Year: 1950, Genres: ['Fantasy', \"Children's Literature\"]\n",
      "ID: 11, Title: Gone with the Wind, Author: Margaret Mitchell, Year: 1936, Genres: ['Historical Fiction', 'Romance']\n",
      "ID: 12, Title: Sapiens: A Brief History of Humankind, Author: Yuval Noah Harari, Year: 2011, Genres: ['Nonfiction', 'History', 'Science']\n",
      "ID: 13, Title: The Road, Author: Cormac McCarthy, Year: 2006, Genres: ['Drama', 'Post-Apocalyptic']\n",
      "ID: 14, Title: The Girl with the Dragon Tattoo, Author: Stieg Larsson, Year: 2005, Genres: ['Mystery', 'Thriller']\n",
      "ID: 15, Title: The Alchemist, Author: Paulo Coelho, Year: 1988, Genres: ['Drama', 'Inspirational']\n",
      "ID: 16, Title: The Silmarillion, Author: J.R.R. Tolkien, Year: 1954, Genres: ['Fantasy', 'Adventure']\n",
      "ID: 2, Title: To Kill a Mockingbird, Author: Harper Lee, Year: 1960, Genres: ['Drama', 'Classics']\n",
      "ID: 3, Title: The Great Gatsby, Author: F. Scott Fitzgerald, Year: 1925, Genres: ['Drama', 'Classics']\n",
      "ID: 4, Title: 1984, Author: George Orwell, Year: 1949, Genres: ['Drama', 'Dystopian']\n",
      "ID: 5, Title: The Catcher in the Rye, Author: J.D. Salinger, Year: 1951, Genres: ['Drama', 'Classics']\n",
      "ID: 6, Title: Pride and Prejudice, Author: Jane Austen, Year: 1813, Genres: ['Drama', 'Romance', 'Classics']\n",
      "ID: 7, Title: The Hobbit, Author: J.R.R. Tolkien, Year: 1937, Genres: ['Fantasy', 'Adventure']\n",
      "ID: 8, Title: The Hunger Games, Author: Suzanne Collins, Year: 2008, Genres: ['Science Fiction', 'Dystopian', 'Young Adult']\n",
      "ID: 9, Title: The Da Vinci Code, Author: Dan Brown, Year: 2003, Genres: ['Mystery', 'Thriller']\n",
      "ID: 10, Title: The Chronicles of Narnia, Author: C.S. Lewis, Year: 1950, Genres: ['Fantasy', \"Children's Literature\"]\n",
      "ID: 11, Title: Gone with the Wind, Author: Margaret Mitchell, Year: 1936, Genres: ['Historical Fiction', 'Romance']\n",
      "ID: 12, Title: Sapiens: A Brief History of Humankind, Author: Yuval Noah Harari, Year: 2011, Genres: ['Nonfiction', 'History', 'Science']\n",
      "ID: 13, Title: The Road, Author: Cormac McCarthy, Year: 2006, Genres: ['Drama', 'Post-Apocalyptic']\n",
      "ID: 14, Title: The Girl with the Dragon Tattoo, Author: Stieg Larsson, Year: 2005, Genres: ['Mystery', 'Thriller']\n",
      "ID: 15, Title: The Alchemist, Author: Paulo Coelho, Year: 1988, Genres: ['Drama', 'Inspirational']\n",
      "ID: 16, Title: The Silmarillion, Author: J.R.R. Tolkien, Year: 1954, Genres: ['Fantasy', 'Adventure']\n",
      "ID: 2, Title: To Kill a Mockingbird, Author: Harper Lee, Year: 1960, Genres: ['Drama', 'Classics']\n",
      "ID: 3, Title: The Great Gatsby, Author: F. Scott Fitzgerald, Year: 1925, Genres: ['Drama', 'Classics']\n",
      "ID: 4, Title: 1984, Author: George Orwell, Year: 1949, Genres: ['Drama', 'Dystopian']\n",
      "ID: 5, Title: The Catcher in the Rye, Author: J.D. Salinger, Year: 1951, Genres: ['Drama', 'Classics']\n",
      "ID: 6, Title: Pride and Prejudice, Author: Jane Austen, Year: 1813, Genres: ['Drama', 'Romance', 'Classics']\n",
      "ID: 7, Title: The Hobbit, Author: J.R.R. Tolkien, Year: 1937, Genres: ['Fantasy', 'Adventure']\n",
      "ID: 8, Title: The Hunger Games, Author: Suzanne Collins, Year: 2008, Genres: ['Science Fiction', 'Dystopian', 'Young Adult']\n",
      "ID: 9, Title: The Da Vinci Code, Author: Dan Brown, Year: 2003, Genres: ['Mystery', 'Thriller']\n",
      "ID: 10, Title: The Chronicles of Narnia, Author: C.S. Lewis, Year: 1950, Genres: ['Fantasy', \"Children's Literature\"]\n",
      "ID: 11, Title: Gone with the Wind, Author: Margaret Mitchell, Year: 1936, Genres: ['Historical Fiction', 'Romance']\n",
      "ID: 12, Title: Sapiens: A Brief History of Humankind, Author: Yuval Noah Harari, Year: 2011, Genres: ['Nonfiction', 'History', 'Science']\n",
      "ID: 13, Title: The Road, Author: Cormac McCarthy, Year: 2006, Genres: ['Drama', 'Post-Apocalyptic']\n",
      "ID: 14, Title: The Girl with the Dragon Tattoo, Author: Stieg Larsson, Year: 2005, Genres: ['Mystery', 'Thriller']\n",
      "ID: 15, Title: The Alchemist, Author: Paulo Coelho, Year: 1988, Genres: ['Drama', 'Inspirational']\n",
      "ID: 16, Title: The Silmarillion, Author: J.R.R. Tolkien, Year: 1954, Genres: ['Fantasy', 'Adventure']\n",
      "ID: 2, Title: To Kill a Mockingbird, Author: Harper Lee, Year: 1960, Genres: ['Drama', 'Classics']\n",
      "ID: 3, Title: The Great Gatsby, Author: F. Scott Fitzgerald, Year: 1925, Genres: ['Drama', 'Classics']\n",
      "ID: 4, Title: 1984, Author: George Orwell, Year: 1949, Genres: ['Drama', 'Dystopian']\n",
      "ID: 5, Title: The Catcher in the Rye, Author: J.D. Salinger, Year: 1951, Genres: ['Drama', 'Classics']\n",
      "ID: 6, Title: Pride and Prejudice, Author: Jane Austen, Year: 1813, Genres: ['Drama', 'Romance', 'Classics']\n",
      "ID: 7, Title: The Hobbit, Author: J.R.R. Tolkien, Year: 1937, Genres: ['Fantasy', 'Adventure']\n",
      "ID: 8, Title: The Hunger Games, Author: Suzanne Collins, Year: 2008, Genres: ['Science Fiction', 'Dystopian', 'Young Adult']\n",
      "ID: 9, Title: The Da Vinci Code, Author: Dan Brown, Year: 2003, Genres: ['Mystery', 'Thriller']\n",
      "ID: 10, Title: The Chronicles of Narnia, Author: C.S. Lewis, Year: 1950, Genres: ['Fantasy', \"Children's Literature\"]\n",
      "ID: 11, Title: Gone with the Wind, Author: Margaret Mitchell, Year: 1936, Genres: ['Historical Fiction', 'Romance']\n",
      "ID: 12, Title: Sapiens: A Brief History of Humankind, Author: Yuval Noah Harari, Year: 2011, Genres: ['Nonfiction', 'History', 'Science']\n",
      "ID: 13, Title: The Road, Author: Cormac McCarthy, Year: 2006, Genres: ['Drama', 'Post-Apocalyptic']\n",
      "ID: 14, Title: The Girl with the Dragon Tattoo, Author: Stieg Larsson, Year: 2005, Genres: ['Mystery', 'Thriller']\n",
      "ID: 15, Title: The Alchemist, Author: Paulo Coelho, Year: 1988, Genres: ['Drama', 'Inspirational']\n",
      "ID: 16, Title: The Silmarillion, Author: J.R.R. Tolkien, Year: 1954, Genres: ['Fantasy', 'Adventure']\n",
      "ID: 2, Title: To Kill a Mockingbird, Author: Harper Lee, Year: 1960, Genres: ['Drama', 'Classics']\n",
      "ID: 3, Title: The Great Gatsby, Author: F. Scott Fitzgerald, Year: 1925, Genres: ['Drama', 'Classics']\n",
      "ID: 4, Title: 1984, Author: George Orwell, Year: 1949, Genres: ['Drama', 'Dystopian']\n",
      "ID: 5, Title: The Catcher in the Rye, Author: J.D. Salinger, Year: 1951, Genres: ['Drama', 'Classics']\n",
      "ID: 6, Title: Pride and Prejudice, Author: Jane Austen, Year: 1813, Genres: ['Drama', 'Romance', 'Classics']\n",
      "ID: 7, Title: The Hobbit, Author: J.R.R. Tolkien, Year: 1937, Genres: ['Fantasy', 'Adventure']\n",
      "ID: 8, Title: The Hunger Games, Author: Suzanne Collins, Year: 2008, Genres: ['Science Fiction', 'Dystopian', 'Young Adult']\n",
      "ID: 9, Title: The Da Vinci Code, Author: Dan Brown, Year: 2003, Genres: ['Mystery', 'Thriller']\n",
      "ID: 10, Title: The Chronicles of Narnia, Author: C.S. Lewis, Year: 1950, Genres: ['Fantasy', \"Children's Literature\"]\n",
      "ID: 11, Title: Gone with the Wind, Author: Margaret Mitchell, Year: 1936, Genres: ['Historical Fiction', 'Romance']\n",
      "ID: 12, Title: Sapiens: A Brief History of Humankind, Author: Yuval Noah Harari, Year: 2011, Genres: ['Nonfiction', 'History', 'Science']\n",
      "ID: 13, Title: The Road, Author: Cormac McCarthy, Year: 2006, Genres: ['Drama', 'Post-Apocalyptic']\n",
      "ID: 14, Title: The Girl with the Dragon Tattoo, Author: Stieg Larsson, Year: 2005, Genres: ['Mystery', 'Thriller']\n",
      "ID: 15, Title: The Alchemist, Author: Paulo Coelho, Year: 1988, Genres: ['Drama', 'Inspirational']\n",
      "ID: 16, Title: The Silmarillion, Author: J.R.R. Tolkien, Year: 1954, Genres: ['Fantasy', 'Adventure']\n",
      "ID: 2, Title: To Kill a Mockingbird, Author: Harper Lee, Year: 1960, Genres: ['Drama', 'Classics']\n",
      "ID: 3, Title: The Great Gatsby, Author: F. Scott Fitzgerald, Year: 1925, Genres: ['Drama', 'Classics']\n",
      "ID: 4, Title: 1984, Author: George Orwell, Year: 1949, Genres: ['Drama', 'Dystopian']\n",
      "ID: 5, Title: The Catcher in the Rye, Author: J.D. Salinger, Year: 1951, Genres: ['Drama', 'Classics']\n",
      "ID: 6, Title: Pride and Prejudice, Author: Jane Austen, Year: 1813, Genres: ['Drama', 'Romance', 'Classics']\n",
      "ID: 7, Title: The Hobbit, Author: J.R.R. Tolkien, Year: 1937, Genres: ['Fantasy', 'Adventure']\n",
      "ID: 8, Title: The Hunger Games, Author: Suzanne Collins, Year: 2008, Genres: ['Science Fiction', 'Dystopian', 'Young Adult']\n",
      "ID: 9, Title: The Da Vinci Code, Author: Dan Brown, Year: 2003, Genres: ['Mystery', 'Thriller']\n",
      "ID: 10, Title: The Chronicles of Narnia, Author: C.S. Lewis, Year: 1950, Genres: ['Fantasy', \"Children's Literature\"]\n",
      "ID: 11, Title: Gone with the Wind, Author: Margaret Mitchell, Year: 1936, Genres: ['Historical Fiction', 'Romance']\n",
      "ID: 12, Title: Sapiens: A Brief History of Humankind, Author: Yuval Noah Harari, Year: 2011, Genres: ['Nonfiction', 'History', 'Science']\n",
      "ID: 13, Title: The Road, Author: Cormac McCarthy, Year: 2006, Genres: ['Drama', 'Post-Apocalyptic']\n",
      "ID: 14, Title: The Girl with the Dragon Tattoo, Author: Stieg Larsson, Year: 2005, Genres: ['Mystery', 'Thriller']\n",
      "ID: 15, Title: The Alchemist, Author: Paulo Coelho, Year: 1988, Genres: ['Drama', 'Inspirational']\n",
      "ID: 16, Title: The Silmarillion, Author: J.R.R. Tolkien, Year: 1954, Genres: ['Fantasy', 'Adventure']\n",
      "ID: 2, Title: To Kill a Mockingbird, Author: Harper Lee, Year: 1960, Genres: ['Drama', 'Classics']\n",
      "ID: 3, Title: The Great Gatsby, Author: F. Scott Fitzgerald, Year: 1925, Genres: ['Drama', 'Classics']\n",
      "ID: 4, Title: 1984, Author: George Orwell, Year: 1949, Genres: ['Drama', 'Dystopian']\n",
      "ID: 5, Title: The Catcher in the Rye, Author: J.D. Salinger, Year: 1951, Genres: ['Drama', 'Classics']\n",
      "ID: 6, Title: Pride and Prejudice, Author: Jane Austen, Year: 1813, Genres: ['Drama', 'Romance', 'Classics']\n",
      "ID: 7, Title: The Hobbit, Author: J.R.R. Tolkien, Year: 1937, Genres: ['Fantasy', 'Adventure']\n",
      "ID: 8, Title: The Hunger Games, Author: Suzanne Collins, Year: 2008, Genres: ['Science Fiction', 'Dystopian', 'Young Adult']\n",
      "ID: 9, Title: The Da Vinci Code, Author: Dan Brown, Year: 2003, Genres: ['Mystery', 'Thriller']\n",
      "ID: 10, Title: The Chronicles of Narnia, Author: C.S. Lewis, Year: 1950, Genres: ['Fantasy', \"Children's Literature\"]\n",
      "ID: 11, Title: Gone with the Wind, Author: Margaret Mitchell, Year: 1936, Genres: ['Historical Fiction', 'Romance']\n",
      "ID: 12, Title: Sapiens: A Brief History of Humankind, Author: Yuval Noah Harari, Year: 2011, Genres: ['Nonfiction', 'History', 'Science']\n",
      "ID: 13, Title: The Road, Author: Cormac McCarthy, Year: 2006, Genres: ['Drama', 'Post-Apocalyptic']\n",
      "ID: 14, Title: The Girl with the Dragon Tattoo, Author: Stieg Larsson, Year: 2005, Genres: ['Mystery', 'Thriller']\n",
      "ID: 15, Title: The Alchemist, Author: Paulo Coelho, Year: 1988, Genres: ['Drama', 'Inspirational']\n",
      "ID: 16, Title: The Silmarillion, Author: J.R.R. Tolkien, Year: 1954, Genres: ['Fantasy', 'Adventure']\n",
      "ID: 2, Title: To Kill a Mockingbird, Author: Harper Lee, Year: 1960, Genres: ['Drama', 'Classics']\n",
      "ID: 3, Title: The Great Gatsby, Author: F. Scott Fitzgerald, Year: 1925, Genres: ['Drama', 'Classics']\n",
      "ID: 4, Title: 1984, Author: George Orwell, Year: 1949, Genres: ['Drama', 'Dystopian']\n",
      "ID: 5, Title: The Catcher in the Rye, Author: J.D. Salinger, Year: 1951, Genres: ['Drama', 'Classics']\n",
      "ID: 6, Title: Pride and Prejudice, Author: Jane Austen, Year: 1813, Genres: ['Drama', 'Romance', 'Classics']\n",
      "ID: 7, Title: The Hobbit, Author: J.R.R. Tolkien, Year: 1937, Genres: ['Fantasy', 'Adventure']\n",
      "ID: 8, Title: The Hunger Games, Author: Suzanne Collins, Year: 2008, Genres: ['Science Fiction', 'Dystopian', 'Young Adult']\n",
      "ID: 9, Title: The Da Vinci Code, Author: Dan Brown, Year: 2003, Genres: ['Mystery', 'Thriller']\n",
      "ID: 10, Title: The Chronicles of Narnia, Author: C.S. Lewis, Year: 1950, Genres: ['Fantasy', \"Children's Literature\"]\n",
      "ID: 11, Title: Gone with the Wind, Author: Margaret Mitchell, Year: 1936, Genres: ['Historical Fiction', 'Romance']\n",
      "ID: 12, Title: Sapiens: A Brief History of Humankind, Author: Yuval Noah Harari, Year: 2011, Genres: ['Nonfiction', 'History', 'Science']\n",
      "ID: 13, Title: The Road, Author: Cormac McCarthy, Year: 2006, Genres: ['Drama', 'Post-Apocalyptic']\n",
      "ID: 14, Title: The Girl with the Dragon Tattoo, Author: Stieg Larsson, Year: 2005, Genres: ['Mystery', 'Thriller']\n",
      "ID: 15, Title: The Alchemist, Author: Paulo Coelho, Year: 1988, Genres: ['Drama', 'Inspirational']\n",
      "ID: 16, Title: The Silmarillion, Author: J.R.R. Tolkien, Year: 1954, Genres: ['Fantasy', 'Adventure']\n",
      "ID: 2, Title: To Kill a Mockingbird, Author: Harper Lee, Year: 1960, Genres: ['Drama', 'Classics']\n",
      "ID: 3, Title: The Great Gatsby, Author: F. Scott Fitzgerald, Year: 1925, Genres: ['Drama', 'Classics']\n",
      "ID: 4, Title: 1984, Author: George Orwell, Year: 1949, Genres: ['Drama', 'Dystopian']\n",
      "ID: 5, Title: The Catcher in the Rye, Author: J.D. Salinger, Year: 1951, Genres: ['Drama', 'Classics']\n",
      "ID: 6, Title: Pride and Prejudice, Author: Jane Austen, Year: 1813, Genres: ['Drama', 'Romance', 'Classics']\n",
      "ID: 7, Title: The Hobbit, Author: J.R.R. Tolkien, Year: 1937, Genres: ['Fantasy', 'Adventure']\n",
      "ID: 8, Title: The Hunger Games, Author: Suzanne Collins, Year: 2008, Genres: ['Science Fiction', 'Dystopian', 'Young Adult']\n",
      "ID: 9, Title: The Da Vinci Code, Author: Dan Brown, Year: 2003, Genres: ['Mystery', 'Thriller']\n",
      "ID: 10, Title: The Chronicles of Narnia, Author: C.S. Lewis, Year: 1950, Genres: ['Fantasy', \"Children's Literature\"]\n",
      "ID: 11, Title: Gone with the Wind, Author: Margaret Mitchell, Year: 1936, Genres: ['Historical Fiction', 'Romance']\n",
      "ID: 12, Title: Sapiens: A Brief History of Humankind, Author: Yuval Noah Harari, Year: 2011, Genres: ['Nonfiction', 'History', 'Science']\n",
      "ID: 13, Title: The Road, Author: Cormac McCarthy, Year: 2006, Genres: ['Drama', 'Post-Apocalyptic']\n",
      "ID: 14, Title: The Girl with the Dragon Tattoo, Author: Stieg Larsson, Year: 2005, Genres: ['Mystery', 'Thriller']\n",
      "ID: 15, Title: The Alchemist, Author: Paulo Coelho, Year: 1988, Genres: ['Drama', 'Inspirational']\n",
      "ID: 16, Title: The Silmarillion, Author: J.R.R. Tolkien, Year: 1954, Genres: ['Fantasy', 'Adventure']\n",
      "ID: 2, Title: To Kill a Mockingbird, Author: Harper Lee, Year: 1960, Genres: ['Drama', 'Classics']\n",
      "ID: 3, Title: The Great Gatsby, Author: F. Scott Fitzgerald, Year: 1925, Genres: ['Drama', 'Classics']\n",
      "ID: 4, Title: 1984, Author: George Orwell, Year: 1949, Genres: ['Drama', 'Dystopian']\n",
      "ID: 5, Title: The Catcher in the Rye, Author: J.D. Salinger, Year: 1951, Genres: ['Drama', 'Classics']\n",
      "ID: 6, Title: Pride and Prejudice, Author: Jane Austen, Year: 1813, Genres: ['Drama', 'Romance', 'Classics']\n",
      "ID: 7, Title: The Hobbit, Author: J.R.R. Tolkien, Year: 1937, Genres: ['Fantasy', 'Adventure']\n",
      "ID: 8, Title: The Hunger Games, Author: Suzanne Collins, Year: 2008, Genres: ['Science Fiction', 'Dystopian', 'Young Adult']\n",
      "ID: 9, Title: The Da Vinci Code, Author: Dan Brown, Year: 2003, Genres: ['Mystery', 'Thriller']\n",
      "ID: 10, Title: The Chronicles of Narnia, Author: C.S. Lewis, Year: 1950, Genres: ['Fantasy', \"Children's Literature\"]\n",
      "ID: 11, Title: Gone with the Wind, Author: Margaret Mitchell, Year: 1936, Genres: ['Historical Fiction', 'Romance']\n",
      "ID: 12, Title: Sapiens: A Brief History of Humankind, Author: Yuval Noah Harari, Year: 2011, Genres: ['Nonfiction', 'History', 'Science']\n",
      "ID: 13, Title: The Road, Author: Cormac McCarthy, Year: 2006, Genres: ['Drama', 'Post-Apocalyptic']\n",
      "ID: 14, Title: The Girl with the Dragon Tattoo, Author: Stieg Larsson, Year: 2005, Genres: ['Mystery', 'Thriller']\n",
      "ID: 15, Title: The Alchemist, Author: Paulo Coelho, Year: 1988, Genres: ['Drama', 'Inspirational']\n",
      "ID: 16, Title: The Silmarillion, Author: J.R.R. Tolkien, Year: 1954, Genres: ['Fantasy', 'Adventure']\n",
      "ID: 2, Title: To Kill a Mockingbird, Author: Harper Lee, Year: 1960, Genres: ['Drama', 'Classics']\n",
      "ID: 3, Title: The Great Gatsby, Author: F. Scott Fitzgerald, Year: 1925, Genres: ['Drama', 'Classics']\n",
      "ID: 4, Title: 1984, Author: George Orwell, Year: 1949, Genres: ['Drama', 'Dystopian']\n",
      "ID: 5, Title: The Catcher in the Rye, Author: J.D. Salinger, Year: 1951, Genres: ['Drama', 'Classics']\n",
      "ID: 6, Title: Pride and Prejudice, Author: Jane Austen, Year: 1813, Genres: ['Drama', 'Romance', 'Classics']\n",
      "ID: 7, Title: The Hobbit, Author: J.R.R. Tolkien, Year: 1937, Genres: ['Fantasy', 'Adventure']\n",
      "ID: 8, Title: The Hunger Games, Author: Suzanne Collins, Year: 2008, Genres: ['Science Fiction', 'Dystopian', 'Young Adult']\n",
      "ID: 9, Title: The Da Vinci Code, Author: Dan Brown, Year: 2003, Genres: ['Mystery', 'Thriller']\n",
      "ID: 10, Title: The Chronicles of Narnia, Author: C.S. Lewis, Year: 1950, Genres: ['Fantasy', \"Children's Literature\"]\n",
      "ID: 11, Title: Gone with the Wind, Author: Margaret Mitchell, Year: 1936, Genres: ['Historical Fiction', 'Romance']\n",
      "ID: 12, Title: Sapiens: A Brief History of Humankind, Author: Yuval Noah Harari, Year: 2011, Genres: ['Nonfiction', 'History', 'Science']\n",
      "ID: 13, Title: The Road, Author: Cormac McCarthy, Year: 2006, Genres: ['Drama', 'Post-Apocalyptic']\n",
      "ID: 14, Title: The Girl with the Dragon Tattoo, Author: Stieg Larsson, Year: 2005, Genres: ['Mystery', 'Thriller']\n",
      "ID: 15, Title: The Alchemist, Author: Paulo Coelho, Year: 1988, Genres: ['Drama', 'Inspirational']\n",
      "ID: 16, Title: The Silmarillion, Author: J.R.R. Tolkien, Year: 1954, Genres: ['Fantasy', 'Adventure']\n",
      "ID: 2, Title: To Kill a Mockingbird, Author: Harper Lee, Year: 1960, Genres: ['Drama', 'Classics']\n",
      "ID: 3, Title: The Great Gatsby, Author: F. Scott Fitzgerald, Year: 1925, Genres: ['Drama', 'Classics']\n",
      "ID: 4, Title: 1984, Author: George Orwell, Year: 1949, Genres: ['Drama', 'Dystopian']\n",
      "ID: 5, Title: The Catcher in the Rye, Author: J.D. Salinger, Year: 1951, Genres: ['Drama', 'Classics']\n",
      "ID: 6, Title: Pride and Prejudice, Author: Jane Austen, Year: 1813, Genres: ['Drama', 'Romance', 'Classics']\n",
      "ID: 7, Title: The Hobbit, Author: J.R.R. Tolkien, Year: 1937, Genres: ['Fantasy', 'Adventure']\n",
      "ID: 8, Title: The Hunger Games, Author: Suzanne Collins, Year: 2008, Genres: ['Science Fiction', 'Dystopian', 'Young Adult']\n",
      "ID: 9, Title: The Da Vinci Code, Author: Dan Brown, Year: 2003, Genres: ['Mystery', 'Thriller']\n",
      "ID: 10, Title: The Chronicles of Narnia, Author: C.S. Lewis, Year: 1950, Genres: ['Fantasy', \"Children's Literature\"]\n",
      "ID: 11, Title: Gone with the Wind, Author: Margaret Mitchell, Year: 1936, Genres: ['Historical Fiction', 'Romance']\n",
      "ID: 12, Title: Sapiens: A Brief History of Humankind, Author: Yuval Noah Harari, Year: 2011, Genres: ['Nonfiction', 'History', 'Science']\n",
      "ID: 13, Title: The Road, Author: Cormac McCarthy, Year: 2006, Genres: ['Drama', 'Post-Apocalyptic']\n",
      "ID: 14, Title: The Girl with the Dragon Tattoo, Author: Stieg Larsson, Year: 2005, Genres: ['Mystery', 'Thriller']\n",
      "ID: 15, Title: The Alchemist, Author: Paulo Coelho, Year: 1988, Genres: ['Drama', 'Inspirational']\n",
      "ID: 16, Title: The Silmarillion, Author: J.R.R. Tolkien, Year: 1954, Genres: ['Fantasy', 'Adventure']\n",
      "ID: 2, Title: To Kill a Mockingbird, Author: Harper Lee, Year: 1960, Genres: ['Drama', 'Classics']\n",
      "ID: 3, Title: The Great Gatsby, Author: F. Scott Fitzgerald, Year: 1925, Genres: ['Drama', 'Classics']\n",
      "ID: 4, Title: 1984, Author: George Orwell, Year: 1949, Genres: ['Drama', 'Dystopian']\n",
      "ID: 5, Title: The Catcher in the Rye, Author: J.D. Salinger, Year: 1951, Genres: ['Drama', 'Classics']\n",
      "ID: 6, Title: Pride and Prejudice, Author: Jane Austen, Year: 1813, Genres: ['Drama', 'Romance', 'Classics']\n",
      "ID: 7, Title: The Hobbit, Author: J.R.R. Tolkien, Year: 1937, Genres: ['Fantasy', 'Adventure']\n",
      "ID: 8, Title: The Hunger Games, Author: Suzanne Collins, Year: 2008, Genres: ['Science Fiction', 'Dystopian', 'Young Adult']\n",
      "ID: 9, Title: The Da Vinci Code, Author: Dan Brown, Year: 2003, Genres: ['Mystery', 'Thriller']\n",
      "ID: 10, Title: The Chronicles of Narnia, Author: C.S. Lewis, Year: 1950, Genres: ['Fantasy', \"Children's Literature\"]\n",
      "ID: 11, Title: Gone with the Wind, Author: Margaret Mitchell, Year: 1936, Genres: ['Historical Fiction', 'Romance']\n",
      "ID: 12, Title: Sapiens: A Brief History of Humankind, Author: Yuval Noah Harari, Year: 2011, Genres: ['Nonfiction', 'History', 'Science']\n",
      "ID: 13, Title: The Road, Author: Cormac McCarthy, Year: 2006, Genres: ['Drama', 'Post-Apocalyptic']\n",
      "ID: 14, Title: The Girl with the Dragon Tattoo, Author: Stieg Larsson, Year: 2005, Genres: ['Mystery', 'Thriller']\n",
      "ID: 15, Title: The Alchemist, Author: Paulo Coelho, Year: 1988, Genres: ['Drama', 'Inspirational']\n",
      "ID: 16, Title: The Silmarillion, Author: J.R.R. Tolkien, Year: 1954, Genres: ['Fantasy', 'Adventure']\n",
      "ID: 2, Title: To Kill a Mockingbird, Author: Harper Lee, Year: 1960, Genres: ['Drama', 'Classics']\n",
      "ID: 3, Title: The Great Gatsby, Author: F. Scott Fitzgerald, Year: 1925, Genres: ['Drama', 'Classics']\n",
      "ID: 4, Title: 1984, Author: George Orwell, Year: 1949, Genres: ['Drama', 'Dystopian']\n",
      "ID: 5, Title: The Catcher in the Rye, Author: J.D. Salinger, Year: 1951, Genres: ['Drama', 'Classics']\n",
      "ID: 6, Title: Pride and Prejudice, Author: Jane Austen, Year: 1813, Genres: ['Drama', 'Romance', 'Classics']\n",
      "ID: 7, Title: The Hobbit, Author: J.R.R. Tolkien, Year: 1937, Genres: ['Fantasy', 'Adventure']\n",
      "ID: 8, Title: The Hunger Games, Author: Suzanne Collins, Year: 2008, Genres: ['Science Fiction', 'Dystopian', 'Young Adult']\n",
      "ID: 9, Title: The Da Vinci Code, Author: Dan Brown, Year: 2003, Genres: ['Mystery', 'Thriller']\n",
      "ID: 10, Title: The Chronicles of Narnia, Author: C.S. Lewis, Year: 1950, Genres: ['Fantasy', \"Children's Literature\"]\n",
      "ID: 11, Title: Gone with the Wind, Author: Margaret Mitchell, Year: 1936, Genres: ['Historical Fiction', 'Romance']\n",
      "ID: 12, Title: Sapiens: A Brief History of Humankind, Author: Yuval Noah Harari, Year: 2011, Genres: ['Nonfiction', 'History', 'Science']\n",
      "ID: 13, Title: The Road, Author: Cormac McCarthy, Year: 2006, Genres: ['Drama', 'Post-Apocalyptic']\n",
      "ID: 14, Title: The Girl with the Dragon Tattoo, Author: Stieg Larsson, Year: 2005, Genres: ['Mystery', 'Thriller']\n",
      "ID: 15, Title: The Alchemist, Author: Paulo Coelho, Year: 1988, Genres: ['Drama', 'Inspirational']\n",
      "ID: 16, Title: The Silmarillion, Author: J.R.R. Tolkien, Year: 1954, Genres: ['Fantasy', 'Adventure']\n",
      "ID: 2, Title: To Kill a Mockingbird, Author: Harper Lee, Year: 1960, Genres: ['Drama', 'Classics']\n",
      "ID: 3, Title: The Great Gatsby, Author: F. Scott Fitzgerald, Year: 1925, Genres: ['Drama', 'Classics']\n",
      "ID: 4, Title: 1984, Author: George Orwell, Year: 1949, Genres: ['Drama', 'Dystopian']\n",
      "ID: 5, Title: The Catcher in the Rye, Author: J.D. Salinger, Year: 1951, Genres: ['Drama', 'Classics']\n",
      "ID: 6, Title: Pride and Prejudice, Author: Jane Austen, Year: 1813, Genres: ['Drama', 'Romance', 'Classics']\n",
      "ID: 7, Title: The Hobbit, Author: J.R.R. Tolkien, Year: 1937, Genres: ['Fantasy', 'Adventure']\n",
      "ID: 8, Title: The Hunger Games, Author: Suzanne Collins, Year: 2008, Genres: ['Science Fiction', 'Dystopian', 'Young Adult']\n",
      "ID: 9, Title: The Da Vinci Code, Author: Dan Brown, Year: 2003, Genres: ['Mystery', 'Thriller']\n",
      "ID: 10, Title: The Chronicles of Narnia, Author: C.S. Lewis, Year: 1950, Genres: ['Fantasy', \"Children's Literature\"]\n",
      "ID: 11, Title: Gone with the Wind, Author: Margaret Mitchell, Year: 1936, Genres: ['Historical Fiction', 'Romance']\n",
      "ID: 12, Title: Sapiens: A Brief History of Humankind, Author: Yuval Noah Harari, Year: 2011, Genres: ['Nonfiction', 'History', 'Science']\n",
      "ID: 13, Title: The Road, Author: Cormac McCarthy, Year: 2006, Genres: ['Drama', 'Post-Apocalyptic']\n",
      "ID: 14, Title: The Girl with the Dragon Tattoo, Author: Stieg Larsson, Year: 2005, Genres: ['Mystery', 'Thriller']\n",
      "ID: 15, Title: The Alchemist, Author: Paulo Coelho, Year: 1988, Genres: ['Drama', 'Inspirational']\n",
      "ID: 16, Title: The Silmarillion, Author: J.R.R. Tolkien, Year: 1954, Genres: ['Fantasy', 'Adventure']\n"
     ]
    }
   ],
   "source": [
    "# write your code here ^_^\n",
    "def bulk_replace_genres(library, old_genre, new_genre):\n",
    "  \n",
    "    for book_id, book_details in library.items():\n",
    "        \n",
    "        book_details[\"genres\"] = [new_genre if genre == old_genre else genre for genre in book_details[\"genres\"]]\n",
    "\n",
    "bulk_replace_genres(library, \"Fiction\", \"Drama\")\n",
    "\n",
    "print(\"\\nAfter bulk update:\")\n",
    "for book_id, book_details in library.items():\n",
    "    display_all()"
   ]
  },
  {
   "cell_type": "markdown",
   "metadata": {
    "id": "ZWkmOUNgi6V_"
   },
   "source": [
    "#### Q9: Implement a function to generate a report summarizing the library's statistics, including the total number of books, the number of books by each author, the number of books in each genre, and the oldest and newest books. and test it."
   ]
  },
  {
   "cell_type": "code",
   "execution_count": 21,
   "metadata": {
    "id": "Okjlb9pTUloe"
   },
   "outputs": [
    {
     "name": "stdout",
     "output_type": "stream",
     "text": [
      "The number of books in the library is: 15\n",
      "The average publication year is: 1959.7333333333333\n",
      "The most common genre is: Drama\n",
      "\n",
      "Number of books by each author:\n",
      "Harper Lee: 1\n",
      "F. Scott Fitzgerald: 1\n",
      "George Orwell: 1\n",
      "J.D. Salinger: 1\n",
      "Jane Austen: 1\n",
      "J.R.R. Tolkien: 2\n",
      "Suzanne Collins: 1\n",
      "Dan Brown: 1\n",
      "C.S. Lewis: 1\n",
      "Margaret Mitchell: 1\n",
      "Yuval Noah Harari: 1\n",
      "Cormac McCarthy: 1\n",
      "Stieg Larsson: 1\n",
      "Paulo Coelho: 1\n",
      "\n",
      "Number of books in each genre:\n",
      "Drama: 7\n",
      "Classics: 4\n",
      "Dystopian: 2\n",
      "Romance: 2\n",
      "Fantasy: 3\n",
      "Adventure: 2\n",
      "Science Fiction: 1\n",
      "Young Adult: 1\n",
      "Mystery: 2\n",
      "Thriller: 2\n",
      "Children's Literature: 1\n",
      "Historical Fiction: 1\n",
      "Nonfiction: 1\n",
      "History: 1\n",
      "Science: 1\n",
      "Post-Apocalyptic: 1\n",
      "Inspirational: 1\n",
      "Oldest book:\n",
      "Title: Pride and Prejudice, Author: Jane Austen, Year: 1813\n",
      "Newest book:\n",
      "Title: Sapiens: A Brief History of Humankind, Author: Yuval Noah Harari, Year: 2011\n"
     ]
    }
   ],
   "source": [
    "# write your code here ^_^\n",
    "def library_report(library):\n",
    "    \n",
    "    calc_books(library)\n",
    "\n",
    "    \n",
    "    author_count = {}\n",
    "    for book_id, book_details in library.items():\n",
    "        author = book_details[\"author\"]\n",
    "        if author in author_count:\n",
    "            author_count[author] += 1\n",
    "        else:\n",
    "            author_count[author] = 1\n",
    "    print(\"\\nNumber of books by each author:\")\n",
    "    for author, count in author_count.items():\n",
    "        print(f\"{author}: {count}\")\n",
    "\n",
    "\n",
    "    genre_count = {}\n",
    "    for book_id, book_details in library.items():\n",
    "        for genre in book_details[\"genres\"]:\n",
    "            if genre in genre_count:\n",
    "                genre_count[genre] += 1\n",
    "            else:\n",
    "                genre_count[genre] = 1\n",
    "    print(\"\\nNumber of books in each genre:\")\n",
    "    for genre, count in genre_count.items():\n",
    "        print(f\"{genre}: {count}\")\n",
    "\n",
    "\n",
    "    oldest_book = min(library.values(), key=lambda book: book[\"year\"])\n",
    "    newest_book = max(library.values(), key=lambda book: book[\"year\"])\n",
    "\n",
    "    print(\"Oldest book:\")\n",
    "    print(f\"Title: {oldest_book['title']}, Author: {oldest_book['author']}, Year: {oldest_book['year']}\")\n",
    "\n",
    "    print(\"Newest book:\")\n",
    "    print(f\"Title: {newest_book['title']}, Author: {newest_book['author']}, Year: {newest_book['year']}\")\n",
    "\n",
    "\n",
    "library_report(library)"
   ]
  },
  {
   "cell_type": "code",
   "execution_count": null,
   "metadata": {},
   "outputs": [],
   "source": []
  }
 ],
 "metadata": {
  "colab": {
   "provenance": []
  },
  "kernelspec": {
   "display_name": "Python [conda env:base] *",
   "language": "python",
   "name": "conda-base-py"
  },
  "language_info": {
   "codemirror_mode": {
    "name": "ipython",
    "version": 3
   },
   "file_extension": ".py",
   "mimetype": "text/x-python",
   "name": "python",
   "nbconvert_exporter": "python",
   "pygments_lexer": "ipython3",
   "version": "3.12.7"
  }
 },
 "nbformat": 4,
 "nbformat_minor": 4
}
