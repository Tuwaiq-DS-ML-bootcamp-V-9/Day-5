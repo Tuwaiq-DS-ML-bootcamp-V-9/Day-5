{
 "cells": [
  {
   "cell_type": "markdown",
   "metadata": {
    "id": "kZXiW0-J0-2x"
   },
   "source": [
    "# Python_Groups_Hands-on\n"
   ]
  },
  {
   "cell_type": "markdown",
   "metadata": {
    "id": "I05A6_S80-2y"
   },
   "source": [
    "## Project: Library Management System\n",
    "### Description:\n",
    "- Develop a basic Library Management System (LMS) that allows users to manage book records, including adding, updating, deleting, and displaying book information. The system should also provide basic statistical analysis.\n",
    "\n",
    "### System requirements:\n",
    "\n",
    "#### Data Structure Design:\n",
    "\n",
    "  - Define data structures using lists, tuples, dictionaries, and sets to store book information (e.g., book ID, title, author, year, genres).\n",
    "\n",
    "#### Basic Operations:\n",
    "\n",
    "- Implement functions to add, update, delete, and display book records.\n",
    "- Ensure proper type conversion and validation of inputs.\n",
    "\n",
    "#### Statistical Analysis:\n",
    "\n",
    "- Write functions to calculate and display the total number of books, the average publication year, and the most common genre.\n",
    "- Use list comprehensions and built-in functions (sort, len, zip, range) for calculations.\n",
    "\n",
    "#### Advanced Features:\n",
    "\n",
    "- Implement search functionality to find books by title or author using lambda functions.\n",
    "- Provide sorting options for book records based on different criteria (e.g., title, year).\n",
    "\n",
    "\n",
    "#### Exception Handling:\n",
    "\n",
    "- Handle potential errors (e.g., invalid input) using try-except blocks."
   ]
  },
  {
   "cell_type": "markdown",
   "metadata": {
    "id": "rXuH9y0_D76o"
   },
   "source": [
    "#### Q1: Using the following table, create a function to add these books to your library:\n",
    "\n",
    "\n",
    "\n",
    "| Book ID | Title                            | Author               | Year | Genres                              |\n",
    "|---------|----------------------------------|----------------------|------|-------------------------------------|\n",
    "| 1       | Harry Potter and the Sorcerer's Stone | J.K. Rowling         | 1997 | Fantasy, Young Adult                |\n",
    "| 2       | To Kill a Mockingbird             | Harper Lee           | 1960 | Fiction, Classics                   |\n",
    "| 3       | The Great Gatsby                  | F. Scott Fitzgerald  | 1925 | Fiction, Classics                   |\n",
    "| 4       | 1984                              | George Orwell        | 1949 | Fiction, Dystopian                  |\n",
    "| 5       | The Catcher in the Rye            | J.D. Salinger        | 1951 | Fiction, Classics                   |\n",
    "| 6       | Pride and Prejudice               | Jane Austen          | 1813 | Fiction, Romance, Classics          |\n",
    "| 7       | The Hobbit                        | J.R.R. Tolkien       | 1937 | Fantasy, Adventure                  |\n",
    "| 8       | The Hunger Games                  | Suzanne Collins      | 2008 | Science Fiction, Dystopian, Young Adult |\n",
    "| 9       | The Da Vinci Code                 | Dan Brown            | 2003 | Mystery, Thriller                   |\n",
    "| 10      | The Chronicles of Narnia          | C.S. Lewis           | 1950 | Fantasy, Children's Literature      |\n",
    "| 11      | Gone with the Wind                | Margaret Mitchell    | 1936 | Historical Fiction, Romance         |\n",
    "| 12      | Sapiens: A Brief History of Humankind | Yuval Noah Harari   | 2011 | Nonfiction, History, Science        |\n",
    "| 13      | The Road                          | Cormac McCarthy      | 2006 | Fiction, Post-Apocalyptic           |\n",
    "| 14      | The Girl with the Dragon Tattoo   | Stieg Larsson        | 2005 | Mystery, Thriller                   |\n",
    "| 15      | The Alchemist                     | Paulo Coelho         | 1988 | Fiction, Inspirational              |\n"
   ]
  },
  {
   "cell_type": "markdown",
   "metadata": {},
   "source": [
    "### Expected output:\n",
    "~~~~~~~~~~~~~~~~~~~~~~~~~\n",
    "{1: {'title': 'title',\n",
    "  'author': 'author',\n",
    "  'year': 2025,\n",
    "  'genres': ['genre 1', 'genre 2', 'genre 3']}}\n",
    "  ~~~~~~~~~~~~~~~~~~~~~~~~~"
   ]
  },
  {
   "cell_type": "code",
   "execution_count": 9,
   "metadata": {
    "id": "BzV_B_g20-2z"
   },
   "outputs": [
    {
     "data": {
      "text/plain": [
       "{1: {'title': \"Harry Potter and the Sorcerer's Stone\",\n",
       "  'author': 'J.K. Rowling',\n",
       "  'year': 1997,\n",
       "  'genres': ['Fantasy', 'Young Adult']},\n",
       " 2: {'title': 'To Kill a Mockingbird',\n",
       "  'author': 'Harper Lee',\n",
       "  'year': 1960,\n",
       "  'genres': ['Fiction', 'Classics']},\n",
       " 3: {'title': 'The Great Gatsby',\n",
       "  'author': 'F. Scott Fitzgerald',\n",
       "  'year': 1925,\n",
       "  'genres': ['Fiction', 'Classics']},\n",
       " 4: {'title': '1984',\n",
       "  'author': 'George Orwell',\n",
       "  'year': 1949,\n",
       "  'genres': ['Fiction', 'Dystopian']},\n",
       " 5: {'title': 'The Catcher in the Rye',\n",
       "  'author': 'J.D. Salinger',\n",
       "  'year': 1951,\n",
       "  'genres': ['Fiction', 'Classics']},\n",
       " 6: {'title': 'Pride and Prejudice',\n",
       "  'author': 'Jane Austen',\n",
       "  'year': 1813,\n",
       "  'genres': ['Fiction', 'Romance', 'Classics']},\n",
       " 7: {'title': 'The Hobbit',\n",
       "  'author': 'J.R.R. Tolkien',\n",
       "  'year': 1937,\n",
       "  'genres': ['Fantasy', 'Adventure']},\n",
       " 8: {'title': 'The Hunger Games',\n",
       "  'author': 'Suzanne Collins',\n",
       "  'year': 2008,\n",
       "  'genres': ['Science Fiction', 'Dystopian', 'Young Adult']},\n",
       " 9: {'title': 'The Da Vinci Code',\n",
       "  'author': 'Dan Brown',\n",
       "  'year': 2003,\n",
       "  'genres': ['Mystery', 'Thriller']},\n",
       " 10: {'title': 'The Chronicles of Narnia',\n",
       "  'author': 'C.S. Lewis',\n",
       "  'year': 1950,\n",
       "  'genres': ['Fantasy', \"Children's Literature\"]},\n",
       " 11: {'title': 'Gone with the Wind',\n",
       "  'author': 'Margaret Mitchell',\n",
       "  'year': 1936,\n",
       "  'genres': ['Historical Fiction', 'Romance']},\n",
       " 12: {'title': 'Sapiens: A Brief History of Humankind',\n",
       "  'author': 'Yuval Noah Harari',\n",
       "  'year': 2011,\n",
       "  'genres': ['Nonfiction', 'History', 'Science']},\n",
       " 13: {'title': 'The Road',\n",
       "  'author': 'Cormac McCarthy',\n",
       "  'year': 2006,\n",
       "  'genres': ['Fiction', 'Post-Apocalyptic']},\n",
       " 14: {'title': 'The Girl with the Dragon Tattoo',\n",
       "  'author': 'Stieg Larsson',\n",
       "  'year': 2005,\n",
       "  'genres': ['Mystery', 'Thriller']},\n",
       " 15: {'title': 'The Alchemist',\n",
       "  'author': 'Paulo Coelho',\n",
       "  'year': 1988,\n",
       "  'genres': ['Fiction', 'Inspirational']}}"
      ]
     },
     "execution_count": 9,
     "metadata": {},
     "output_type": "execute_result"
    }
   ],
   "source": [
    "library = {}\n",
    "\n",
    "\n",
    "def add_books(books):\n",
    "    for book in books:\n",
    "        book_id = book[\"Book ID\"]\n",
    "        library[book_id] = {\n",
    "            'title': book[\"Title\"],\n",
    "            'author': book[\"Author\"],\n",
    "            'year': book[\"Year\"],\n",
    "            'genres': book[\"Genres\"].split(', ') \n",
    "        }\n",
    "\n",
    "\n",
    "books_to_add = [\n",
    "    {\"Book ID\": 1, \"Title\": \"Harry Potter and the Sorcerer's Stone\", \"Author\": \"J.K. Rowling\", \"Year\": 1997, \"Genres\": \"Fantasy, Young Adult\"},\n",
    "    {\"Book ID\": 2, \"Title\": \"To Kill a Mockingbird\", \"Author\": \"Harper Lee\", \"Year\": 1960, \"Genres\": \"Fiction, Classics\"},\n",
    "    {\"Book ID\": 3, \"Title\": \"The Great Gatsby\", \"Author\": \"F. Scott Fitzgerald\", \"Year\": 1925, \"Genres\": \"Fiction, Classics\"},\n",
    "    {\"Book ID\": 4, \"Title\": \"1984\", \"Author\": \"George Orwell\", \"Year\": 1949, \"Genres\": \"Fiction, Dystopian\"},\n",
    "    {\"Book ID\": 5, \"Title\": \"The Catcher in the Rye\", \"Author\": \"J.D. Salinger\", \"Year\": 1951, \"Genres\": \"Fiction, Classics\"},\n",
    "    {\"Book ID\": 6, \"Title\": \"Pride and Prejudice\", \"Author\": \"Jane Austen\", \"Year\": 1813, \"Genres\": \"Fiction, Romance, Classics\"},\n",
    "    {\"Book ID\": 7, \"Title\": \"The Hobbit\", \"Author\": \"J.R.R. Tolkien\", \"Year\": 1937, \"Genres\": \"Fantasy, Adventure\"},{\"Book ID\": 8, \"Title\": \"The Hunger Games\", \"Author\": \"Suzanne Collins\", \"Year\": 2008, \"Genres\": \"Science Fiction, Dystopian, Young Adult\"},\n",
    "    {\"Book ID\": 9, \"Title\": \"The Da Vinci Code\", \"Author\": \"Dan Brown\", \"Year\": 2003, \"Genres\": \"Mystery, Thriller\"},\n",
    "    {\"Book ID\": 10, \"Title\": \"The Chronicles of Narnia\", \"Author\": \"C.S. Lewis\", \"Year\": 1950, \"Genres\": \"Fantasy, Children's Literature\"},\n",
    "    {\"Book ID\": 11, \"Title\": \"Gone with the Wind\", \"Author\": \"Margaret Mitchell\", \"Year\": 1936, \"Genres\": \"Historical Fiction, Romance\"},\n",
    "    {\"Book ID\": 12, \"Title\": \"Sapiens: A Brief History of Humankind\", \"Author\": \"Yuval Noah Harari\", \"Year\": 2011, \"Genres\": \"Nonfiction, History, Science\"},\n",
    "    {\"Book ID\": 13, \"Title\": \"The Road\", \"Author\": \"Cormac McCarthy\", \"Year\": 2006, \"Genres\": \"Fiction, Post-Apocalyptic\"},\n",
    "    {\"Book ID\": 14, \"Title\": \"The Girl with the Dragon Tattoo\", \"Author\": \"Stieg Larsson\", \"Year\": 2005, \"Genres\": \"Mystery, Thriller\"},\n",
    "    {\"Book ID\": 15, \"Title\": \"The Alchemist\", \"Author\": \"Paulo Coelho\", \"Year\": 1988, \"Genres\": \"Fiction, Inspirational\"}\n",
    "]\n",
    "\n",
    "add_books(books_to_add)\n",
    "\n",
    "\n",
    "library"
   ]
  },
  {
   "cell_type": "markdown",
   "metadata": {
    "id": "kR5bvgOsF3oJ"
   },
   "source": [
    "#### Q2: Create a function that updates books exsisted in your library and test it.\n",
    "- **Note**: If the user entered wrong book ID it should print \"Book with ID 'num' does not exist."
   ]
  },
  {
   "cell_type": "markdown",
   "metadata": {},
   "source": [
    "### Expected output:\n",
    "~~~~~~~~~~~~~~~~~~~~~~~~~\n",
    "Book with ID 16 does not exist.\n",
    "\n",
    "Book with ID 1 info updated.\n",
    "~~~~~~~~~~~~~~~~~~~~~~~~~"
   ]
  },
  {
   "cell_type": "code",
   "execution_count": 19,
   "metadata": {
    "id": "U60cFkbUUYmj"
   },
   "outputs": [
    {
     "name": "stdout",
     "output_type": "stream",
     "text": [
      "Book with ID 16 does not exist\n",
      "Book with ID 1 info updated.\n",
      "\n"
     ]
    }
   ],
   "source": [
    "def update_book(library, book_id, title=None, author=None, year=None, genres=None):\n",
    "    if book_id not in library:\n",
    "        print(f\"Book with ID {book_id} does not exist\")\n",
    "        return\n",
    "    if title:\n",
    "        library[book_id]['title'] = title\n",
    "    if author:\n",
    "        library[book_id]['author'] = author\n",
    "    if year:\n",
    "        library[book_id]['year'] = year\n",
    "    if genres:\n",
    "        library[book_id]['genres'] = genres.split(', ') if isinstance(genres, str) else genres\n",
    "\n",
    "    print(f\"Book with ID {book_id} info updated.\\n\")\n",
    "\n",
    "\n",
    "update_book(library, 16, title=\"New Book Title\")  \n",
    "update_book(library, 1, author=\"J.K. Rowling\", year=1998)"
   ]
  },
  {
   "cell_type": "markdown",
   "metadata": {
    "id": "ME3j_m-eLhyH"
   },
   "source": [
    "#### Q3: Create a function to delete books from your library and test it."
   ]
  },
  {
   "cell_type": "markdown",
   "metadata": {},
   "source": [
    "### Expected output:\n",
    "~~~~~~~~~~~~~~~~~~~~~~~~~\n",
    "Book with ID 16 does not exist.\n",
    "\n",
    "Book with ID 1 Deleted.\n",
    "~~~~~~~~~~~~~~~~~~~~~~~~~\n"
   ]
  },
  {
   "cell_type": "code",
   "execution_count": 17,
   "metadata": {
    "id": "JlGIx-gJUadK"
   },
   "outputs": [
    {
     "name": "stdout",
     "output_type": "stream",
     "text": [
      "Book with ID 16 does not exist.\n",
      "\n"
     ]
    }
   ],
   "source": [
    "def delete_book(book_id):\n",
    "    if book_id not in library:\n",
    "        print(f\"Book with ID {book_id} does not exist.\\n\")\n",
    "        return\n",
    "    \n",
    "    del library[book_id]\n",
    "    print(f\"Book with ID {book_id} Deleted.\\n\")\n",
    "\n",
    "delete_book(16)  \n",
    "\n"
   ]
  },
  {
   "cell_type": "markdown",
   "metadata": {
    "id": "MIamnChwNgFr"
   },
   "source": [
    "#### Q4: Create a function that displays books information from your library and test it."
   ]
  },
  {
   "cell_type": "markdown",
   "metadata": {},
   "source": [
    "### Expected output:\n",
    "~~~~~~~~~~~~~~~~~~~~~~~~~\n",
    "ID: 1, Title: title, Author: author, Year: 2025, Genres: ['genre 1', 'genre 2', 'genre 3']\n",
    "\n",
    "ID: 2, Title: title2, Author: author2, Year: 2010, Genres: ['genre 12', 'genre 22', 'genre 32']\n",
    "~~~~~~~~~~~~~~~~~~~~~~~~~"
   ]
  },
  {
   "cell_type": "code",
   "execution_count": 13,
   "metadata": {
    "id": "xFNIK3YvUbz5"
   },
   "outputs": [
    {
     "name": "stdout",
     "output_type": "stream",
     "text": [
      "ID: 1, Title: Harry Potter and the Sorcerer's Stone, Author: J.K. Rowling, Year: 1998, Genres: ['Fantasy', 'Young Adult']\n",
      "\n"
     ]
    }
   ],
   "source": [
    "def display_book(book_id):\n",
    "    if book_id not in library:\n",
    "        print(f\"Book with ID {book_id} does not exist.\\n\")\n",
    "        return\n",
    "\n",
    "    book_info = library[book_id]\n",
    "    title = book_info['title']\n",
    "    author = book_info['author']\n",
    "    year = book_info['year']\n",
    "    genres = book_info['genres']\n",
    "    \n",
    "    print(f\"ID: {book_id}, Title: {title}, Author: {author}, Year: {year}, Genres: {genres}\\n\")\n",
    "\n",
    "display_book(1)   \n"
   ]
  },
  {
   "cell_type": "markdown",
   "metadata": {
    "id": "OvfdKdBqNt22"
   },
   "source": [
    "#### Q5: Create functions to do the following: calculates and display the total number of books, the average publication year, and the most common genre. and test it."
   ]
  },
  {
   "cell_type": "markdown",
   "metadata": {},
   "source": [
    "### Expected output:\n",
    "~~~~~~~~~~~~~~~~~~~~~~~~~\n",
    "2\n",
    "\n",
    "2017.5\n",
    "\n",
    "'genre 2'\n",
    "~~~~~~~~~~~~~~~~~~~~~~~~~"
   ]
  },
  {
   "cell_type": "code",
   "execution_count": 28,
   "metadata": {
    "id": "mWg5eHIWUcsU"
   },
   "outputs": [
    {
     "name": "stdout",
     "output_type": "stream",
     "text": [
      "14\n",
      "1960.142857142857\n",
      "Fiction\n"
     ]
    }
   ],
   "source": [
    "def stats(library):\n",
    "    total_books = len(library) # total number of books\n",
    "\n",
    "    years = []\n",
    "    for book in library:\n",
    "        years.append(library[book]['year'])\n",
    "\n",
    "    avg = 0\n",
    "    for i in years:\n",
    "        avg += i\n",
    "    avg /= len(years)\n",
    "\n",
    "    genres = []\n",
    "    for book in library:\n",
    "        genres.append(library[book]['genres'])\n",
    "    flattened_list = [item for sublist in genres for item in sublist]\n",
    "    most_genre = max(set(flattened_list), key=flattened_list.count)\n",
    "\n",
    "    print(total_books)\n",
    "    print(avg)\n",
    "    print(most_genre)\n",
    "stats(library)"
   ]
  },
  {
   "cell_type": "markdown",
   "metadata": {
    "id": "IuVLtf7dQaUW"
   },
   "source": [
    "#### Q6: Create 2 functions to search for books by the title and the author from your library and test it."
   ]
  },
  {
   "cell_type": "markdown",
   "metadata": {},
   "source": [
    "### Expected output:\n",
    "\n",
    "searched for title2 and author2:\n",
    "\n",
    "~~~~~~~~~~~~~~~~~~~~~~~~~\n",
    "{2: {'title': 'title2', 'author': 'author2', 'year': 2010, 'genres': ['genre 12', 'genre 22', 'genre 32']},\n",
    "\n",
    "\n",
    "{2: {'title': 'title2', 'author': 'author2', 'year': 2010, 'genres': ['genre 12', 'genre 22', 'genre 32']},\n",
    "~~~~~~~~~~~~~~~~~~~~~~~~~\n"
   ]
  },
  {
   "cell_type": "code",
   "execution_count": 33,
   "metadata": {
    "id": "7LnwRJLCUe3p"
   },
   "outputs": [
    {
     "name": "stdout",
     "output_type": "stream",
     "text": [
      "{3: {'title': 'The Great Gatsby', 'author': 'F. Scott Fitzgerald', 'year': 1925, 'genres': ['Fiction', 'Classics']}}\n",
      "{3: {'title': 'The Great Gatsby', 'author': 'F. Scott Fitzgerald', 'year': 1925, 'genres': ['Fiction', 'Classics']}}\n"
     ]
    }
   ],
   "source": [
    "def search_by_title(title):\n",
    "    results = {book_id: book_info for book_id, book_info in library.items() if book_info['title'].lower() == title.lower()}\n",
    "    \n",
    "    if results:\n",
    "        return results\n",
    "    else:\n",
    "        print(f\"No books found with title '{title}'.\\n\")\n",
    "        return {}\n",
    "    \n",
    "def search_by_author(author):\n",
    "    results = {book_id: book_info for book_id, book_info in library.items() if book_info['author'].lower() == author.lower()}\n",
    "    \n",
    "    if results:\n",
    "        return results\n",
    "    else:\n",
    "        print(f\"No books found with author '{author}'.\\n\")\n",
    "        return {}\n",
    "\n",
    "print(search_by_title(\"The Great Gatsby\"))\n",
    "print(search_by_author(\"F. Scott Fitzgerald\"))"
   ]
  },
  {
   "cell_type": "markdown",
   "metadata": {
    "id": "fAu2ozKBQzJu"
   },
   "source": [
    "#### Q7: Create 2 functions to sort the books by the title and the year from your library and test it."
   ]
  },
  {
   "cell_type": "markdown",
   "metadata": {},
   "source": [
    "**Hint**: Use lambda function\n",
    "\n",
    "\n"
   ]
  },
  {
   "cell_type": "code",
   "execution_count": 49,
   "metadata": {
    "id": "X4PyuHTMUgHl"
   },
   "outputs": [
    {
     "name": "stdout",
     "output_type": "stream",
     "text": [
      "Books sorted by title: \n",
      "\n",
      "{4: {'title': '1984', 'author': 'George Orwell', 'year': 1949, 'genres': ['Fiction', 'Dystopian']}, 11: {'title': 'Gone with the Wind', 'author': 'Margaret Mitchell', 'year': 1936, 'genres': ['Historical Fiction', 'Romance']}, 6: {'title': 'Pride and Prejudice', 'author': 'Jane Austen', 'year': 1813, 'genres': ['Fiction', 'Romance', 'Classics']}, 12: {'title': 'Sapiens: A Brief History of Humankind', 'author': 'Yuval Noah Harari', 'year': 2011, 'genres': ['Nonfiction', 'History', 'Science']}, 15: {'title': 'The Alchemist', 'author': 'Paulo Coelho', 'year': 1988, 'genres': ['Fiction', 'Inspirational']}, 5: {'title': 'The Catcher in the Rye', 'author': 'J.D. Salinger', 'year': 1951, 'genres': ['Fiction', 'Classics']}, 10: {'title': 'The Chronicles of Narnia', 'author': 'C.S. Lewis', 'year': 1950, 'genres': ['Fantasy', \"Children's Literature\"]}, 9: {'title': 'The Da Vinci Code', 'author': 'Dan Brown', 'year': 2003, 'genres': ['Mystery', 'Thriller']}, 14: {'title': 'The Girl with the Dragon Tattoo', 'author': 'Stieg Larsson', 'year': 2005, 'genres': ['Mystery', 'Thriller']}, 3: {'title': 'The Great Gatsby', 'author': 'F. Scott Fitzgerald', 'year': 1925, 'genres': ['Fiction', 'Classics']}, 7: {'title': 'The Hobbit', 'author': 'J.R.R. Tolkien', 'year': 1937, 'genres': ['Fantasy', 'Adventure']}, 8: {'title': 'The Hunger Games', 'author': 'Suzanne Collins', 'year': 2008, 'genres': ['Science Fiction', 'Dystopian', 'Young Adult']}, 13: {'title': 'The Road', 'author': 'Cormac McCarthy', 'year': 2006, 'genres': ['Fiction', 'Post-Apocalyptic']}, 2: {'title': 'To Kill a Mockingbird', 'author': 'Harper Lee', 'year': 1960, 'genres': ['Fiction', 'Classics']}}\n",
      "\n",
      "\n",
      "Books sorted by year: \n",
      "\n",
      "{6: {'title': 'Pride and Prejudice', 'author': 'Jane Austen', 'year': 1813, 'genres': ['Fiction', 'Romance', 'Classics']}, 3: {'title': 'The Great Gatsby', 'author': 'F. Scott Fitzgerald', 'year': 1925, 'genres': ['Fiction', 'Classics']}, 11: {'title': 'Gone with the Wind', 'author': 'Margaret Mitchell', 'year': 1936, 'genres': ['Historical Fiction', 'Romance']}, 7: {'title': 'The Hobbit', 'author': 'J.R.R. Tolkien', 'year': 1937, 'genres': ['Fantasy', 'Adventure']}, 4: {'title': '1984', 'author': 'George Orwell', 'year': 1949, 'genres': ['Fiction', 'Dystopian']}, 10: {'title': 'The Chronicles of Narnia', 'author': 'C.S. Lewis', 'year': 1950, 'genres': ['Fantasy', \"Children's Literature\"]}, 5: {'title': 'The Catcher in the Rye', 'author': 'J.D. Salinger', 'year': 1951, 'genres': ['Fiction', 'Classics']}, 2: {'title': 'To Kill a Mockingbird', 'author': 'Harper Lee', 'year': 1960, 'genres': ['Fiction', 'Classics']}, 15: {'title': 'The Alchemist', 'author': 'Paulo Coelho', 'year': 1988, 'genres': ['Fiction', 'Inspirational']}, 9: {'title': 'The Da Vinci Code', 'author': 'Dan Brown', 'year': 2003, 'genres': ['Mystery', 'Thriller']}, 14: {'title': 'The Girl with the Dragon Tattoo', 'author': 'Stieg Larsson', 'year': 2005, 'genres': ['Mystery', 'Thriller']}, 13: {'title': 'The Road', 'author': 'Cormac McCarthy', 'year': 2006, 'genres': ['Fiction', 'Post-Apocalyptic']}, 8: {'title': 'The Hunger Games', 'author': 'Suzanne Collins', 'year': 2008, 'genres': ['Science Fiction', 'Dystopian', 'Young Adult']}, 12: {'title': 'Sapiens: A Brief History of Humankind', 'author': 'Yuval Noah Harari', 'year': 2011, 'genres': ['Nonfiction', 'History', 'Science']}}\n"
     ]
    }
   ],
   "source": [
    "def sort_books_by_title(library):\n",
    "\n",
    "    sorted_books = sorted(library.items(), key = lambda item : item[1]['title'])\n",
    "    return dict(sorted_books)\n",
    "print(\"Books sorted by title: \\n\")\n",
    "by_title = sort_books_by_title(library)\n",
    "print(by_title)\n",
    "def sort_books_by_year(library):\n",
    "    sorted_books = sorted(library.items(), key = lambda item : item[1]['year'])\n",
    "    return dict(sorted_books)\n",
    "print(\"\\n\")\n",
    "print(\"Books sorted by year: \\n\")\n",
    "by_year = sort_books_by_year(library)\n",
    "print(by_year)\n"
   ]
  },
  {
   "cell_type": "markdown",
   "metadata": {
    "id": "KiaFO8rdiv4u"
   },
   "source": [
    "#### Q8: Create a function to bulk update genres(Replace a specific genre with a new genre) of books using list comprehension. and test it."
   ]
  },
  {
   "cell_type": "markdown",
   "metadata": {},
   "source": [
    "### Expected output:\n",
    "\n",
    "```python\n",
    "bulk_update_genres(\"genre 22\", \"Drama\")\n",
    "```\n",
    "~~~~~~~~~~~\n",
    "- Before:\n",
    "{2: {'title': 'title2', 'author': 'author2', 'year': 2010, 'genres': ['genre 12', 'genre 22', 'genre 32']},\n",
    "- After:\n",
    "{2: {'title': 'title2', 'author': 'author2', 'year': 2010, 'genres': ['genre 12', 'Drama', 'genre 32']},\n",
    "\n",
    "\n"
   ]
  },
  {
   "cell_type": "code",
   "execution_count": null,
   "metadata": {
    "id": "AbvXyE96UhVt"
   },
   "outputs": [],
   "source": [
    "def bulk_update_genres(library, book_id, old_genre = None, new_genre = None):\n",
    "    if book_id not in library:\n",
    "        print(f\"Book with ID {book_id} does not exist\")\n",
    "        return\n",
    "    book = library[book_id]\n",
    "    genres = book['genres']\n",
    "    new_genres = [new_genre if genre == old_genre else genre for genre in genres]\n",
    "    library[book_id]['genres'] = new_genres\n",
    "\n",
    "\n",
    "bulk_update_genres(library, 3, 'Fiction', 'Comedy')\n"
   ]
  },
  {
   "cell_type": "code",
   "execution_count": 58,
   "metadata": {},
   "outputs": [
    {
     "name": "stdout",
     "output_type": "stream",
     "text": [
      "ID: 3, Title: The Great Gatsby, Author: F. Scott Fitzgerald, Year: 1925, Genres: ['Comedy', 'Classics']\n",
      "\n"
     ]
    }
   ],
   "source": [
    "display_book(3)"
   ]
  },
  {
   "cell_type": "markdown",
   "metadata": {
    "id": "ZWkmOUNgi6V_"
   },
   "source": [
    "#### Q9: Implement a function to generate a report summarizing the library's statistics, including the total number of books, the number of books by each author, the number of books in each genre, and the oldest and newest books. and test it."
   ]
  },
  {
   "cell_type": "code",
   "execution_count": 74,
   "metadata": {
    "id": "Okjlb9pTUloe"
   },
   "outputs": [
    {
     "name": "stdout",
     "output_type": "stream",
     "text": [
      "\n",
      "Library Report\n",
      "Total Books: 15\n",
      "\n",
      "Books by Author:\n",
      "- Harper Lee: 1\n",
      "- F. Scott Fitzgerald: 1\n",
      "- George Orwell: 1\n",
      "- J.D. Salinger: 1\n",
      "- Jane Austen: 1\n",
      "- J.R.R. Tolkien: 1\n",
      "- Suzanne Collins: 1\n",
      "- Dan Brown: 1\n",
      "- C.S. Lewis: 1\n",
      "- Margaret Mitchell: 1\n",
      "- Yuval Noah Harari: 1\n",
      "- Cormac McCarthy: 1\n",
      "- Stieg Larsson: 1\n",
      "- Paulo Coelho: 1\n",
      "- J.K. Rowling: 1\n",
      "\n",
      "Books by Genre:\n",
      "- Fiction: 6\n",
      "- Classics: 4\n",
      "- Comedy: 1\n",
      "- Dystopian: 2\n",
      "- Romance: 2\n",
      "- Fantasy: 3\n",
      "- Adventure: 1\n",
      "- Science Fiction: 1\n",
      "- Young Adult: 2\n",
      "- Mystery: 2\n",
      "- Thriller: 2\n",
      "- Children's Literature: 1\n",
      "- Historical Fiction: 1\n",
      "- Nonfiction: 1\n",
      "- History: 1\n",
      "- Science: 1\n",
      "- Post-Apocalyptic: 1\n",
      "- Inspirational: 1\n",
      "\n",
      "Oldest Book:\n",
      "- ID: 6, Title: Pride and Prejudice, Year: 1813\n",
      "\n",
      "Newest Book:\n",
      "- ID: 12, Title: Sapiens: A Brief History of Humankind, Year: 2011\n"
     ]
    }
   ],
   "source": [
    "def generate_library_report():\n",
    "    if not library:\n",
    "        print(\"The library is empty.\\n\")\n",
    "        return\n",
    "\n",
    "    total_books = len(library)\n",
    "\n",
    "    books_by_author = {}\n",
    "    for book in library.values():\n",
    "        author = book['author']\n",
    "        books_by_author[author] = books_by_author.get(author, 0) + 1\n",
    "\n",
    "    books_by_genre = {}\n",
    "    for book in library.values():\n",
    "        for genre in book['genres']:\n",
    "            books_by_genre[genre] = books_by_genre.get(genre, 0) + 1\n",
    "\n",
    "    oldest_book = min(library.items(), key=lambda item: item[1]['year'])\n",
    "    newest_book = max(library.items(), key=lambda item: item[1]['year'])\n",
    "\n",
    "    print(\"\\nLibrary Report\")\n",
    "    print(f\"Total Books: {total_books}\\n\")\n",
    "\n",
    "    print(\"Books by Author:\")\n",
    "    for author, count in books_by_author.items():\n",
    "        print(f\"- {author}: {count}\")\n",
    "\n",
    "    print(\"\\nBooks by Genre:\")\n",
    "    for genre, count in books_by_genre.items():\n",
    "        print(f\"- {genre}: {count}\")\n",
    "\n",
    "    print(\"\\nOldest Book:\")\n",
    "    print(f\"- ID: {oldest_book[0]}, Title: {oldest_book[1]['title']}, Year: {oldest_book[1]['year']}\")\n",
    "\n",
    "    print(\"\\nNewest Book:\")\n",
    "    print(f\"- ID: {newest_book[0]}, Title: {newest_book[1]['title']}, Year: {newest_book[1]['year']}\")\n",
    "    \n",
    "\n",
    "generate_library_report()\n"
   ]
  }
 ],
 "metadata": {
  "colab": {
   "provenance": []
  },
  "kernelspec": {
   "display_name": "Python 3 (ipykernel)",
   "language": "python",
   "name": "python3"
  },
  "language_info": {
   "codemirror_mode": {
    "name": "ipython",
    "version": 3
   },
   "file_extension": ".py",
   "mimetype": "text/x-python",
   "name": "python",
   "nbconvert_exporter": "python",
   "pygments_lexer": "ipython3",
   "version": "3.12.4"
  }
 },
 "nbformat": 4,
 "nbformat_minor": 4
}
