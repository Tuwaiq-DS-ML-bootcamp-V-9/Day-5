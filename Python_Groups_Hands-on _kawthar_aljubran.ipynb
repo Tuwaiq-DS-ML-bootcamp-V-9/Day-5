{
 "cells": [
  {
   "cell_type": "markdown",
   "metadata": {
    "id": "kZXiW0-J0-2x"
   },
   "source": [
    "# Python_Groups_Hands-on\n"
   ]
  },
  {
   "cell_type": "markdown",
   "metadata": {
    "id": "I05A6_S80-2y"
   },
   "source": [
    "## Project: Library Management System\n",
    "### Description:\n",
    "- Develop a basic Library Management System (LMS) that allows users to manage book records, including adding, updating, deleting, and displaying book information. The system should also provide basic statistical analysis.\n",
    "\n",
    "### System requirements:\n",
    "\n",
    "#### Data Structure Design:\n",
    "\n",
    "  - Define data structures using lists, tuples, dictionaries, and sets to store book information (e.g., book ID, title, author, year, genres).\n",
    "\n",
    "#### Basic Operations:\n",
    "\n",
    "- Implement functions to add, update, delete, and display book records.\n",
    "- Ensure proper type conversion and validation of inputs.\n",
    "\n",
    "#### Statistical Analysis:\n",
    "\n",
    "- Write functions to calculate and display the total number of books, the average publication year, and the most common genre.\n",
    "- Use list comprehensions and built-in functions (sort, len, zip, range) for calculations.\n",
    "\n",
    "#### Advanced Features:\n",
    "\n",
    "- Implement search functionality to find books by title or author using lambda functions.\n",
    "- Provide sorting options for book records based on different criteria (e.g., title, year).\n",
    "\n",
    "\n",
    "#### Exception Handling:\n",
    "\n",
    "- Handle potential errors (e.g., invalid input) using try-except blocks."
   ]
  },
  {
   "cell_type": "markdown",
   "metadata": {
    "id": "rXuH9y0_D76o"
   },
   "source": [
    "#### Q1: Using the following table, create a function to add these books to your library:\n",
    "\n",
    "\n",
    "\n",
    "| Book ID | Title                            | Author               | Year | Genres                              |\n",
    "|---------|----------------------------------|----------------------|------|-------------------------------------|\n",
    "| 1       | Harry Potter and the Sorcerer's Stone | J.K. Rowling         | 1997 | Fantasy, Young Adult                |\n",
    "| 2       | To Kill a Mockingbird             | Harper Lee           | 1960 | Fiction, Classics                   |\n",
    "| 3       | The Great Gatsby                  | F. Scott Fitzgerald  | 1925 | Fiction, Classics                   |\n",
    "| 4       | 1984                              | George Orwell        | 1949 | Fiction, Dystopian                  |\n",
    "| 5       | The Catcher in the Rye            | J.D. Salinger        | 1951 | Fiction, Classics                   |\n",
    "| 6       | Pride and Prejudice               | Jane Austen          | 1813 | Fiction, Romance, Classics          |\n",
    "| 7       | The Hobbit                        | J.R.R. Tolkien       | 1937 | Fantasy, Adventure                  |\n",
    "| 8       | The Hunger Games                  | Suzanne Collins      | 2008 | Science Fiction, Dystopian, Young Adult |\n",
    "| 9       | The Da Vinci Code                 | Dan Brown            | 2003 | Mystery, Thriller                   |\n",
    "| 10      | The Chronicles of Narnia          | C.S. Lewis           | 1950 | Fantasy, Children's Literature      |\n",
    "| 11      | Gone with the Wind                | Margaret Mitchell    | 1936 | Historical Fiction, Romance         |\n",
    "| 12      | Sapiens: A Brief History of Humankind | Yuval Noah Harari   | 2011 | Nonfiction, History, Science        |\n",
    "| 13      | The Road                          | Cormac McCarthy      | 2006 | Fiction, Post-Apocalyptic           |\n",
    "| 14      | The Girl with the Dragon Tattoo   | Stieg Larsson        | 2005 | Mystery, Thriller                   |\n",
    "| 15      | The Alchemist                     | Paulo Coelho         | 1988 | Fiction, Inspirational              |\n"
   ]
  },
  {
   "cell_type": "markdown",
   "metadata": {},
   "source": [
    "### Expected output:\n",
    "~~~~~~~~~~~~~~~~~~~~~~~~~\n",
    "{1: {'title': 'title',\n",
    "  'author': 'author',\n",
    "  'year': 2025,\n",
    "  'genres': ['genre 1', 'genre 2', 'genre 3']}}\n",
    "  ~~~~~~~~~~~~~~~~~~~~~~~~~"
   ]
  },
  {
   "cell_type": "code",
   "execution_count": 78,
   "metadata": {
    "id": "BzV_B_g20-2z"
   },
   "outputs": [
    {
     "name": "stdout",
     "output_type": "stream",
     "text": [
      "Enter book's title: Harry Potter and the Sorcerer's Stone\n",
      "Enter the author's name: J.K. Rowling\n",
      "Enter year of publication: 1997\n",
      "Enter book's gener(s): Fantasy, Young Adult\n",
      "Do you want to stop adding books? Yes = 1 no = 00\n",
      "Enter book's title: To Kill a Mockingbird\n",
      "Enter the author's name: Harper Lee\n",
      "Enter year of publication: 1960\n",
      "Enter book's gener(s): Fiction, Classic\n",
      "Do you want to stop adding books? Yes = 1 no = 00\n",
      "Enter book's title: The Great Gatsby\n",
      "Enter the author's name: F. Scott Fitzgerald \n",
      "Enter year of publication: 1925\n",
      "Enter book's gener(s): Fiction, Classic\n",
      "Do you want to stop adding books? Yes = 1 no = 00\n",
      "Enter book's title: 1984\n",
      "Enter the author's name: George Orwell\n",
      "Enter year of publication: 1949\n",
      "Enter book's gener(s): Fiction, Dystopain\n",
      "Do you want to stop adding books? Yes = 1 no = 01\n",
      "{1: {'title': \"Harry Potter and the Sorcerer's Stone\", 'author': 'J.K. Rowling', 'year': '1997', 'Genres': ['Fantasy', 'Young Adult']}, 2: {'title': 'To Kill a Mockingbird', 'author': 'Harper Lee', 'year': '1960', 'Genres': ['Fiction', 'Classic']}, 3: {'title': 'The Great Gatsby', 'author': 'F. Scott Fitzgerald ', 'year': '1925', 'Genres': ['Fiction', 'Classic']}, 4: {'title': '1984', 'author': 'George Orwell', 'year': '1949', 'Genres': ['Fiction', 'Dystopain']}}\n"
     ]
    }
   ],
   "source": [
    "# write your code here ^_^\n",
    "def add_books():\n",
    "    library_books = {}\n",
    "    \n",
    "    for i in range(1, 100):\n",
    "        title = input(\"Enter book's title: \")\n",
    "        author = input(\"Enter the author's name: \")\n",
    "        year = input(\"Enter year of publication: \")\n",
    "        genre = input(\"Enter book's gener(s): \").split(', ')\n",
    "        library_books[i] = {\"title\": title, 'author': author,\n",
    "                                \"year\": year, 'Genres': genre}\n",
    "        answer = input(\"Do you want to stop adding books? Yes = 1 no = 0\")\n",
    "        if int(answer) == 1:\n",
    "            break\n",
    "        \n",
    "       \n",
    "\n",
    "    \n",
    "    print(library_books)\n",
    "    return library_books\n",
    "\n",
    "book_store = add_books()"
   ]
  },
  {
   "cell_type": "markdown",
   "metadata": {
    "id": "kR5bvgOsF3oJ"
   },
   "source": [
    "#### Q2: Create a function that updates books exsisted in your library and test it.\n",
    "- **Note**: If the user entered wrong book ID it should print \"Book with ID 'num' does not exist."
   ]
  },
  {
   "cell_type": "markdown",
   "metadata": {},
   "source": [
    "### Expected output:\n",
    "~~~~~~~~~~~~~~~~~~~~~~~~~\n",
    "Book with ID 16 does not exist.\n",
    "\n",
    "Book with ID 1 info updated.\n",
    "~~~~~~~~~~~~~~~~~~~~~~~~~"
   ]
  },
  {
   "cell_type": "code",
   "execution_count": 79,
   "metadata": {
    "id": "U60cFkbUUYmj"
   },
   "outputs": [
    {
     "name": "stdout",
     "output_type": "stream",
     "text": [
      "Book with ID 16 does not exist\n",
      "Enter book's title: Harry Potter and the Sorcerer's Stone\n",
      "Enter the author's name: J.K. Rowling\n",
      "Enter year of publication: 1997\n",
      "Enter book's gener(s): Fantasy, Children's literature\n",
      "Book with ID 1 if no updated\n",
      "{1: {'title': \"Harry Potter and the Sorcerer's Stone\", 'author': 'J.K. Rowling', 'year': '1997', 'Genres': ['Fantasy', \" Children's literature\"]}, 2: {'title': 'To Kill a Mockingbird', 'author': 'Harper Lee', 'year': '1960', 'Genres': ['Fiction', 'Classic']}, 3: {'title': 'The Great Gatsby', 'author': 'F. Scott Fitzgerald ', 'year': '1925', 'Genres': ['Fiction', 'Classic']}, 4: {'title': '1984', 'author': 'George Orwell', 'year': '1949', 'Genres': ['Fiction', 'Dystopain']}}\n"
     ]
    }
   ],
   "source": [
    "# write your code here ^_^\n",
    "\n",
    "def update_book(bookstore, book_id):\n",
    "    if book_id in bookstore.keys():\n",
    "        bookstore[book_id]['title'] = input(\"Enter book's title: \")\n",
    "        bookstore[book_id]['author']  = input(\"Enter the author's name: \")\n",
    "        bookstore[book_id]['year']  = input(\"Enter year of publication: \")\n",
    "        bookstore[book_id]['Genres'] = input(\"Enter book's gener(s): \").split(',')\n",
    "        print(f'Book with ID {book_id} if no updated')\n",
    "    else:\n",
    "        print(f'Book with ID {book_id} does not exist')\n",
    "\n",
    "update_book(book_store, 16)\n",
    "update_book(book_store, 1)\n",
    "print(book_store)"
   ]
  },
  {
   "cell_type": "markdown",
   "metadata": {
    "id": "ME3j_m-eLhyH"
   },
   "source": [
    "#### Q3: Create a function to delete books from your library and test it."
   ]
  },
  {
   "cell_type": "markdown",
   "metadata": {},
   "source": [
    "### Expected output:\n",
    "~~~~~~~~~~~~~~~~~~~~~~~~~\n",
    "Book with ID 16 does not exist.\n",
    "\n",
    "Book with ID 1 Deleted.\n",
    "~~~~~~~~~~~~~~~~~~~~~~~~~\n"
   ]
  },
  {
   "cell_type": "code",
   "execution_count": 80,
   "metadata": {
    "id": "JlGIx-gJUadK"
   },
   "outputs": [
    {
     "name": "stdout",
     "output_type": "stream",
     "text": [
      "Book with ID 16 does not exist\n",
      "Book with ID 1 is deleted\n",
      "{2: {'title': 'To Kill a Mockingbird', 'author': 'Harper Lee', 'year': '1960', 'Genres': ['Fiction', 'Classic']}, 3: {'title': 'The Great Gatsby', 'author': 'F. Scott Fitzgerald ', 'year': '1925', 'Genres': ['Fiction', 'Classic']}, 4: {'title': '1984', 'author': 'George Orwell', 'year': '1949', 'Genres': ['Fiction', 'Dystopain']}}\n"
     ]
    }
   ],
   "source": [
    "# write your code here ^_^\n",
    "def delete_book(bookstore ,book_id):\n",
    "    if book_id in bookstore.keys():\n",
    "        bookstore.pop(book_id)\n",
    "        print(f'Book with ID {book_id} is deleted')\n",
    "    else:\n",
    "        print(f'Book with ID {book_id} does not exist')\n",
    "\n",
    "delete_book(book_store, 16)\n",
    "delete_book(book_store, 1)\n",
    "print(book_store)"
   ]
  },
  {
   "cell_type": "markdown",
   "metadata": {
    "id": "MIamnChwNgFr"
   },
   "source": [
    "#### Q4: Create a function that displays books information from your library and test it."
   ]
  },
  {
   "cell_type": "markdown",
   "metadata": {},
   "source": [
    "### Expected output:\n",
    "~~~~~~~~~~~~~~~~~~~~~~~~~\n",
    "ID: 1, Title: title, Author: author, Year: 2025, Genres: ['genre 1', 'genre 2', 'genre 3']\n",
    "\n",
    "ID: 2, Title: title2, Author: author2, Year: 2010, Genres: ['genre 12', 'genre 22', 'genre 32']\n",
    "~~~~~~~~~~~~~~~~~~~~~~~~~"
   ]
  },
  {
   "cell_type": "code",
   "execution_count": 81,
   "metadata": {
    "id": "xFNIK3YvUbz5"
   },
   "outputs": [
    {
     "name": "stdout",
     "output_type": "stream",
     "text": [
      "ID: 2, Title: To Kill a Mockingbird, Author: Harper Lee, Year: 1960, Genre: ['Fiction', 'Classic']\n",
      "ID: 3, Title: The Great Gatsby, Author: F. Scott Fitzgerald , Year: 1925, Genre: ['Fiction', 'Classic']\n",
      "ID: 4, Title: 1984, Author: George Orwell, Year: 1949, Genre: ['Fiction', 'Dystopain']\n"
     ]
    }
   ],
   "source": [
    "# write your code here ^_^\n",
    "def display_books(bookstore):\n",
    "    for key, value in bookstore.items():\n",
    "        print(f\"ID: {key}, Title: {value['title']}, Author: {value['author']}, Year: {value['year']}, Genre: {value['Genres']}\")\n",
    "display_books(book_store)"
   ]
  },
  {
   "cell_type": "markdown",
   "metadata": {
    "id": "OvfdKdBqNt22"
   },
   "source": [
    "#### Q5: Create functions to do the following: calculates and display the total number of books, the average publication year, and the most common genre. and test it."
   ]
  },
  {
   "cell_type": "markdown",
   "metadata": {},
   "source": [
    "### Expected output:\n",
    "~~~~~~~~~~~~~~~~~~~~~~~~~\n",
    "2\n",
    "\n",
    "2017.5\n",
    "\n",
    "'genre 2'\n",
    "~~~~~~~~~~~~~~~~~~~~~~~~~"
   ]
  },
  {
   "cell_type": "code",
   "execution_count": 87,
   "metadata": {
    "id": "mWg5eHIWUcsU"
   },
   "outputs": [
    {
     "name": "stdout",
     "output_type": "stream",
     "text": [
      "3\n",
      "1944.7\n",
      "Fiction\n"
     ]
    }
   ],
   "source": [
    "# write your code here ^_^\n",
    "def total_books(bookstore):\n",
    "    return len(bookstore)\n",
    "\n",
    "print(total_books(book_store))\n",
    "\n",
    "def ave_year(bookstore):\n",
    "    total_years = 0\n",
    "    for key, value in bookstore.items():\n",
    "        total_years += int(value['year'])\n",
    "    ave = total_years/len(bookstore)\n",
    "\n",
    "    print(\"%.1f\" %ave)\n",
    "\n",
    "ave_year(book_store)\n",
    "\n",
    "\n",
    "def most_common_genre(bookstore):\n",
    "    from collections import Counter\n",
    "    most_common = []\n",
    "    for key, value in bookstore.items():\n",
    "        most_common.extend(value['Genres'])\n",
    "    most_common_genre = Counter(most_common)\n",
    "    return most_common_genre.most_common(1)[0][0]\n",
    "\n",
    "print(most_common_genre(book_store))"
   ]
  },
  {
   "cell_type": "markdown",
   "metadata": {
    "id": "IuVLtf7dQaUW"
   },
   "source": [
    "#### Q6: Create 2 functions to search for books by the title and the author from your library and test it."
   ]
  },
  {
   "cell_type": "markdown",
   "metadata": {},
   "source": [
    "### Expected output:\n",
    "\n",
    "searched for title2 and author2:\n",
    "\n",
    "~~~~~~~~~~~~~~~~~~~~~~~~~\n",
    "{2: {'title': 'title2', 'author': 'author2', 'year': 2010, 'genres': ['genre 12', 'genre 22', 'genre 32']},\n",
    "\n",
    "\n",
    "{2: {'title': 'title2', 'author': 'author2', 'year': 2010, 'genres': ['genre 12', 'genre 22', 'genre 32']},\n",
    "~~~~~~~~~~~~~~~~~~~~~~~~~\n"
   ]
  },
  {
   "cell_type": "code",
   "execution_count": 98,
   "metadata": {
    "id": "7LnwRJLCUe3p"
   },
   "outputs": [
    {
     "name": "stdout",
     "output_type": "stream",
     "text": [
      "4 {'title': '1984', 'author': 'George Orwell', 'year': '1949', 'Genres': ['Fiction', 'Dystopain']}\n",
      "1984 is not found\n",
      "4 {'title': '1984', 'author': 'George Orwell', 'year': '1949', 'Genres': ['Fiction', 'Dystopain']}\n",
      "George Orwell is not found\n"
     ]
    }
   ],
   "source": [
    "# write your code here ^_^\n",
    "# write your code here ^_^\n",
    "def search_title(bookstore,book_title):\n",
    "    for key, value in bookstore.items():\n",
    "        if book_title == value['title']:\n",
    "            print(key, value)\n",
    "            break\n",
    "    print(book_title, 'is not found')\n",
    "    \n",
    "search_title(book_store, '1984')\n",
    "\n",
    "\n",
    "def search_author(bookstore, book_author):\n",
    "    for key, value in bookstore.items():\n",
    "        if book_author == value['author']:\n",
    "            print(key, value)\n",
    "            break\n",
    "    print(book_author, 'is not found')\n",
    "    \n",
    "search_author(book_store, 'George Orwell')"
   ]
  },
  {
   "cell_type": "markdown",
   "metadata": {
    "id": "fAu2ozKBQzJu"
   },
   "source": [
    "#### Q7: Create 2 functions to sort the books by the title and the year from your library and test it."
   ]
  },
  {
   "cell_type": "markdown",
   "metadata": {},
   "source": [
    "**Hint**: Use lambda function\n",
    "\n",
    "\n"
   ]
  },
  {
   "cell_type": "code",
   "execution_count": 99,
   "metadata": {
    "id": "X4PyuHTMUgHl"
   },
   "outputs": [
    {
     "name": "stdout",
     "output_type": "stream",
     "text": [
      "Sorted by title\n"
     ]
    },
    {
     "data": {
      "text/plain": [
       "[{'title': '1984',\n",
       "  'author': 'George Orwell',\n",
       "  'year': '1949',\n",
       "  'Genres': ['Fiction', 'Dystopain']},\n",
       " {'title': 'The Great Gatsby',\n",
       "  'author': 'F. Scott Fitzgerald ',\n",
       "  'year': '1925',\n",
       "  'Genres': ['Fiction', 'Classic']},\n",
       " {'title': 'To Kill a Mockingbird',\n",
       "  'author': 'Harper Lee',\n",
       "  'year': '1960',\n",
       "  'Genres': ['Fiction', 'Classic']}]"
      ]
     },
     "execution_count": 99,
     "metadata": {},
     "output_type": "execute_result"
    }
   ],
   "source": [
    "# write your code here ^_^\n",
    "def sort_title(bookstore):\n",
    "    return sorted(bookstore.values(),  key= lambda title : title['title'] )\n",
    "\n",
    "print('Sorted by title')\n",
    "sort_title(book_store)\n",
    "\n"
   ]
  },
  {
   "cell_type": "code",
   "execution_count": 100,
   "metadata": {},
   "outputs": [
    {
     "name": "stdout",
     "output_type": "stream",
     "text": [
      "Sorted by year\n"
     ]
    },
    {
     "data": {
      "text/plain": [
       "[{'title': 'The Great Gatsby',\n",
       "  'author': 'F. Scott Fitzgerald ',\n",
       "  'year': '1925',\n",
       "  'Genres': ['Fiction', 'Classic']},\n",
       " {'title': '1984',\n",
       "  'author': 'George Orwell',\n",
       "  'year': '1949',\n",
       "  'Genres': ['Fiction', 'Dystopain']},\n",
       " {'title': 'To Kill a Mockingbird',\n",
       "  'author': 'Harper Lee',\n",
       "  'year': '1960',\n",
       "  'Genres': ['Fiction', 'Classic']}]"
      ]
     },
     "execution_count": 100,
     "metadata": {},
     "output_type": "execute_result"
    }
   ],
   "source": [
    "def sort_year(bookstore):\n",
    "    return sorted(bookstore.values(), key = lambda year : year['year'])\n",
    "\n",
    "print('Sorted by year')\n",
    "sort_year(book_store)"
   ]
  },
  {
   "cell_type": "markdown",
   "metadata": {
    "id": "KiaFO8rdiv4u"
   },
   "source": [
    "#### Q8: Create a function to bulk update genres(Replace a specific genre with a new genre) of books using list comprehension. and test it."
   ]
  },
  {
   "cell_type": "markdown",
   "metadata": {},
   "source": [
    "### Expected output:\n",
    "\n",
    "```python\n",
    "bulk_update_genres(\"genre 22\", \"Drama\")\n",
    "```\n",
    "~~~~~~~~~~~\n",
    "- Before:\n",
    "{2: {'title': 'title2', 'author': 'author2', 'year': 2010, 'genres': ['genre 12', 'genre 22', 'genre 32']},\n",
    "- After:\n",
    "{2: {'title': 'title2', 'author': 'author2', 'year': 2010, 'genres': ['genre 12', 'Drama', 'genre 32']},\n",
    "\n",
    "\n"
   ]
  },
  {
   "cell_type": "code",
   "execution_count": 102,
   "metadata": {
    "id": "AbvXyE96UhVt"
   },
   "outputs": [
    {
     "name": "stdout",
     "output_type": "stream",
     "text": [
      "-Before\n",
      "{'title': 'To Kill a Mockingbird', 'author': 'Harper Lee', 'year': '1960', 'Genres': ['Fiction', 'Classic']}\n",
      "-After\n",
      "{'title': 'To Kill a Mockingbird', 'author': 'Harper Lee', 'year': '1960', 'Genres': ['fiction', 'Classic']}\n",
      "-Before\n",
      "{'title': 'The Great Gatsby', 'author': 'F. Scott Fitzgerald ', 'year': '1925', 'Genres': ['Fiction', 'Classic']}\n",
      "-After\n",
      "{'title': 'The Great Gatsby', 'author': 'F. Scott Fitzgerald ', 'year': '1925', 'Genres': ['fiction', 'Classic']}\n",
      "-Before\n",
      "{'title': '1984', 'author': 'George Orwell', 'year': '1949', 'Genres': ['Fiction', 'Dystopain']}\n",
      "-After\n",
      "{'title': '1984', 'author': 'George Orwell', 'year': '1949', 'Genres': ['fiction', 'Dystopain']}\n"
     ]
    }
   ],
   "source": [
    "# write your code here ^_^\n",
    "def bulk_update_genrese(bookstore, search_genre, replae_genre):\n",
    "    for key, value in bookstore.items():\n",
    "        for i in range(0, len(value['Genres'])):\n",
    "            if search_genre in value['Genres'][i]:\n",
    "                print('-Before')\n",
    "                print(book_store[key])\n",
    "                value['Genres'][i] = replae_genre\n",
    "                print('-After')\n",
    "                print(book_store[key])\n",
    "                \n",
    "bulk_update_genrese(book_store, 'Fiction', 'fiction')"
   ]
  },
  {
   "cell_type": "markdown",
   "metadata": {
    "id": "ZWkmOUNgi6V_"
   },
   "source": [
    "#### Q9: Implement a function to generate a report summarizing the library's statistics, including the total number of books, the number of books by each author, the number of books in each genre, and the oldest and newest books. and test it."
   ]
  },
  {
   "cell_type": "code",
   "execution_count": 104,
   "metadata": {
    "id": "Okjlb9pTUloe"
   },
   "outputs": [
    {
     "name": "stdout",
     "output_type": "stream",
     "text": [
      "Report:\n",
      "Total number of books:3\n",
      "The newest book in the bookstroe:  {'title': 'To Kill a Mockingbird', 'author': 'Harper Lee', 'year': '1960', 'Genres': ['fiction', 'Classic']}\n",
      "The oldest book in the bookstore:  {'title': 'The Great Gatsby', 'author': 'F. Scott Fitzgerald ', 'year': '1925', 'Genres': ['fiction', 'Classic']}\n",
      "Number of books by each author:\n",
      "('George Orwell', 1)\n",
      "('Harper Lee', 1)\n",
      "('F. Scott Fitzgerald ', 1)\n",
      "Number of books per genre:\n",
      "Classic: 2\n",
      "Dystopain: 1\n",
      "fiction: 3\n"
     ]
    }
   ],
   "source": [
    "# write your code here ^_^\n",
    "def report(bookstore):\n",
    "    total = total_books(bookstore)\n",
    "    print('Report:')\n",
    "    print(f'Total number of books:{total}')\n",
    "\n",
    "    total_years = []\n",
    "    authors = set()\n",
    "    genres = set()\n",
    "\n",
    "    for key, value in bookstore.items():\n",
    "        authors.add(value['author'])\n",
    "        \n",
    "    authors = list(authors)\n",
    "    books_authors = [0 for x in authors]\n",
    "    \n",
    "        \n",
    "    for key, value in bookstore.items():\n",
    "        for genre in value['Genres']:\n",
    "            genres.add(genre)\n",
    "\n",
    "    genres = list(genres)\n",
    "    books_genres = {key:0 for key in genres}\n",
    "    \n",
    "    for key, value in bookstore.items():\n",
    "        for genre in value['Genres']:\n",
    "            books_genres[genre] += 1\n",
    "            \n",
    "\n",
    "    for key, value in bookstore.items():\n",
    "        for i in range(0, len(authors)):\n",
    "            if value['author'] == authors[i]:\n",
    "                books_authors[i] += 1\n",
    "               \n",
    "        total_years.append(value['year'])\n",
    "        newest = max(total_years)\n",
    "        oldest = min(total_years)\n",
    "        if value['year'] == newest:\n",
    "            newest_book = value\n",
    "        if value['year'] == oldest:\n",
    "            oldest_book = value\n",
    "\n",
    "    books_for_authors = zip(authors, books_authors)\n",
    "    print(\"The newest book in the bookstroe: \",newest_book)\n",
    "    print(\"The oldest book in the bookstore: \",oldest_book)\n",
    "    print(\"Number of books by each author:\")\n",
    "    for i in books_for_authors:\n",
    "        print(i)\n",
    "    \n",
    "    print(\"Number of books per genre:\")\n",
    "    for genre, count in books_genres.items():\n",
    "        print(f\"{genre}: {count}\")\n",
    "        \n",
    "report(book_store)"
   ]
  }
 ],
 "metadata": {
  "colab": {
   "provenance": []
  },
  "kernelspec": {
   "display_name": "Python 3 (ipykernel)",
   "language": "python",
   "name": "python3"
  },
  "language_info": {
   "codemirror_mode": {
    "name": "ipython",
    "version": 3
   },
   "file_extension": ".py",
   "mimetype": "text/x-python",
   "name": "python",
   "nbconvert_exporter": "python",
   "pygments_lexer": "ipython3",
   "version": "3.11.4"
  }
 },
 "nbformat": 4,
 "nbformat_minor": 1
}
