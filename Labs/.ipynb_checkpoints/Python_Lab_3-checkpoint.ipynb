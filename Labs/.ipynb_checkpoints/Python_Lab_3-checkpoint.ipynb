{
 "cells": [
  {
   "cell_type": "markdown",
   "metadata": {},
   "source": [
    "# Python_Lab_3\n"
   ]
  },
  {
   "cell_type": "markdown",
   "metadata": {},
   "source": [
    "### Task 1\n",
    "- Write a function named **'create_student_records'** that takes a list of tuples. Each tuple contains a student's name and their scores in three subjects. The function should return a list of dictionaries, where each dictionary represents a student with keys: name, subject1, subject2, subject3. Use list comprehension to create the list of dictionaries."
   ]
  },
  {
   "cell_type": "code",
   "execution_count": 37,
   "metadata": {},
   "outputs": [
    {
     "name": "stdout",
     "output_type": "stream",
     "text": [
      "[{'Name': 'Yosef', 'Chemistry': 90, 'Mathematics': 100, 'Physics': 80}, {'Name': 'Mhammed', 'Chemistry': 90, 'Mathematics': 60, 'Physics': 75}, {'Name': 'Ali', 'Chemistry': 90, 'Mathematics': 60, 'Physics': 100}]\n"
     ]
    }
   ],
   "source": [
    "# write your code here ^_^\n",
    "studentlist = [(\"Yosef\",90,100,80),(\"Mhammed\",90,60,75),(\"Ali\",90,60,100)]\n",
    "def create_student_records(studentlist):\n",
    "    return [{\"Name\" : i[0],\"Chemistry\" :i[1],\"Mathematics\": i[2],\"Physics\" : i[3]}for i in studentlist] \n",
    "print(create_student_records(studentlist))"
   ]
  },
  {
   "cell_type": "markdown",
   "metadata": {},
   "source": [
    "### Task 2\n",
    "- Write a function named **'filter_and_sort_students'** that takes the list of dictionaries from Question 1 and returns a sorted list of student names who have an average score of 80 or more across all subjects. Sort the names in alphabetical order."
   ]
  },
  {
   "cell_type": "code",
   "execution_count": 39,
   "metadata": {},
   "outputs": [
    {
     "name": "stdout",
     "output_type": "stream",
     "text": [
      "['Ali', 'Yosef']\n"
     ]
    }
   ],
   "source": [
    "# write your code here ^_^\n",
    "listOfDict = create_student_records(studentlist)\n",
    "def filter_and_sort_students(listOfDict):\n",
    "    listName = []\n",
    "    for i in range(3):\n",
    "        myfilter = listOfDict[i]\n",
    "        if (myfilter[\"Chemistry\"] + myfilter[\"Mathematics\"] + myfilter[\"Physics\"]) / 3 >= 80:\n",
    "            listName.append(myfilter[\"Name\"])\n",
    "\n",
    "    return sorted(listName)\n",
    "print(filter_and_sort_students(listOfDict))"
   ]
  },
  {
   "cell_type": "markdown",
   "metadata": {},
   "source": [
    "### Task 3\n",
    "- Write a function named **'get_product_info'** that prompts the user to enter information about a product. The function should ask for the product name, product price, and product quantity. If the user enters an invalid input (e.g., a non-numeric value for the price or quantity), the function should handle the error and prompt the user to enter the value again. Return a dictionary containing the product information."
   ]
  },
  {
   "cell_type": "code",
   "execution_count": 67,
   "metadata": {},
   "outputs": [
    {
     "name": "stdin",
     "output_type": "stream",
     "text": [
      "Enter product name : Y\n",
      "Enter product price : 5.5\n",
      "Enter product Quantity : 9\n",
      "Do you want to continue? (Y/N) Y\n",
      "Enter product name : u\n",
      "Enter product price : 7.8\n",
      "Enter product Quantity : 8\n",
      "Do you want to continue? (Y/N) Y\n",
      "Enter product name : u\n",
      "Enter product price : 9.9\n",
      "Enter product Quantity : 9\n",
      "Do you want to continue? (Y/N) N\n"
     ]
    },
    {
     "name": "stdout",
     "output_type": "stream",
     "text": [
      "{'productName': ['Y', 'u', 'u'], 'productPrice': [5.5, 7.8, 9.9], 'productQuantity': [9, 8, 9]}\n"
     ]
    }
   ],
   "source": [
    "# write your code here ^_^\n",
    "def get_product_info():\n",
    "    dictOfProduct = {\n",
    "        \"productName\" : [],\n",
    "        \"productPrice\" :[],\n",
    "        \"productQuantity\" :[]\n",
    "    }\n",
    "    while(True):\n",
    "        try:\n",
    "            productName = input(\"Enter product name :\")\n",
    "            productPrice = float(input(\"Enter product price :\"))\n",
    "            productQuantity = int(input(\"Enter product Quantity :\"))\n",
    "        except ValueError:\n",
    "            print(\"Pease enter number\")\n",
    "            continue\n",
    "        else:\n",
    "            dictOfProduct[\"productName\"].append(productName)\n",
    "            dictOfProduct[\"productPrice\"].append(productPrice)\n",
    "            dictOfProduct[\"productQuantity\"].append(productQuantity)\n",
    "            n = input(\"Do you want to continue? (Y/N)\")\n",
    "            if n == \"N\":\n",
    "                print(dictOfProduct)\n",
    "                break\n",
    "                \n",
    "get_product_info()"
   ]
  },
  {
   "cell_type": "markdown",
   "metadata": {},
   "source": [
    "### Task 4\n",
    "- Write a function named **'get_even_numbers'** that takes a list of integers and returns a list of even numbers using list comprehension."
   ]
  },
  {
   "cell_type": "code",
   "execution_count": 80,
   "metadata": {},
   "outputs": [
    {
     "name": "stdout",
     "output_type": "stream",
     "text": [
      "[6, 8, 2, 6, 8, 6]\n"
     ]
    }
   ],
   "source": [
    "# write your code here ^_^\n",
    "def get_even_numbers(integers):\n",
    "    return [integer for integer in integers if integer % 2 == 0 ]\n",
    "print(get_even_numbers([6,7,8,9,2,6,8,5,6,7]))"
   ]
  },
  {
   "cell_type": "markdown",
   "metadata": {},
   "source": [
    "### Task 5\n",
    "- Write a function named **'pair_elements'** that takes two lists of equal length as parameters and returns a list of tuples, where each tuple contains corresponding elements from the two lists. Use the zip function to achieve this."
   ]
  },
  {
   "cell_type": "code",
   "execution_count": 96,
   "metadata": {},
   "outputs": [
    {
     "name": "stdout",
     "output_type": "stream",
     "text": [
      "[(1, 6), (2, 7), (3, 8), (4, 9), (5, 10)]\n"
     ]
    }
   ],
   "source": [
    "# write your code here ^_^\n",
    "A = [1,2,3,4,5]\n",
    "B = [6,7,8,9,10]\n",
    "\n",
    "def pair_elements(A,B):\n",
    "    return list(zip(A,B))\n",
    "print(pair_elements(A,B))\n"
   ]
  },
  {
   "cell_type": "markdown",
   "metadata": {},
   "source": [
    "### Task 6\n",
    "- Write a function named **'square_dict_lambda'** that takes a list of integers and returns a dictionary where the keys are the integers and the values are their squares. Use a lambda function within a dictionary comprehension to achieve this."
   ]
  },
  {
   "cell_type": "code",
   "execution_count": 103,
   "metadata": {},
   "outputs": [
    {
     "name": "stdout",
     "output_type": "stream",
     "text": [
      "{1: 1, 2: 4, 3: 9, 4: 16, 5: 25, 6: 36, 7: 49, 8: 64, 9: 81, 10: 100}\n"
     ]
    }
   ],
   "source": [
    "# write your code here ^_^\n",
    "listintegers = [1,2,3,4,5,6,7,8,9,10]\n",
    "def square_dict_lambda(listintegers):\n",
    "    return {num :(lambda num : num**2)(num) for num in listintegers }\n",
    "print(square_dict_lambda(listintegers))"
   ]
  },
  {
   "cell_type": "code",
   "execution_count": null,
   "metadata": {},
   "outputs": [],
   "source": []
  }
 ],
 "metadata": {
  "kernelspec": {
   "display_name": "Python [conda env:base] *",
   "language": "python",
   "name": "conda-base-py"
  },
  "language_info": {
   "codemirror_mode": {
    "name": "ipython",
    "version": 3
   },
   "file_extension": ".py",
   "mimetype": "text/x-python",
   "name": "python",
   "nbconvert_exporter": "python",
   "pygments_lexer": "ipython3",
   "version": "3.12.7"
  }
 },
 "nbformat": 4,
 "nbformat_minor": 4
}
