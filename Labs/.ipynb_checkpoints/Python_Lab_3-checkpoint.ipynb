{
 "cells": [
  {
   "cell_type": "markdown",
   "metadata": {},
   "source": [
    "# Python_Lab_3\n"
   ]
  },
  {
   "cell_type": "markdown",
   "metadata": {},
   "source": [
    "### Task 1\n",
    "- Write a function named **'create_student_records'** that takes a list of tuples. Each tuple contains a student's name and their scores in three subjects. The function should return a list of dictionaries, where each dictionary represents a student with keys: name, subject1, subject2, subject3. Use list comprehension to create the list of dictionaries."
   ]
  },
  {
   "cell_type": "code",
   "execution_count": 22,
   "metadata": {},
   "outputs": [
    {
     "name": "stdout",
     "output_type": "stream",
     "text": [
      "[{'Rachel': {'Chemistry': 50, 'Mathematics': 60, 'Physics': 70}}, {'Amy': {'Chemistry': 100, 'Mathematics': 100, 'Physics': 100}}, {'Monica': {'Chemistry': 100, 'Mathematics': 100, 'Physics': 100}}, {'Rosa': {'Chemistry': 88, 'Mathematics': 74, 'Physics': 91}}]\n",
      "\n",
      "\n",
      "{'Rachel': {'Chemistry': 50, 'Mathematics': 60, 'Physics': 70}} \n",
      "\n",
      "{'Amy': {'Chemistry': 100, 'Mathematics': 100, 'Physics': 100}} \n",
      "\n",
      "{'Monica': {'Chemistry': 100, 'Mathematics': 100, 'Physics': 100}} \n",
      "\n",
      "{'Rosa': {'Chemistry': 88, 'Mathematics': 74, 'Physics': 91}} \n",
      "\n"
     ]
    }
   ],
   "source": [
    "# write your code here ^_^\n",
    "def create_student_records(listuple):\n",
    "    return [{ value[0]:{ 'Chemistry': value[1], 'Mathematics': value[2], 'Physics': value[3]}} for value in listuple]\n",
    "\n",
    "\n",
    "students = [('Rachel', 50, 60, 70), ('Amy', 100, 100, 100),\n",
    "            ('Monica', 100, 100, 100), ('Rosa', 88, 74, 91)]\n",
    "\n",
    "my_students = create_student_records(students)\n",
    "print(my_students)\n",
    "print('\\n')\n",
    "for i in my_students:\n",
    "    print(i,'\\n')"
   ]
  },
  {
   "cell_type": "markdown",
   "metadata": {},
   "source": [
    "### Task 2\n",
    "- Write a function named **'filter_and_sort_students'** that takes the list of dictionaries from Question 1 and returns a sorted list of student names who have an average score of 80 or more across all subjects. Sort the names in alphabetical order."
   ]
  },
  {
   "cell_type": "code",
   "execution_count": 29,
   "metadata": {},
   "outputs": [
    {
     "ename": "SyntaxError",
     "evalue": "invalid syntax (1780311548.py, line 3)",
     "output_type": "error",
     "traceback": [
      "\u001b[1;36m  Cell \u001b[1;32mIn[29], line 3\u001b[1;36m\u001b[0m\n\u001b[1;33m    return sorted(filter(lambda students.keys(): students['Chemistry']+students['Mathematics']+students['Physics']/3>80, listdictionary))\u001b[0m\n\u001b[1;37m                                        ^\u001b[0m\n\u001b[1;31mSyntaxError\u001b[0m\u001b[1;31m:\u001b[0m invalid syntax\n"
     ]
    }
   ],
   "source": [
    "# write your code here ^_^\n",
    "def filter_and_sort_students(listdictionary):\n",
    "    filtered_students = [\n",
    "        student_name  # Get the student's name\n",
    "        for student in listdictionary\n",
    "        for student_name, scores in student.items()  # Get student name and their scores\n",
    "        if sum(scores.values()) / len(scores) >= 80  # Check if average score is 80 or more\n",
    "    ]\n",
    "    \n",
    "    # Sort the student names in alphabetical order\n",
    "    return sorted(filtered_students)\n",
    "sorted_students = filter_and_sort_students(my_students)"
   ]
  },
  {
   "cell_type": "markdown",
   "metadata": {},
   "source": [
    "### Task 3\n",
    "- Write a function named **'get_product_info'** that prompts the user to enter information about a product. The function should ask for the product name, product price, and product quantity. If the user enters an invalid input (e.g., a non-numeric value for the price or quantity), the function should handle the error and prompt the user to enter the value again. Return a dictionary containing the product information."
   ]
  },
  {
   "cell_type": "code",
   "execution_count": null,
   "metadata": {},
   "outputs": [],
   "source": [
    "# write your code here ^_^\n",
    "def get_product_info():\n",
    "    product_name = input('Enter the name of the product: ')\n",
    "    product_price = input('Enter the price of the product: ')\n",
    "    product_quantity = input('Enter the quantity of the product: ')\n",
    "    \n",
    "    return {'name':product_name, 'price': product_price, 'quantity': product_quantity}"
   ]
  },
  {
   "cell_type": "markdown",
   "metadata": {},
   "source": [
    "### Task 4\n",
    "- Write a function named **'get_even_numbers'** that takes a list of integers and returns a list of even numbers using list comprehension."
   ]
  },
  {
   "cell_type": "code",
   "execution_count": 6,
   "metadata": {},
   "outputs": [
    {
     "data": {
      "text/plain": [
       "[2, 4, 6, 8]"
      ]
     },
     "execution_count": 6,
     "metadata": {},
     "output_type": "execute_result"
    }
   ],
   "source": [
    "# write your code here ^_^\n",
    "\n",
    "def get_even_numbers(nums):\n",
    "    return [even for even in nums if even % 2 == 0]\n",
    "\n",
    "\n",
    "old_list = [2, 4, 5, 6, 7, 8, 9]\n",
    "new_list = get_even_numbers(old_list)\n",
    "new_list"
   ]
  },
  {
   "cell_type": "markdown",
   "metadata": {},
   "source": [
    "### Task 5\n",
    "- Write a function named **'pair_elements'** that takes two lists of equal length as parameters and returns a list of tuples, where each tuple contains corresponding elements from the two lists. Use the zip function to achieve this."
   ]
  },
  {
   "cell_type": "markdown",
   "metadata": {},
   "source": []
  },
  {
   "cell_type": "code",
   "execution_count": 10,
   "metadata": {},
   "outputs": [
    {
     "name": "stdout",
     "output_type": "stream",
     "text": [
      "(1, 5)\n",
      "(2, 6)\n",
      "(3, 7)\n",
      "(4, 7)\n",
      "(5, 8)\n",
      "The two lists have different length!\n"
     ]
    }
   ],
   "source": [
    "# write your code here ^_^\n",
    "def pair_elements(list1, list2):\n",
    "    if len(list1) == len(list2):\n",
    "        return zip(list1, list2)\n",
    "    else: \n",
    "        print(\"The two lists have different length!\")\n",
    "\n",
    "list1 = [1, 2, 3, 4, 5]\n",
    "list2 = [5, 6, 7, 7, 8]\n",
    "list3 = [1, 2]\n",
    "\n",
    "for i in pair_elements(list1, list2):\n",
    "    print(i)\n",
    "    \n",
    "pair_elements(list1, list3)"
   ]
  },
  {
   "cell_type": "markdown",
   "metadata": {},
   "source": [
    "### Task 6\n",
    "- Write a function named **'square_dict_lambda'** that takes a list of integers and returns a dictionary where the keys are the integers and the values are their squares. Use a lambda function within a dictionary comprehension to achieve this."
   ]
  },
  {
   "cell_type": "code",
   "execution_count": 14,
   "metadata": {},
   "outputs": [
    {
     "data": {
      "text/plain": [
       "{1: 1, 2: 4, 3: 9, 4: 16}"
      ]
     },
     "execution_count": 14,
     "metadata": {},
     "output_type": "execute_result"
    }
   ],
   "source": [
    "# write your code here ^_^\n",
    "\n",
    "def square_dict_lambda(my_list):\n",
    "    return {value: (lambda x: x**2)(value) for value in my_list}\n",
    "\n",
    "my_list = [1, 2, 3, 4]\n",
    "square_dict_lambda(my_list)"
   ]
  }
 ],
 "metadata": {
  "kernelspec": {
   "display_name": "Python 3 (ipykernel)",
   "language": "python",
   "name": "python3"
  },
  "language_info": {
   "codemirror_mode": {
    "name": "ipython",
    "version": 3
   },
   "file_extension": ".py",
   "mimetype": "text/x-python",
   "name": "python",
   "nbconvert_exporter": "python",
   "pygments_lexer": "ipython3",
   "version": "3.11.4"
  }
 },
 "nbformat": 4,
 "nbformat_minor": 2
}
