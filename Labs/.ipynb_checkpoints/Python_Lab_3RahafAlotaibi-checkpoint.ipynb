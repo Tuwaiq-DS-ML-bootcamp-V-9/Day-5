{
 "cells": [
  {
   "cell_type": "markdown",
   "metadata": {},
   "source": [
    "# Python_Lab_3\n"
   ]
  },
  {
   "cell_type": "markdown",
   "metadata": {},
   "source": [
    "### Task 1\n",
    "- Write a function named **'create_student_records'** that takes a list of tuples. Each tuple contains a student's name and their scores in three subjects. The function should return a list of dictionaries, where each dictionary represents a student with keys: name, subject1, subject2, subject3. Use list comprehension to create the list of dictionaries."
   ]
  },
  {
   "cell_type": "code",
   "execution_count": 62,
   "metadata": {},
   "outputs": [
    {
     "name": "stdout",
     "output_type": "stream",
     "text": [
      "[{'name': 'Layan', 'Subject 1': 99, 'Subject 2': 98, 'Subject 3': 93}, {'name': 'Aya', 'Subject 1': 98, 'Subject 2': 100, 'Subject 3': 94}, {'name': 'Renad', 'Subject 1': 97, 'Subject 2': 89, 'Subject 3': 96}, {'name': 'Yara', 'Subject 1': 77, 'Subject 2': 78, 'Subject 3': 80}]\n",
      "-------------------------------------------------------------------------------------\n",
      "{'name': 'Layan', 'Subject 1': 99, 'Subject 2': 98, 'Subject 3': 93}\n",
      "{'name': 'Aya', 'Subject 1': 98, 'Subject 2': 100, 'Subject 3': 94}\n",
      "{'name': 'Renad', 'Subject 1': 97, 'Subject 2': 89, 'Subject 3': 96}\n",
      "{'name': 'Yara', 'Subject 1': 77, 'Subject 2': 78, 'Subject 3': 80}\n"
     ]
    }
   ],
   "source": [
    "studentsTuple= [(\"Layan\", 99,98,93), \n",
    "               (\"Aya\", 98,100,94),\n",
    "               (\"Renad\", 97,89,96),\n",
    "               (\"Yara\", 77,78,80)]\n",
    "def create_student_records(studentsTuple):\n",
    "    return [{\"name\":name , \"Subject 1\" : s1, \"Subject 2\" : s2, \"Subject 3\": s3}\n",
    "           for name,s1,s2,s3 in studentsTuple ]\n",
    "\n",
    "\n",
    "studentsScores = create_student_records(studentsTuple)\n",
    "print(studentsScores)\n",
    "print(\"-------------------------------------------------------------------------------------\")\n",
    "\n",
    "# for a better layout :)\n",
    "for student in studentsScores:\n",
    "    print(student)"
   ]
  },
  {
   "cell_type": "markdown",
   "metadata": {},
   "source": [
    "### Task 2\n",
    "- Write a function named **'filter_and_sort_students'** that takes the list of dictionaries from Question 1 and returns a sorted list of student names who have an average score of 80 or more across all subjects. Sort the names in alphabetical order."
   ]
  },
  {
   "cell_type": "code",
   "execution_count": 64,
   "metadata": {},
   "outputs": [
    {
     "name": "stdout",
     "output_type": "stream",
     "text": [
      "['Aya', 'Layan', 'Renad']\n"
     ]
    }
   ],
   "source": [
    "\n",
    "def filter_and_sort_students(studentsScores):\n",
    "    filteredStudents = [\n",
    "        student[\"name\"] for student in studentsScores\n",
    "        if (student[\"Subject 1\"] + student[\"Subject 2\"] + student[\"Subject 3\"]) / 3 >= 80 ]\n",
    "    return sorted(filteredStudents)\n",
    "\n",
    "sortedStudents = filter_and_sort_students(studentsScores)\n",
    "print(sortedStudents)"
   ]
  },
  {
   "cell_type": "markdown",
   "metadata": {},
   "source": [
    "### Task 3\n",
    "- Write a function named **'get_product_info'** that prompts the user to enter information about a product. The function should ask for the product name, product price, and product quantity. If the user enters an invalid input (e.g., a non-numeric value for the price or quantity), the function should handle the error and prompt the user to enter the value again. Return a dictionary containing the product information."
   ]
  },
  {
   "cell_type": "code",
   "execution_count": null,
   "metadata": {},
   "outputs": [],
   "source": []
  },
  {
   "cell_type": "code",
   "execution_count": 1,
   "metadata": {},
   "outputs": [
    {
     "name": "stdin",
     "output_type": "stream",
     "text": [
      "Enter product name:  Apple\n",
      "Enter product price:  34.89\n",
      "Enter product quantity:  7\n"
     ]
    },
    {
     "name": "stdout",
     "output_type": "stream",
     "text": [
      "{'Name': 'Apple', 'Price': 34.89, 'Quantity': 7}\n"
     ]
    }
   ],
   "source": [
    "def get_product_info():\n",
    "    \n",
    "    while True:\n",
    "        productName = input(\"Enter product name: \")\n",
    "        \n",
    "        if productName.isalpha():\n",
    "            break\n",
    "        else:\n",
    "            print(\"Invalid input! Please enter a valid product name (letters only).\")\n",
    "    \n",
    "    while True:\n",
    "        try:\n",
    "            productPrice = float(input(\"Enter product price: \"))\n",
    "            break\n",
    "        except ValueError:\n",
    "            print(\"Invalid input! Please enter a valid number for price.\")\n",
    "\n",
    "    while True:\n",
    "        try:\n",
    "            productQuantity = int(input(\"Enter product quantity: \"))\n",
    "            break\n",
    "        except ValueError:\n",
    "            print(\"Invalid input! Please enter a valid integer for quantity.\")\n",
    "    \n",
    "    productInfo = {\n",
    "        \"Name\": productName,\n",
    "        \"Price\": productPrice,\n",
    "        \"Quantity\": productQuantity\n",
    "    }\n",
    "    \n",
    "    return productInfo\n",
    "\n",
    "product = get_product_info()\n",
    "print(product)    "
   ]
  },
  {
   "cell_type": "markdown",
   "metadata": {},
   "source": [
    "### Task 4\n",
    "- Write a function named **'get_even_numbers'** that takes a list of integers and returns a list of even numbers using list comprehension."
   ]
  },
  {
   "cell_type": "code",
   "execution_count": 68,
   "metadata": {},
   "outputs": [
    {
     "name": "stdout",
     "output_type": "stream",
     "text": [
      "[90, 34, 32, 38, 44, 72, 76]\n"
     ]
    }
   ],
   "source": [
    "numbers =[67,90,34,65,32,33,9877,38,49,44,72,76]\n",
    "def get_even_numbers(numbersList):\n",
    "    evenNumbers= [num for num in numbersList if num %2==0 ]\n",
    "    return evenNumbers\n",
    "\n",
    "print(get_even_numbers(numbers))"
   ]
  },
  {
   "cell_type": "markdown",
   "metadata": {},
   "source": [
    "### Task 5\n",
    "- Write a function named **'pair_elements'** that takes two lists of equal length as parameters and returns a list of tuples, where each tuple contains corresponding elements from the two lists. Use the zip function to achieve this."
   ]
  },
  {
   "cell_type": "markdown",
   "metadata": {},
   "source": []
  },
  {
   "cell_type": "code",
   "execution_count": 7,
   "metadata": {},
   "outputs": [
    {
     "name": "stdout",
     "output_type": "stream",
     "text": [
      "[('Rahaf', 22), ('Layan', 18), ('Eillie', 19), ('Reanad', 23)]\n"
     ]
    }
   ],
   "source": [
    "flist=[\"Rahaf\",\"Layan\",\"Eillie\", \"Reanad\"]\n",
    "slist=[22,18,19,23]\n",
    "\n",
    "def pair_elements(L1,L2):\n",
    "    if len(L1) == len(L2):\n",
    "        print(list (zip(L1,L2)))\n",
    "    else: print(\"The lists lenghts are not the same\")\n",
    "\n",
    "\n",
    "pair_elements(flist,slist)"
   ]
  },
  {
   "cell_type": "markdown",
   "metadata": {},
   "source": [
    "### Task 6\n",
    "- Write a function named **'square_dict_lambda'** that takes a list of integers and returns a dictionary where the keys are the integers and the values are their squares. Use a lambda function within a dictionary comprehension to achieve this."
   ]
  },
  {
   "cell_type": "code",
   "execution_count": 72,
   "metadata": {},
   "outputs": [
    {
     "name": "stdout",
     "output_type": "stream",
     "text": [
      "{6: 36, 3: 9, 8: 64, 4: 16}\n"
     ]
    }
   ],
   "source": [
    "\n",
    "\n",
    "def square_dict_lambda(numList):\n",
    "    return {num: (lambda x: x**2)(num) for num in numList}\n",
    "\n",
    "\n",
    "numbersList = [6,3,8,4]\n",
    "result = square_dict_lambda(numbersList)\n",
    "print(result)\n",
    "    "
   ]
  },
  {
   "cell_type": "code",
   "execution_count": null,
   "metadata": {},
   "outputs": [],
   "source": []
  }
 ],
 "metadata": {
  "kernelspec": {
   "display_name": "Python [conda env:base] *",
   "language": "python",
   "name": "conda-base-py"
  },
  "language_info": {
   "codemirror_mode": {
    "name": "ipython",
    "version": 3
   },
   "file_extension": ".py",
   "mimetype": "text/x-python",
   "name": "python",
   "nbconvert_exporter": "python",
   "pygments_lexer": "ipython3",
   "version": "3.12.7"
  }
 },
 "nbformat": 4,
 "nbformat_minor": 4
}
