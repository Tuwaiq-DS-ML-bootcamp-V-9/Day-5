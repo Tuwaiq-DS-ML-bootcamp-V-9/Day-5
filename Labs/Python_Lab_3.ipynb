{
 "cells": [
  {
   "cell_type": "markdown",
   "metadata": {},
   "source": [
    "# Python_Lab_3\n"
   ]
  },
  {
   "cell_type": "markdown",
   "metadata": {},
   "source": [
    "### Task 1\n",
    "- Write a function named **'create_student_records'** that takes a list of tuples. Each tuple contains a student's name and their scores in three subjects. The function should return a list of dictionaries, where each dictionary represents a student with keys: name, subject1, subject2, subject3. Use list comprehension to create the list of dictionaries."
   ]
  },
  {
   "cell_type": "code",
   "execution_count": 46,
   "metadata": {},
   "outputs": [
    {
     "data": {
      "text/plain": [
       "[{'Name': 'Munirah', 'Mathematics': 100, 'Music': 78, 'Science': 98},\n",
       " {'Name': 'Asma', 'Mathematics': 70, 'Music': 90, 'Science': 40},\n",
       " {'Name': 'May', 'Mathematics': 92, 'Music': 50, 'Science': 85}]"
      ]
     },
     "execution_count": 46,
     "metadata": {},
     "output_type": "execute_result"
    }
   ],
   "source": [
    "def create_student_recorsd(studens_info):\n",
    "\n",
    "    student_records = [{'Name':name,'Mathematics':scores[0],'Music':scores[1],'Science':scores[2]} for name, scores in studens_info]\n",
    "    return student_records\n",
    "   \n",
    "\n",
    "students = [\n",
    "    (\"Munirah\", (100, 78, 98)),\n",
    "    (\"Asma\", (70, 90, 40)),\n",
    "    (\"May\", (92, 50, 85))\n",
    "]\n",
    "\n",
    "student_data = create_student_recorsd(students)\n",
    "student_data"
   ]
  },
  {
   "cell_type": "markdown",
   "metadata": {},
   "source": [
    "### Task 2\n",
    "- Write a function named **'filter_and_sort_students'** that takes the list of dictionaries from Question 1 and returns a sorted list of student names who have an average score of 80 or more across all subjects. Sort the names in alphabetical order."
   ]
  },
  {
   "cell_type": "code",
   "execution_count": 44,
   "metadata": {},
   "outputs": [
    {
     "data": {
      "text/plain": [
       "[{'Name': 'Munirah', 'Mathematics': 100, 'Music': 78, 'Science': 98}]"
      ]
     },
     "execution_count": 44,
     "metadata": {},
     "output_type": "execute_result"
    }
   ],
   "source": [
    "def ilter_and_sort_students(studens_info):\n",
    "    \n",
    "    studens_update =[i for i in studens_info if ((i['Mathematics']+i['Music']+i['Science'])/3) >= 80]\n",
    "    return studens_update\n",
    "    \n",
    "student_filter =ilter_and_sort_students(student_data)\n",
    "student_filter"
   ]
  },
  {
   "cell_type": "markdown",
   "metadata": {},
   "source": [
    "### Task 3\n",
    "- Write a function named **'get_product_info'** that prompts the user to enter information about a product. The function should ask for the product name, product price, and product quantity. If the user enters an invalid input (e.g., a non-numeric value for the price or quantity), the function should handle the error and prompt the user to enter the value again. Return a dictionary containing the product information."
   ]
  },
  {
   "cell_type": "code",
   "execution_count": 73,
   "metadata": {},
   "outputs": [
    {
     "name": "stdin",
     "output_type": "stream",
     "text": [
      "Enter the prodact Name: skirt\n",
      "Enter the prodact Price: 80\n",
      "Enter the prodact Quantity: k\n"
     ]
    },
    {
     "name": "stdout",
     "output_type": "stream",
     "text": [
      "Inavliad! : You need to enter number:\n"
     ]
    },
    {
     "name": "stdin",
     "output_type": "stream",
     "text": [
      "Enter the prodact Quantity: 1\n"
     ]
    },
    {
     "data": {
      "text/plain": [
       "{'Nme': 'skirt', 'Price': 80.0, 'Quanity': 1}"
      ]
     },
     "execution_count": 73,
     "metadata": {},
     "output_type": "execute_result"
    }
   ],
   "source": [
    "def get_product_info():\n",
    "\n",
    "    product_info = {}\n",
    "    \n",
    "    product_info['Nme'] = input(\"Enter the prodact Name:\")\n",
    "\n",
    "    \n",
    "    while True:\n",
    "        try:\n",
    "            product_price = float(input(\"Enter the prodact Price:\")) \n",
    "            if product_price < 0: \n",
    "               raise ValueError(\"The Price can't negative\")\n",
    "            product_info['Price'] = product_price\n",
    "            break\n",
    "        except ValueError:\n",
    "            print(\"Inavliad! : You need to enter number:\")\n",
    "    \n",
    "    while True:\n",
    "        try:\n",
    "            product_Quantity = int(input(\"Enter the prodact Quantity:\"))\n",
    "            if product_Quantity <0 :\n",
    "                raise ValueError(\"The Price can't negative\")\n",
    "                \n",
    "            product_info['Quanity']= product_Quantity\n",
    "            break\n",
    "        \n",
    "        except ValueError:\n",
    "            print(\"Inavliad! : You need to enter number:\")\n",
    "    return product_info\n",
    "\n",
    "get_product_info()    "
   ]
  },
  {
   "cell_type": "markdown",
   "metadata": {},
   "source": [
    "### Task 4\n",
    "- Write a function named **'get_even_numbers'** that takes a list of integers and returns a list of even numbers using list comprehension."
   ]
  },
  {
   "cell_type": "code",
   "execution_count": 78,
   "metadata": {},
   "outputs": [
    {
     "name": "stdout",
     "output_type": "stream",
     "text": [
      "[32, 84, 2, 34, 4, 90]\n"
     ]
    }
   ],
   "source": [
    "def get_even_numbers(checked_list):\n",
    "    \n",
    "    even_list = [num for num in  checked_list if num % 2 ==0]\n",
    "    return even_list\n",
    "\n",
    "num_list =[32,65,84,2,34,4,90,53,59]\n",
    "\n",
    "even_list = get_even_numbers(num_list)\n",
    "print(even_list)\n",
    "        "
   ]
  },
  {
   "cell_type": "markdown",
   "metadata": {},
   "source": [
    "### Task 5\n",
    "- Write a function named **'pair_elements'** that takes two lists of equal length as parameters and returns a list of tuples, where each tuple contains corresponding elements from the two lists. Use the zip function to achieve this."
   ]
  },
  {
   "cell_type": "code",
   "execution_count": 80,
   "metadata": {},
   "outputs": [
    {
     "data": {
      "text/plain": [
       "[('Water', 1), ('Bread', 1.5), ('Cheeze', 12), ('Tea', 10)]"
      ]
     },
     "execution_count": 80,
     "metadata": {},
     "output_type": "execute_result"
    }
   ],
   "source": [
    "def pair_elements(procuact,price):\n",
    "    invoice = list(zip(procuact,price))\n",
    "    return invoice\n",
    "\n",
    "prodact_name =['Water','Bread','Cheeze','Tea']\n",
    "prodact_price=[1,1.5,12,10]\n",
    "\n",
    "invoice =pair_elements(prodact_name,prodact_price)\n",
    "\n",
    "invoice"
   ]
  },
  {
   "cell_type": "markdown",
   "metadata": {},
   "source": [
    "### Task 6\n",
    "- Write a function named **'square_dict_lambda'** that takes a list of integers and returns a dictionary where the keys are the integers and the values are their squares. Use a lambda function within a dictionary comprehension to achieve this."
   ]
  },
  {
   "cell_type": "code",
   "execution_count": 88,
   "metadata": {},
   "outputs": [
    {
     "name": "stdout",
     "output_type": "stream",
     "text": [
      "{32: 1024, 65: 4225, 84: 7056, 2: 4, 34: 1156, 4: 16, 90: 8100, 53: 2809, 59: 3481}\n"
     ]
    }
   ],
   "source": [
    "def square_dict_lambda(int_list):\n",
    "    \n",
    "    square_dict = {k: (lambda x:x**2)(k) for k in int_list}\n",
    "    return square_dict\n",
    "\n",
    "intger_list =[32,65,84,2,34,4,90,53,59]\n",
    "square_dict = square_dict_lambda(intger_list)\n",
    "\n",
    "print(square_dict)"
   ]
  }
 ],
 "metadata": {
  "kernelspec": {
   "display_name": "Python 3 (ipykernel)",
   "language": "python",
   "name": "python3"
  },
  "language_info": {
   "codemirror_mode": {
    "name": "ipython",
    "version": 3
   },
   "file_extension": ".py",
   "mimetype": "text/x-python",
   "name": "python",
   "nbconvert_exporter": "python",
   "pygments_lexer": "ipython3",
   "version": "3.12.4"
  }
 },
 "nbformat": 4,
 "nbformat_minor": 4
}
