{
 "cells": [
  {
   "cell_type": "markdown",
   "metadata": {},
   "source": [
    "# Python_Lab_3\n"
   ]
  },
  {
   "cell_type": "markdown",
   "metadata": {},
   "source": [
    "### Task 1\n",
    "- Write a function named **'create_student_records'** that takes a list of tuples. Each tuple contains a student's name and their scores in three subjects. The function should return a list of dictionaries, where each dictionary represents a student with keys: name, subject1, subject2, subject3. Use list comprehension to create the list of dictionaries."
   ]
  },
  {
   "cell_type": "code",
   "execution_count": 5,
   "metadata": {},
   "outputs": [
    {
     "name": "stdout",
     "output_type": "stream",
     "text": [
      "[{'name': 'suliman', 's1': 100, 's2': 80, 's3': 95}, {'name': 'yasser', 's1': 85, 's2': 90, 's3': 98}, {'name': 'moath', 's1': 90, 's2': 99, 's3': 91}]\n",
      "type of x : <class 'list'>\n",
      "type of index: <class 'dict'>\n"
     ]
    }
   ],
   "source": [
    "# write your code here ^_^\n",
    "\n",
    "\n",
    "def create_student_records(Student_list):\n",
    "\n",
    "    return [{\"name\":Nmae, \"s1\":s1, \"s2\":s2 ,\"s3\":s3} for Nmae , s1 ,s2 ,s3 in Student_list ]\n",
    "\n",
    "\n",
    "\n",
    "students = [ (\"suliman\" , 100 , 80 , 95) , (\"yasser\", 85 , 90 , 98) , (\"moath\", 90 , 99, 91)]\n",
    "\n",
    "x = create_student_records(students)\n",
    "print(x)\n",
    "\n",
    "print( \"type of x :\" ,type(x))\n",
    "\n",
    "print(\"type of index:\",type(x[0]))"
   ]
  },
  {
   "cell_type": "markdown",
   "metadata": {},
   "source": [
    "### Task 2\n",
    "- Write a function named **'filter_and_sort_students'** that takes the list of dictionaries from Question 1 and returns a sorted list of student names who have an average score of 80 or more across all subjects. Sort the names in alphabetical order."
   ]
  },
  {
   "cell_type": "code",
   "execution_count": null,
   "metadata": {},
   "outputs": [],
   "source": [
    "def filter_and_sort_students(x):\n",
    "    filt = [students [\"Nmae\"] for students in list_dict  if (list_dict[\"s1\"] + list_dict[\"s2\"] + list_dict[\"s3\"])/3 >= 80]\n",
    "    return filt\n",
    "\n",
    "filter_and_sort_students(x)"
   ]
  },
  {
   "cell_type": "markdown",
   "metadata": {},
   "source": [
    "### Task 3\n",
    "- Write a function named **'get_product_info'** that prompts the user to enter information about a product. The function should ask for the product name, product price, and product quantity. If the user enters an invalid input (e.g., a non-numeric value for the price or quantity), the function should handle the error and prompt the user to enter the value again. Return a dictionary containing the product information."
   ]
  },
  {
   "cell_type": "code",
   "execution_count": 3,
   "metadata": {},
   "outputs": [
    {
     "name": "stdout",
     "output_type": "stream",
     "text": [
      "Enter number \n",
      "Enter number \n",
      "Enter number \n"
     ]
    },
    {
     "data": {
      "text/plain": [
       "{'product name:': 'iphone ', 'price': 100, 'quntity': 1}"
      ]
     },
     "execution_count": 3,
     "metadata": {},
     "output_type": "execute_result"
    }
   ],
   "source": [
    "# write your code here ^_^\n",
    "def get_product_info():\n",
    "\n",
    "    try:\n",
    "        product_name = input(\"Enter peoduct name :\")\n",
    "\n",
    "    except :\n",
    "        print(\"invalid input\")\n",
    "\n",
    "\n",
    "    while True:\n",
    "        try:\n",
    "            product_price = int(input(\"Enter price:\"))\n",
    "            break\n",
    "        except ValueError:\n",
    "            print(\"Enter number \")\n",
    "\n",
    "    while True:\n",
    "        try:\n",
    "            product_quantity = int(input(\"Enter quantity:\"))\n",
    "            break\n",
    "        except ValueError:\n",
    "            print(\"Enter number \")\n",
    "\n",
    "        \n",
    "\n",
    "\n",
    "\n",
    "    product = {\"product name:\":product_name , \"price\":product_price , \"quntity\":product_quantity}\n",
    "\n",
    "\n",
    "    return product\n",
    "\n",
    "get_product_info()\n",
    "\n"
   ]
  },
  {
   "cell_type": "markdown",
   "metadata": {},
   "source": [
    "### Task 4\n",
    "- Write a function named **'get_even_numbers'** that takes a list of integers and returns a list of even numbers using list comprehension."
   ]
  },
  {
   "cell_type": "code",
   "execution_count": 84,
   "metadata": {},
   "outputs": [
    {
     "name": "stdout",
     "output_type": "stream",
     "text": [
      "[2, 4, 6, 8, 10]\n",
      "[100, 292, 398, 3828, 22, 392]\n"
     ]
    }
   ],
   "source": [
    "# write your code here ^_^\n",
    "def get_even_numbers(lst):\n",
    "\n",
    "    even_list = [lst for lst in lst if lst % 2== 0 ]\n",
    "\n",
    "    return even_list\n",
    "\n",
    "my_st = [1 , 2 , 3 , 4 , 5 , 6 , 7 , 8 , 9 , 10]\n",
    "\n",
    "random_list = [100 , 292 , 398 ,3828 ,93 ,22 ,392 ,73 ,93]\n",
    "\n",
    "print(get_even_numbers(my_st))\n",
    "print(get_even_numbers(random_list))\n",
    "\n",
    "\n"
   ]
  },
  {
   "cell_type": "markdown",
   "metadata": {},
   "source": [
    "### Task 5\n",
    "- Write a function named **'pair_elements'** that takes two lists of equal length as parameters and returns a list of tuples, where each tuple contains corresponding elements from the two lists. Use the zip function to achieve this."
   ]
  },
  {
   "cell_type": "markdown",
   "metadata": {},
   "source": []
  },
  {
   "cell_type": "code",
   "execution_count": 87,
   "metadata": {},
   "outputs": [
    {
     "name": "stdout",
     "output_type": "stream",
     "text": [
      "(('Rabigh', 22), ('Riyadh', 12), ('mecca', 27), ('madinah', 18))\n"
     ]
    }
   ],
   "source": [
    "# write your code here ^_^\n",
    "\n",
    "def pair_element(list1 , list2):\n",
    "\n",
    "    ziped = zip(list1 , list2)\n",
    "\n",
    "    return ziped\n",
    "\n",
    "\n",
    "city = [\"Rabigh\" , \"Riyadh\" , \"mecca\" , \"madinah\"]\n",
    "temp = [22 , 12 , 27 , 18]\n",
    "\n",
    "print(tuple(pair_element(city , temp)))\n",
    "\n"
   ]
  },
  {
   "cell_type": "markdown",
   "metadata": {},
   "source": [
    "### Task 6\n",
    "- Write a function named **'square_dict_lambda'** that takes a list of integers and returns a dictionary where the keys are the integers and the values are their squares. Use a lambda function within a dictionary comprehension to achieve this."
   ]
  },
  {
   "cell_type": "code",
   "execution_count": 88,
   "metadata": {},
   "outputs": [
    {
     "name": "stdout",
     "output_type": "stream",
     "text": [
      "{10: 100, 20: 400, 33: 1089, 11: 121, 1: 1, 3: 9, 4: 16}\n"
     ]
    }
   ],
   "source": [
    "# write your code here ^_^\n",
    "\n",
    "def square_dict_lambda(list):\n",
    "\n",
    "    new_dict = {num:(lambda x:x **2) (num) for num in list}\n",
    "\n",
    "    return new_dict\n",
    "\n",
    "\n",
    "\n",
    "number = [10 , 20 , 33 , 11 , 1 , 3 , 4]\n",
    "\n",
    "print(square_dict_lambda(number))\n",
    "\n"
   ]
  }
 ],
 "metadata": {
  "kernelspec": {
   "display_name": "Python 3",
   "language": "python",
   "name": "python3"
  },
  "language_info": {
   "codemirror_mode": {
    "name": "ipython",
    "version": 3
   },
   "file_extension": ".py",
   "mimetype": "text/x-python",
   "name": "python",
   "nbconvert_exporter": "python",
   "pygments_lexer": "ipython3",
   "version": "3.8.1"
  }
 },
 "nbformat": 4,
 "nbformat_minor": 2
}
