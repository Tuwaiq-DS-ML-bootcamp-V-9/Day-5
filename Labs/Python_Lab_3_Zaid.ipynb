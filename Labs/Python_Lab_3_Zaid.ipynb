{
 "cells": [
  {
   "cell_type": "markdown",
   "metadata": {},
   "source": [
    "# Python_Lab_3\n"
   ]
  },
  {
   "cell_type": "markdown",
   "metadata": {},
   "source": [
    "### Task 1\n",
    "- Write a function named **'create_student_records'** that takes a list of tuples. Each tuple contains a student's name and their scores in three subjects. The function should return a list of dictionaries, where each dictionary represents a student with keys: name, subject1, subject2, subject3. Use list comprehension to create the list of dictionaries."
   ]
  },
  {
   "cell_type": "code",
   "execution_count": 7,
   "metadata": {},
   "outputs": [
    {
     "name": "stdout",
     "output_type": "stream",
     "text": [
      "[{'name': 'nasser', 'subject1': 92, 'subject2': 95, 'subject3': 89}, {'name': 'Alice', 'subject1': 85, 'subject2': 90, 'subject3': 98}, {'name': 'zaid', 'subject1': 76, 'subject2': 72, 'subject3': 78}, {'name': 'Saad', 'subject1': 66, 'subject2': 676, 'subject3': 38}]\n"
     ]
    }
   ],
   "source": [
    "# write your code here ^_^\n",
    "students_scores = [\n",
    "    (\"nasser\", 92, 95, 89),\n",
    "    (\"Alice\", 85, 90, 98),\n",
    "    (\"zaid\", 76, 72, 78),\n",
    "    (\"Saad\", 66, 676, 38)\n",
    "]\n",
    "def ceeate_students_scores (students_scores):\n",
    "    return [{ \"name\":Lo[0],\"subject1\":Lo[1],\"subject2\":Lo[2],\"subject3\":Lo[3] } for Lo in students_scores]\n",
    "\n",
    "newdict=ceeate_students_scores(students_scores)\n",
    "print (newdict)\n"
   ]
  },
  {
   "cell_type": "markdown",
   "metadata": {},
   "source": [
    "### Task 2\n",
    "- Write a function named **'filter_and_sort_students'** that takes the list of dictionaries from Question 1 and returns a sorted list of student names who have an average score of 80 or more across all subjects. Sort the names in alphabetical order."
   ]
  },
  {
   "cell_type": "code",
   "execution_count": 8,
   "metadata": {},
   "outputs": [
    {
     "data": {
      "text/plain": [
       "['Alice', 'Saad', 'nasser']"
      ]
     },
     "execution_count": 8,
     "metadata": {},
     "output_type": "execute_result"
    }
   ],
   "source": [
    "# write your code here ^_^\n",
    "\n",
    "def filter_and_sort_students(students_scores):\n",
    "    newlist=[]\n",
    "    for i in students_scores:\n",
    "        n=(i['subject1']+i['subject2']+i['subject1'])/3\n",
    "        if n >= 80:\n",
    "            newlist.append(i['name'])\n",
    "    sortednewlist=sorted(newlist)\n",
    "    return sortednewlist\n",
    "\n",
    "    \n",
    "    \n",
    "filter_and_sort_students(newdict)"
   ]
  },
  {
   "cell_type": "markdown",
   "metadata": {},
   "source": [
    "### Task 3\n",
    "- Write a function named **'get_product_info'** that prompts the user to enter information about a product. The function should ask for the product name, product price, and product quantity. If the user enters an invalid input (e.g., a non-numeric value for the price or quantity), the function should handle the error and prompt the user to enter the value again. Return a dictionary containing the product information."
   ]
  },
  {
   "cell_type": "code",
   "execution_count": 9,
   "metadata": {},
   "outputs": [
    {
     "name": "stdout",
     "output_type": "stream",
     "text": [
      "{'name': 'lfjn', 'price': 34.0, 'quantity': 23}\n"
     ]
    }
   ],
   "source": [
    "# write your code here ^_^\n",
    "def get_product_info():\n",
    "    prdectdict={}\n",
    "\n",
    "    x=True\n",
    "    prodectname=str(input(\"Enter prodect name:\\n\"))\n",
    "    \n",
    "    while x:\n",
    "\n",
    "        try:\n",
    "            prodectprice=float(input(\"Enter prodect price:\\n\"))\n",
    "            if prodectprice <0:\n",
    "                continue\n",
    "            x=False\n",
    "        except ValueError:\n",
    "            print(\"Invalid input! Please enter a numeric value for the price.\")\n",
    "\n",
    "    x=True\n",
    "\n",
    "    while x:\n",
    "\n",
    "        try:\n",
    "            prodectquantity=int(input(\"Enter prodect quantity:\\n\"))\n",
    "            if prodectquantity <0:\n",
    "                continue\n",
    "            x=False\n",
    "        except:\n",
    "            print(\"Invalid input! Please enter a numeric value for the quantity.\")\n",
    "\n",
    "    prdectdict[\"name\"]=prodectname\n",
    "    prdectdict[\"price\"]=prodectprice\n",
    "    prdectdict[\"quantity\"]=prodectquantity      \n",
    "    return prdectdict\n",
    "\n",
    "\n",
    "print(get_product_info())\n",
    "    "
   ]
  },
  {
   "cell_type": "markdown",
   "metadata": {},
   "source": [
    "### Task 4\n",
    "- Write a function named **'get_even_numbers'** that takes a list of integers and returns a list of even numbers using list comprehension."
   ]
  },
  {
   "cell_type": "code",
   "execution_count": 10,
   "metadata": {},
   "outputs": [
    {
     "name": "stdout",
     "output_type": "stream",
     "text": [
      "[2, 44, 12, 4, 34, 32, 42]\n"
     ]
    }
   ],
   "source": [
    "# write your code here ^_^\n",
    "\n",
    "integers=[23,41,43,2,44,12,4,35,33,34,13,32,13,42]\n",
    "\n",
    "def get_even_numbers(listIntegers):\n",
    "    return [i for i in listIntegers if i%2==0]\n",
    "\n",
    "print(get_even_numbers(integers))"
   ]
  },
  {
   "cell_type": "markdown",
   "metadata": {},
   "source": [
    "### Task 5\n",
    "- Write a function named **'pair_elements'** that takes two lists of equal length as parameters and returns a list of tuples, where each tuple contains corresponding elements from the two lists. Use the zip function to achieve this."
   ]
  },
  {
   "cell_type": "markdown",
   "metadata": {},
   "source": []
  },
  {
   "cell_type": "code",
   "execution_count": 11,
   "metadata": {},
   "outputs": [
    {
     "name": "stdout",
     "output_type": "stream",
     "text": [
      "[('zaid', 22), ('nasser', 22), ('saad', 40)]\n"
     ]
    }
   ],
   "source": [
    "# write your code here ^_^\n",
    "name=['zaid','nasser','saad']\n",
    "age=[22,22,40]\n",
    "\n",
    "def pair_elements(L1,L2):\n",
    "    return list(zip(L1,L2))\n",
    "\n",
    "print(pair_elements(name,age))"
   ]
  },
  {
   "cell_type": "markdown",
   "metadata": {},
   "source": [
    "### Task 6\n",
    "- Write a function named **'square_dict_lambda'** that takes a list of integers and returns a dictionary where the keys are the integers and the values are their squares. Use a lambda function within a dictionary comprehension to achieve this."
   ]
  },
  {
   "cell_type": "code",
   "execution_count": 12,
   "metadata": {},
   "outputs": [
    {
     "name": "stdout",
     "output_type": "stream",
     "text": [
      "{1: 1, 2: 4, 3: 9, 4: 16, 5: 25}\n"
     ]
    }
   ],
   "source": [
    "# write your code here ^_^\n",
    "numbers=[1,2,3,4,5]\n",
    "\n",
    "def square_dict_lambda(numbers):\n",
    "    return{n:(lambda x:x**2 )(n)for n in numbers}\n",
    "\n",
    "print(square_dict_lambda(numbers))"
   ]
  }
 ],
 "metadata": {
  "kernelspec": {
   "display_name": "base",
   "language": "python",
   "name": "python3"
  },
  "language_info": {
   "codemirror_mode": {
    "name": "ipython",
    "version": 3
   },
   "file_extension": ".py",
   "mimetype": "text/x-python",
   "name": "python",
   "nbconvert_exporter": "python",
   "pygments_lexer": "ipython3",
   "version": "3.12.7"
  }
 },
 "nbformat": 4,
 "nbformat_minor": 2
}
