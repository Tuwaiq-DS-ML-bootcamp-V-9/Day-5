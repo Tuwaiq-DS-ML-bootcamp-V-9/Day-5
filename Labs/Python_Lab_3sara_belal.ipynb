{
 "cells": [
  {
   "cell_type": "markdown",
   "metadata": {},
   "source": [
    "# Python_Lab_3\n"
   ]
  },
  {
   "cell_type": "markdown",
   "metadata": {},
   "source": [
    "### Task 1\n",
    "- Write a function named **'create_student_records'** that takes a list of tuples. Each tuple contains a student's name and their scores in three subjects. The function should return a list of dictionaries, where each dictionary represents a student with keys: name, subject1, subject2, subject3. Use list comprehension to create the list of dictionaries."
   ]
  },
  {
   "cell_type": "code",
   "execution_count": 1,
   "metadata": {},
   "outputs": [
    {
     "name": "stdout",
     "output_type": "stream",
     "text": [
      "[('sarah', 90, 90, 100), ('ahmed', 86, 90, 95), ('huda', 100, 90, 100)]\n",
      "[{'name': 'sarah', 'math': 90, 'science': 90, 'chemistry': 100}, {'name': 'ahmed', 'math': 86, 'science': 90, 'chemistry': 95}, {'name': 'huda', 'math': 100, 'science': 90, 'chemistry': 100}]\n"
     ]
    }
   ],
   "source": [
    "# write your code here ^_^\n",
    "list_tuples=(\"sarah\", 90,90,100),(\"ahmed\", 86,90,95),(\"huda\", 100,90,100)\n",
    "list_tuples1=list(list_tuples)\n",
    "print(list_tuples1)\n",
    "\n",
    "def create_student_records(list_tuples1):\n",
    "    return [{'name': i[0],'math':i[1],'science':i[2],'chemistry':i[3] } for i in list_tuples1]\n",
    "    \n",
    "\n",
    "struden_record=create_student_records(list_tuples1)\n",
    "\n",
    "print(struden_record)"
   ]
  },
  {
   "cell_type": "markdown",
   "metadata": {},
   "source": [
    "### Task 2\n",
    "- Write a function named **'filter_and_sort_students'** that takes the list of dictionaries from Question 1 and returns a sorted list of student names who have an average score of 80 or more across all subjects. Sort the names in alphabetical order."
   ]
  },
  {
   "cell_type": "code",
   "execution_count": 2,
   "metadata": {},
   "outputs": [
    {
     "name": "stdout",
     "output_type": "stream",
     "text": [
      "['ahmed', 'huda', 'sarah']\n"
     ]
    }
   ],
   "source": [
    "# write your code here ^_^\n",
    "def filter_and_sort_students(struden_record):\n",
    "    return sorted([i['name'] for i in struden_record if (i['subject1']+i['subject2']+i['subject3']) /3 >=80])\n",
    "\n",
    "y=filter_and_sort_students(struden_record)\n",
    "print(y)"
   ]
  },
  {
   "cell_type": "markdown",
   "metadata": {},
   "source": [
    "### Task 3\n",
    "- Write a function named **'get_product_info'** that prompts the user to enter information about a product. The function should ask for the product name, product price, and product quantity. If the user enters an invalid input (e.g., a non-numeric value for the price or quantity), the function should handle the error and prompt the user to enter the value again. Return a dictionary containing the product information."
   ]
  },
  {
   "cell_type": "code",
   "execution_count": 4,
   "metadata": {},
   "outputs": [
    {
     "name": "stdout",
     "output_type": "stream",
     "text": [
      "{'product_name': 'phone', 'product_price': 6000, 'product_quantity': 2}\n"
     ]
    }
   ],
   "source": [
    "# write your code here ^_^\n",
    "def get_product_info():\n",
    "    product_name = input(\"enter the proudict name:\")\n",
    "    while True:\n",
    "        try:\n",
    "            product_price = int(input(\"enter the prodict price \"))\n",
    "            break\n",
    "        except ValueError:\n",
    "            print(\"enter a valid value\")\n",
    "    while True:\n",
    "        try:\n",
    "            product_quantity = int(input(\"Enter the product quantity: \"))\n",
    "            break\n",
    "        except ValueError:\n",
    "            print(\"enter a valid value\")\n",
    "\n",
    "    return { 'product_name':product_name, \n",
    "            'product_price' :product_price,\n",
    "            'product_quantity':product_quantity\n",
    "\n",
    "            }\n",
    "y=get_product_info()\n",
    "print(y)\n"
   ]
  },
  {
   "cell_type": "markdown",
   "metadata": {},
   "source": [
    "### Task 4\n",
    "- Write a function named **'get_even_numbers'** that takes a list of integers and returns a list of even numbers using list comprehension."
   ]
  },
  {
   "cell_type": "code",
   "execution_count": 6,
   "metadata": {},
   "outputs": [
    {
     "name": "stdout",
     "output_type": "stream",
     "text": [
      "[8, 6, 0]\n"
     ]
    }
   ],
   "source": [
    "# write your code here ^_^\n",
    "list_int=[5,7,8,9,6,0]\n",
    "def get_even_numbers(list_int):\n",
    "    return [number for number in list_int if number%2 ==0 ]\n",
    "\n",
    "even_num= get_even_numbers(list_int)\n",
    "print(even_num)\n"
   ]
  },
  {
   "cell_type": "markdown",
   "metadata": {},
   "source": [
    "### Task 5\n",
    "- Write a function named **'pair_elements'** that takes two lists of equal length as parameters and returns a list of tuples, where each tuple contains corresponding elements from the two lists. Use the zip function to achieve this."
   ]
  },
  {
   "cell_type": "markdown",
   "metadata": {},
   "source": []
  },
  {
   "cell_type": "code",
   "execution_count": 7,
   "metadata": {},
   "outputs": [
    {
     "name": "stdout",
     "output_type": "stream",
     "text": [
      "[(1, 5), (2, 6), (3, 7), (4, 8)]\n"
     ]
    }
   ],
   "source": [
    "# write your code here ^_^\n",
    "list_1=[1,2,3,4]\n",
    "list_2=[5,6,7,8]\n",
    "def pair_elements(list_1,list_2):\n",
    "    return list(zip(list_1,list_2))\n",
    "elem=pair_elements(list_1,list_2)\n",
    "print(elem)"
   ]
  },
  {
   "cell_type": "markdown",
   "metadata": {},
   "source": [
    "### Task 6\n",
    "- Write a function named **'square_dict_lambda'** that takes a list of integers and returns a dictionary where the keys are the integers and the values are their squares. Use a lambda function within a dictionary comprehension to achieve this."
   ]
  },
  {
   "cell_type": "code",
   "execution_count": 8,
   "metadata": {},
   "outputs": [
    {
     "name": "stdout",
     "output_type": "stream",
     "text": [
      "{10: 100, 20: 400, 30: 900, 40: 1600, 50: 2500}\n"
     ]
    }
   ],
   "source": [
    "# write your code here ^_^\n",
    "list_int=[10,20,30,40,50]\n",
    "def square_dict_lambda(list_int):\n",
    "    return { key : (lambda val : val**2)(key)  for key in list_int\n",
    "    }\n",
    "res=square_dict_lambda(list_int)\n",
    "print(res)"
   ]
  }
 ],
 "metadata": {
  "kernelspec": {
   "display_name": "Python 3",
   "language": "python",
   "name": "python3"
  },
  "language_info": {
   "codemirror_mode": {
    "name": "ipython",
    "version": 3
   },
   "file_extension": ".py",
   "mimetype": "text/x-python",
   "name": "python",
   "nbconvert_exporter": "python",
   "pygments_lexer": "ipython3",
   "version": "3.9.6"
  }
 },
 "nbformat": 4,
 "nbformat_minor": 2
}
