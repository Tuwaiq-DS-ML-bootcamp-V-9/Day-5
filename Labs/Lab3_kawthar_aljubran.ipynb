{
 "cells": [
  {
   "cell_type": "markdown",
   "metadata": {},
   "source": [
    "# Python_Lab_3\n"
   ]
  },
  {
   "cell_type": "markdown",
   "metadata": {},
   "source": [
    "### Task 1\n",
    "- Write a function named **'create_student_records'** that takes a list of tuples. Each tuple contains a student's name and their scores in three subjects. The function should return a list of dictionaries, where each dictionary represents a student with keys: name, subject1, subject2, subject3. Use list comprehension to create the list of dictionaries."
   ]
  },
  {
   "cell_type": "code",
   "execution_count": 8,
   "metadata": {},
   "outputs": [
    {
     "name": "stdout",
     "output_type": "stream",
     "text": [
      "[{'name': 'kawthar', 'subject1': 90, 'subject2': 78, 'subject3': 89}, {'name': 'walla', 'subject1': 89, 'subject2': 67, 'subject3': 91}, {'name': 'keyan', 'subject1': 90, 'subject2': 99, 'subject3': 98}, {'name': 'mohammed', 'subject1': 66, 'subject2': 88, 'subject3': 77}, {'name': 'omer', 'subject1': 87, 'subject2': 65, 'subject3': 44}, {'name': 'ali', 'subject1': 96, 'subject2': 95, 'subject3': 94}]\n"
     ]
    }
   ],
   "source": [
    "# write your code here ^_^\n",
    "\n",
    "old_list = [\n",
    "    (\"kawthar\", 90, 78, 89),\n",
    "    (\"walla\", 89, 67, 91),\n",
    "    (\"keyan\", 90, 99, 98),\n",
    "    ('mohammed', 66, 88, 77),\n",
    "    ('omer', 87, 65, 44),\n",
    "    ('ali', 96, 95, 94)\n",
    "]\n",
    "\n",
    "def create_student_records(old_list):\n",
    "    new_list = [\n",
    "        {'name': name,  \n",
    "         'subject1': sub1,  \n",
    "         'subject2': sub2, \n",
    "         'subject3': sub3}  \n",
    "        for name, sub1, sub2, sub3 in old_list  \n",
    "    ]\n",
    "    return new_list \n",
    "\n",
    "new_list = create_student_records(old_list)\n",
    "print(new_list)"
   ]
  },
  {
   "cell_type": "markdown",
   "metadata": {},
   "source": [
    "### Task 2\n",
    "- Write a function named **'filter_and_sort_students'** that takes the list of dictionaries from Question 1 and returns a sorted list of student names who have an average score of 80 or more across all subjects. Sort the names in alphabetical order."
   ]
  },
  {
   "cell_type": "code",
   "execution_count": 53,
   "metadata": {},
   "outputs": [
    {
     "name": "stdout",
     "output_type": "stream",
     "text": [
      "['ali', 'kawthar', 'keyan', 'mohammed', 'omer', 'walla']\n"
     ]
    }
   ],
   "source": [
    "# write your code here ^_-^\n",
    "\n",
    "def filter_and_sort_students(students):\n",
    "    names = []\n",
    "    for std in students:\n",
    "        avg = std['subject1']+std['subject2']+std['subject3'] / 3\n",
    "        if avg >= 80:\n",
    "            names.append(std['name'])\n",
    "    names.sort()\n",
    "    return names\n",
    "\n",
    "print(filter_and_sort_students(new_list))\n",
    "        \n",
    "\n",
    "        \n",
    "        "
   ]
  },
  {
   "cell_type": "markdown",
   "metadata": {},
   "source": [
    "### Task 3\n",
    "- Write a function named **'get_product_info'** that prompts the user to enter information about a product. The function should ask for the product name, product price, and product quantity. If the user enters an invalid input (e.g., a non-numeric value for the price or quantity), the function should handle the error and prompt the user to enter the value again. Return a dictionary containing the product information."
   ]
  },
  {
   "cell_type": "code",
   "execution_count": 63,
   "metadata": {},
   "outputs": [
    {
     "name": "stdout",
     "output_type": "stream",
     "text": [
      "Enter product name:  purger\n",
      "Enter product price:  r\n"
     ]
    },
    {
     "name": "stdout",
     "output_type": "stream",
     "text": [
      "Invalid input. Please enter an integer for the price.\n"
     ]
    },
    {
     "name": "stdout",
     "output_type": "stream",
     "text": [
      "Enter product price:  45\n",
      "Enter product quantity:  45\n"
     ]
    },
    {
     "name": "stdout",
     "output_type": "stream",
     "text": [
      "{'product_name': 'purger', 'product_price': 45, 'product_quantity': 45}\n"
     ]
    }
   ],
   "source": [
    "# write your code here ^_^\n",
    "def get_product_info():\n",
    "    product_name = input(\"Enter product name: \")\n",
    "    while True:\n",
    "        try:\n",
    "            product_price = int(input(\"Enter product price: \"))\n",
    "            if type(product_price) == int and product_price ==>= 0:\n",
    "                break\n",
    "            else:\n",
    "                print(\"The entered value is not accepted, try entering a non-negative integer value.\")\n",
    "        except :\n",
    "            print(\"Invalid input. Please enter an integer for the price.\")\n",
    "\n",
    "    product_quantity = int(input(\"Enter product quantity: \"))  # Corrected prompt\n",
    "    while True:\n",
    "        try:\n",
    "            if type(product_quantity) == int and product_quantity >= 0:\n",
    "                break\n",
    "            else:\n",
    "                print(\"The entered value is not accepted, try entering a non-negative integer value.\")\n",
    "        except :\n",
    "            print(\"Invalid input. Please enter an integer for the quantity.\")\n",
    "\n",
    "    product_dic = {  \n",
    "        'product_name': product_name, \n",
    "        'product_price': product_price, \n",
    "        'product_quantity': product_quantity\n",
    "    }\n",
    "    return product_dic  \n",
    "\n",
    "product_info = get_product_info()  \n",
    "print(product_info) "
   ]
  },
  {
   "cell_type": "markdown",
   "metadata": {},
   "source": [
    "### Task 4\n",
    "- Write a function named **'get_even_numbers'** that takes a list of integers and returns a list of even numbers using list comprehension."
   ]
  },
  {
   "cell_type": "code",
   "execution_count": 71,
   "metadata": {},
   "outputs": [
    {
     "data": {
      "text/plain": [
       "[8, 8, 0, 0, 34]"
      ]
     },
     "execution_count": 71,
     "metadata": {},
     "output_type": "execute_result"
    }
   ],
   "source": [
    "# write your code here ^_^\n",
    "lst = [3,57,8,8,9,9,0,0,34]\n",
    "def get_even_numbers(lst1):\n",
    "    str2 = [x for x in lst1 if x %2 == 0]  \n",
    "    return str2\n",
    "get_even_numbers(lst)             "
   ]
  },
  {
   "cell_type": "markdown",
   "metadata": {},
   "source": [
    "### Task 5\n",
    "- Write a function named **'pair_elements'** that takes two lists of equal length as parameters and returns a list of tuples, where each tuple contains corresponding elements from the two lists. Use the zip function to achieve this."
   ]
  },
  {
   "cell_type": "markdown",
   "metadata": {},
   "source": [
    "list_one = [1,3,3,3,3,]\n",
    "def pair_ilemets(lst1,lst2):\n"
   ]
  },
  {
   "cell_type": "code",
   "execution_count": 74,
   "metadata": {},
   "outputs": [
    {
     "name": "stdout",
     "output_type": "stream",
     "text": [
      "[('a', 1), ('b', 2), ('c', 3), ('d', 4)]\n"
     ]
    }
   ],
   "source": [
    "# write your code here ^_^\n",
    "list_one = ['a','b','c','d']\n",
    "def pair_elements(list_one):\n",
    "    \n",
    "    list_two =[1,2,3,4]\n",
    "    list_three = [(x,y) for x,y in zip (list_one,list_two)]\n",
    "    print(list_three)\n",
    "pair_elements(list_one)"
   ]
  },
  {
   "cell_type": "markdown",
   "metadata": {},
   "source": [
    "### Task 6\n",
    "- Write a function named **'square_dict_lambda'** that takes a list of integers and returns a dictionary where the keys are the integers and the values are their squares. Use a lambda function within a dictionary comprehension to achieve this."
   ]
  },
  {
   "cell_type": "code",
   "execution_count": 84,
   "metadata": {},
   "outputs": [
    {
     "name": "stdout",
     "output_type": "stream",
     "text": [
      "{2: 4, 3: 9, 4: 16, 56: 3136, 7: 49, 890: 792100}\n"
     ]
    }
   ],
   "source": [
    "# write your code here ^_^\n",
    "integer_list = [2, 3, 2, 4, 56, 7, 890]\n",
    "\n",
    "def square_dict_lambda(integer_list):\n",
    "    final_list = lambda integer_list: {x: x**2 for x in integer_list}\n",
    "    result = final_list(integer_list)  \n",
    "    return result \n",
    "\n",
    "squared_dictionary = square_dict_lambda(integer_list)\n",
    "print(squared_dictionary)"
   ]
  },
  {
   "cell_type": "code",
   "execution_count": null,
   "metadata": {},
   "outputs": [],
   "source": []
  }
 ],
 "metadata": {
  "kernelspec": {
   "display_name": "Python 3 (ipykernel)",
   "language": "python",
   "name": "python3"
  },
  "language_info": {
   "codemirror_mode": {
    "name": "ipython",
    "version": 3
   },
   "file_extension": ".py",
   "mimetype": "text/x-python",
   "name": "python",
   "nbconvert_exporter": "python",
   "pygments_lexer": "ipython3",
   "version": "3.12.7"
  }
 },
 "nbformat": 4,
 "nbformat_minor": 4
}
